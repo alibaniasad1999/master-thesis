{
 "cells": [
  {
   "cell_type": "code",
   "id": "initial_id",
   "metadata": {
    "collapsed": true,
    "ExecuteTime": {
     "end_time": "2025-07-11T17:00:31.518109Z",
     "start_time": "2025-07-11T17:00:31.471626Z"
    }
   },
   "source": [
    "# Import required libraries for working with mcap files and ROS2 bags\n",
    "import mcap\n",
    "from mcap.reader import make_reader\n",
    "import matplotlib.pyplot as plt\n",
    "import numpy as np\n",
    "import pandas as pd\n",
    "from datetime import datetime\n",
    "import json\n",
    "import os\n",
    "# import seaborn as sns"
   ],
   "outputs": [],
   "execution_count": 7
  },
  {
   "metadata": {
    "ExecuteTime": {
     "end_time": "2025-07-11T17:00:31.784189Z",
     "start_time": "2025-07-11T17:00:31.770686Z"
    }
   },
   "cell_type": "code",
   "source": [
    "# Path to the ROS2 bag file\n",
    "bag_path = 'rosbag2_2025_01_23-19_39_19/rosbag2_2025_01_23-19_39_19_0.mcap'\n"
   ],
   "id": "14f21f9db4ab5ea0",
   "outputs": [],
   "execution_count": 8
  },
  {
   "metadata": {
    "ExecuteTime": {
     "end_time": "2025-07-11T17:00:32.140683Z",
     "start_time": "2025-07-11T17:00:31.928069Z"
    }
   },
   "cell_type": "code",
   "source": [
    "# Updated function to read MCAP file and extract message data\n",
    "def read_mcap_file(file_path):\n",
    "    \"\"\"Read an MCAP file and return a dictionary of topic data.\"\"\"\n",
    "\n",
    "    # Create a dictionary to store messages by topic\n",
    "    topics_data = {}\n",
    "\n",
    "    # Open the MCAP file\n",
    "    with open(file_path, 'rb') as f:\n",
    "        # Create a reader for the MCAP file\n",
    "        reader = make_reader(f)\n",
    "\n",
    "        # Read through the messages to build topic data\n",
    "        for schema, channel, message in reader.iter_messages():\n",
    "            topic = channel.topic\n",
    "\n",
    "            # Initialize dictionary entry for this topic if it doesn't exist\n",
    "            if topic not in topics_data:\n",
    "                topics_data[topic] = {\n",
    "                    'timestamps': [],\n",
    "                    'messages': [],\n",
    "                    'message_type': channel.message_encoding\n",
    "                }\n",
    "\n",
    "            # Convert timestamp from nanoseconds to seconds\n",
    "            timestamp = message.log_time / 1e9\n",
    "\n",
    "            # Store the timestamp and message\n",
    "            topics_data[topic]['timestamps'].append(timestamp)\n",
    "            topics_data[topic]['messages'].append(message.data)\n",
    "\n",
    "    # Convert timestamps to NumPy arrays for easier processing\n",
    "    for topic in topics_data:\n",
    "        topics_data[topic]['timestamps'] = np.array(topics_data[topic]['timestamps'])\n",
    "\n",
    "        # Normalize timestamps to start at 0\n",
    "        if len(topics_data[topic]['timestamps']) > 0:\n",
    "            start_time = topics_data[topic]['timestamps'][0]\n",
    "            topics_data[topic]['timestamps'] = topics_data[topic]['timestamps'] - start_time\n",
    "\n",
    "    return topics_data\n"
   ],
   "id": "152cf99d41d4635e",
   "outputs": [],
   "execution_count": 9
  },
  {
   "metadata": {
    "ExecuteTime": {
     "end_time": "2025-07-11T17:00:32.620597Z",
     "start_time": "2025-07-11T17:00:32.393595Z"
    }
   },
   "cell_type": "code",
   "source": [
    "# Load data from the MCAP file\n",
    "print(f\"Reading bag file: {bag_path}\")\n",
    "topics_data = read_mcap_file(bag_path)\n",
    "\n",
    "# Display available topics\n",
    "print(\"\\nAvailable topics:\")\n",
    "for topic_name, data in topics_data.items():\n",
    "    msg_count = len(data['messages'])\n",
    "    msg_type = data['message_type']\n",
    "    print(f\"  - {topic_name} ({msg_count} messages, type: {msg_type})\")\n"
   ],
   "id": "1a2ad1424ba792f7",
   "outputs": [
    {
     "name": "stdout",
     "output_type": "stream",
     "text": [
      "Reading bag file: rosbag2_2025_01_23-19_39_19/rosbag2_2025_01_23-19_39_19_0.mcap\n",
      "\n",
      "Available topics:\n",
      "  - /velocity (14 messages, type: cdr)\n"
     ]
    }
   ],
   "execution_count": 10
  },
  {
   "metadata": {
    "ExecuteTime": {
     "end_time": "2025-07-11T17:00:32.847944Z",
     "start_time": "2025-07-11T17:00:32.825237Z"
    }
   },
   "cell_type": "code",
   "source": [
    "# Helper function to parse message based on common ROS2 message types\n",
    "def parse_message(msg_data, msg_type):\n",
    "    \"\"\"Parse binary message data based on the message type.\"\"\"\n",
    "\n",
    "    # For JSON-encoded messages\n",
    "    if 'json' in msg_type.lower():\n",
    "        try:\n",
    "            return json.loads(msg_data.decode('utf-8'))\n",
    "        except:\n",
    "            print(f\"Failed to decode JSON message\")\n",
    "            return None\n",
    "\n",
    "    # For other common message types, you might need to implement specific parsers\n",
    "    # For now, we'll just try to decode as UTF-8 string\n",
    "    try:\n",
    "        return msg_data.decode('utf-8')\n",
    "    except:\n",
    "        print(f\"Cannot decode message of type {msg_type}, returning raw bytes\")\n",
    "        return msg_data\n"
   ],
   "id": "10b105518ca05e30",
   "outputs": [],
   "execution_count": 11
  },
  {
   "metadata": {
    "ExecuteTime": {
     "end_time": "2025-07-11T17:00:33.093966Z",
     "start_time": "2025-07-11T17:00:33.058236Z"
    }
   },
   "cell_type": "code",
   "source": [
    "# Function to extract numeric data from messages for plotting\n",
    "def extract_numeric_data(topic_data, field_paths=None):\n",
    "    \"\"\"\n",
    "    Extract numeric data from messages for plotting.\n",
    "\n",
    "    Parameters:\n",
    "    - topic_data: Data for a specific topic\n",
    "    - field_paths: List of field paths to extract (e.g., ['linear.x', 'angular.z'])\n",
    "                  If None, will attempt to extract all numeric fields\n",
    "\n",
    "    Returns:\n",
    "    - DataFrame with timestamps and extracted data\n",
    "    \"\"\"\n",
    "    timestamps = topic_data['timestamps']\n",
    "    messages = topic_data['messages']\n",
    "    msg_type = topic_data['message_type']\n",
    "\n",
    "    # Dictionary to store extracted values\n",
    "    data_dict = {'timestamp': timestamps}\n",
    "\n",
    "    # Process each message\n",
    "    for i, msg_data in enumerate(messages):\n",
    "        # Parse the message\n",
    "        msg = parse_message(msg_data, msg_type)\n",
    "\n",
    "        if msg is None:\n",
    "            continue\n",
    "\n",
    "        # If field_paths is provided, extract those specific fields\n",
    "        if field_paths:\n",
    "            for path in field_paths:\n",
    "                # Split the path into components\n",
    "                components = path.split('.')\n",
    "\n",
    "                # Navigate through the message structure\n",
    "                value = msg\n",
    "                for comp in components:\n",
    "                    if isinstance(value, dict) and comp in value:\n",
    "                        value = value[comp]\n",
    "                    else:\n",
    "                        value = None\n",
    "                        break\n",
    "\n",
    "                # Store the value if it's numeric\n",
    "                if isinstance(value, (int, float)):\n",
    "                    if path not in data_dict:\n",
    "                        data_dict[path] = np.zeros(len(messages)) * np.nan\n",
    "                    data_dict[path][i] = value\n",
    "\n",
    "        # If no field_paths, attempt to extract all numeric fields at the top level\n",
    "        else:\n",
    "            if isinstance(msg, dict):\n",
    "                for key, value in msg.items():\n",
    "                    if isinstance(value, (int, float)):\n",
    "                        if key not in data_dict:\n",
    "                            data_dict[key] = np.zeros(len(messages)) * np.nan\n",
    "                        data_dict[key][i] = value\n",
    "\n",
    "    # Create a DataFrame from the extracted data\n",
    "    df = pd.DataFrame(data_dict)\n",
    "    return df\n"
   ],
   "id": "aacff673581a1ffa",
   "outputs": [],
   "execution_count": 12
  },
  {
   "metadata": {
    "ExecuteTime": {
     "end_time": "2025-07-11T17:00:33.313462Z",
     "start_time": "2025-07-11T17:00:33.262037Z"
    }
   },
   "cell_type": "code",
   "source": [
    "# Example: Let's try to extract and plot data from a topic\n",
    "# Note: You'll need to select a topic from your bag file that contains numeric data\n",
    "\n",
    "# First, let's select a topic to plot (update this to a topic from your bag file)\n",
    "# For example, if you have a topic with IMU or odometry data:\n",
    "target_topics = []\n",
    "\n",
    "# Find topics that likely contain numeric data based on naming conventions\n",
    "for topic in topics_data.keys():\n",
    "    if any(hint in topic.lower() for hint in ['imu', 'odom', 'twist', 'pose', 'joint', 'vel', 'accel']):\n",
    "        target_topics.append(topic)\n",
    "\n",
    "if not target_topics:\n",
    "    # If no suitable topics found, just take the first one with messages\n",
    "    for topic, data in topics_data.items():\n",
    "        if len(data['messages']) > 0:\n",
    "            target_topics.append(topic)\n",
    "            break\n",
    "\n",
    "print(f\"Selected topics for plotting: {target_topics}\")\n"
   ],
   "id": "11e9e6448f3bebba",
   "outputs": [
    {
     "name": "stdout",
     "output_type": "stream",
     "text": [
      "Selected topics for plotting: ['/velocity']\n"
     ]
    }
   ],
   "execution_count": 13
  },
  {
   "metadata": {
    "ExecuteTime": {
     "end_time": "2025-07-11T17:00:33.858942Z",
     "start_time": "2025-07-11T17:00:33.604235Z"
    }
   },
   "cell_type": "code",
   "source": [
    "# Plot data from selected topics\n",
    "for topic in target_topics:\n",
    "    if topic not in topics_data or len(topics_data[topic]['messages']) == 0:\n",
    "        print(f\"No data available for topic: {topic}\")\n",
    "        continue\n",
    "\n",
    "    print(f\"Plotting data from topic: {topic}\")\n",
    "\n",
    "    # Try to extract numeric data without specifying fields first\n",
    "    df = extract_numeric_data(topics_data[topic])\n",
    "\n",
    "    # If no numeric data was found, try some common field paths\n",
    "    if len(df.columns) <= 1:  # Only timestamp column means no data was extracted\n",
    "        print(\"  No numeric fields found at top level, trying common field paths...\")\n",
    "        common_paths = [\n",
    "            'linear.x', 'linear.y', 'linear.z',\n",
    "            'angular.x', 'angular.y', 'angular.z',\n",
    "            'position.x', 'position.y', 'position.z',\n",
    "            'orientation.x', 'orientation.y', 'orientation.z', 'orientation.w',\n",
    "            'data'  # For simple messages with a single 'data' field\n",
    "        ]\n",
    "        df = extract_numeric_data(topics_data[topic], common_paths)\n",
    "\n",
    "    # Plot the data\n",
    "    if len(df.columns) > 1:  # Check if we have data to plot\n",
    "        plt.figure(figsize=(12, 6))\n",
    "\n",
    "        # Plot each data column\n",
    "        for column in df.columns:\n",
    "            if column != 'timestamp' and not df[column].isnull().all():\n",
    "                plt.plot(df['timestamp'], df[column], label=column)\n",
    "\n",
    "        plt.title(f\"Data from {topic}\")\n",
    "        plt.xlabel(\"Time (seconds)\")\n",
    "        plt.ylabel(\"Value\")\n",
    "        plt.legend()\n",
    "        plt.grid(True)\n",
    "        plt.tight_layout()\n",
    "        plt.show()\n",
    "    else:\n",
    "        print(f\"  No numeric data could be extracted from {topic}\")\n"
   ],
   "id": "2f4e067097a5b2a6",
   "outputs": [
    {
     "name": "stdout",
     "output_type": "stream",
     "text": [
      "Plotting data from topic: /velocity\n",
      "Cannot decode message of type cdr, returning raw bytes\n",
      "Cannot decode message of type cdr, returning raw bytes\n",
      "Cannot decode message of type cdr, returning raw bytes\n",
      "Cannot decode message of type cdr, returning raw bytes\n",
      "Cannot decode message of type cdr, returning raw bytes\n",
      "Cannot decode message of type cdr, returning raw bytes\n",
      "Cannot decode message of type cdr, returning raw bytes\n",
      "Cannot decode message of type cdr, returning raw bytes\n",
      "Cannot decode message of type cdr, returning raw bytes\n",
      "Cannot decode message of type cdr, returning raw bytes\n",
      "Cannot decode message of type cdr, returning raw bytes\n",
      "Cannot decode message of type cdr, returning raw bytes\n",
      "Cannot decode message of type cdr, returning raw bytes\n",
      "Cannot decode message of type cdr, returning raw bytes\n",
      "  No numeric fields found at top level, trying common field paths...\n",
      "Cannot decode message of type cdr, returning raw bytes\n",
      "Cannot decode message of type cdr, returning raw bytes\n",
      "Cannot decode message of type cdr, returning raw bytes\n",
      "Cannot decode message of type cdr, returning raw bytes\n",
      "Cannot decode message of type cdr, returning raw bytes\n",
      "Cannot decode message of type cdr, returning raw bytes\n",
      "Cannot decode message of type cdr, returning raw bytes\n",
      "Cannot decode message of type cdr, returning raw bytes\n",
      "Cannot decode message of type cdr, returning raw bytes\n",
      "Cannot decode message of type cdr, returning raw bytes\n",
      "Cannot decode message of type cdr, returning raw bytes\n",
      "Cannot decode message of type cdr, returning raw bytes\n",
      "Cannot decode message of type cdr, returning raw bytes\n",
      "Cannot decode message of type cdr, returning raw bytes\n",
      "  No numeric data could be extracted from /velocity\n"
     ]
    }
   ],
   "execution_count": 14
  },
  {
   "metadata": {
    "ExecuteTime": {
     "end_time": "2025-07-11T17:00:34.282352Z",
     "start_time": "2025-07-11T17:00:34.236562Z"
    }
   },
   "cell_type": "code",
   "source": [
    "# Function to visualize message frequency\n",
    "def plot_message_frequency(topics_data, selected_topics=None):\n",
    "    \"\"\"\n",
    "    Plot message frequency over time for selected topics.\n",
    "    \"\"\"\n",
    "    if selected_topics is None:\n",
    "        # Select top N topics with the most messages\n",
    "        topic_counts = [(topic, len(data['messages'])) for topic, data in topics_data.items()]\n",
    "        topic_counts.sort(key=lambda x: x[1], reverse=True)\n",
    "        selected_topics = [topic for topic, count in topic_counts[:5]]  # Top 5 topics\n",
    "\n",
    "    plt.figure(figsize=(12, 6))\n",
    "\n",
    "    for topic in selected_topics:\n",
    "        if topic in topics_data and len(topics_data[topic]['timestamps']) > 0:\n",
    "            timestamps = topics_data[topic]['timestamps']\n",
    "\n",
    "            # Calculate time differences between consecutive messages\n",
    "            time_diffs = np.diff(timestamps)\n",
    "\n",
    "            # Calculate instantaneous frequency (1/dt)\n",
    "            frequencies = 1.0 / time_diffs\n",
    "\n",
    "            # Plot frequencies over time\n",
    "            plt.plot(timestamps[1:], frequencies, label=topic, alpha=0.7)\n",
    "\n",
    "    plt.title(\"Message Frequency Over Time\")\n",
    "    plt.xlabel(\"Time (seconds)\")\n",
    "    plt.ylabel(\"Frequency (Hz)\")\n",
    "    plt.legend()\n",
    "    plt.grid(True)\n",
    "    plt.tight_layout()\n",
    "    plt.show()\n"
   ],
   "id": "24225b637e5690ae",
   "outputs": [],
   "execution_count": 15
  },
  {
   "metadata": {
    "ExecuteTime": {
     "end_time": "2025-07-11T17:00:38.127032Z",
     "start_time": "2025-07-11T17:00:34.581468Z"
    }
   },
   "cell_type": "code",
   "source": [
    "# Plot message frequencies for top topics\n",
    "plot_message_frequency(topics_data)\n"
   ],
   "id": "fc019a669b4f0196",
   "outputs": [
    {
     "data": {
      "text/plain": [
       "<Figure size 1200x600 with 1 Axes>"
      ],
      "image/png": "[encoded data removed]"
     },
     "metadata": {},
     "output_type": "display_data"
    }
   ],
   "execution_count": 16
  },
  {
   "metadata": {
    "ExecuteTime": {
     "end_time": "2025-07-11T17:00:38.306168Z",
     "start_time": "2025-07-11T17:00:38.278760Z"
    }
   },
   "cell_type": "code",
   "source": [
    "# Optional: Plot timeline of when messages were received\n",
    "def plot_message_timeline(topics_data):\n",
    "    \"\"\"\n",
    "    Plot a timeline showing when messages were received on different topics.\n",
    "    \"\"\"\n",
    "    # Get topics sorted by total message count\n",
    "    topic_counts = [(topic, len(data['messages'])) for topic, data in topics_data.items()]\n",
    "    topic_counts.sort(key=lambda x: x[1], reverse=True)\n",
    "\n",
    "    # Take top N topics with the most messages\n",
    "    top_n = min(10, len(topic_counts))\n",
    "    selected_topics = [topic for topic, _ in topic_counts[:top_n]]\n",
    "\n",
    "    plt.figure(figsize=(15, 8))\n",
    "\n",
    "    # Plot each topic's timestamps\n",
    "    for i, topic in enumerate(selected_topics):\n",
    "        timestamps = topics_data[topic]['timestamps']\n",
    "        plt.scatter(timestamps, [i] * len(timestamps), marker='|', s=10, label=topic)\n",
    "\n",
    "    plt.yticks(range(len(selected_topics)), selected_topics)\n",
    "    plt.xlabel(\"Time (seconds)\")\n",
    "    plt.title(\"Message Timeline by Topic\")\n",
    "    plt.grid(True, axis='x')\n",
    "    plt.tight_layout()\n",
    "    plt.show()\n"
   ],
   "id": "b266305133558f9e",
   "outputs": [],
   "execution_count": 17
  },
  {
   "metadata": {
    "ExecuteTime": {
     "end_time": "2025-07-11T17:00:39.194059Z",
     "start_time": "2025-07-11T17:00:38.355843Z"
    }
   },
   "cell_type": "code",
   "source": [
    "# Plot the message timeline\n",
    "plot_message_timeline(topics_data)\n"
   ],
   "id": "2b7f8226e22f5071",
   "outputs": [
    {
     "data": {
      "text/plain": [
       "<Figure size 1500x800 with 1 Axes>"
      ],
      "image/png": "[encoded data removed]"
     },
     "metadata": {},
     "output_type": "display_data"
    }
   ],
   "execution_count": 18
  },
  {
   "metadata": {
    "ExecuteTime": {
     "end_time": "2025-07-11T17:00:39.390354Z",
     "start_time": "2025-07-11T17:00:39.354211Z"
    }
   },
   "cell_type": "code",
   "source": [
    "# Optional: Create a 2D trajectory plot if position data is available\n",
    "def plot_2d_trajectory(topics_data):\n",
    "    \"\"\"\n",
    "    Attempt to create a 2D trajectory plot if position data is available.\n",
    "    \"\"\"\n",
    "    # Look for topics that might contain position data\n",
    "    position_topics = []\n",
    "    for topic in topics_data.keys():\n",
    "        if any(hint in topic.lower() for hint in ['pose', 'odom', 'position', 'path']):\n",
    "            position_topics.append(topic)\n",
    "\n",
    "    if not position_topics:\n",
    "        print(\"No position-related topics found\")\n",
    "        return\n",
    "\n",
    "    for topic in position_topics:\n",
    "        print(f\"Attempting to extract position data from: {topic}\")\n",
    "\n",
    "        # Try common field paths for position data\n",
    "        position_paths = [\n",
    "            'pose.position.x', 'pose.position.y',\n",
    "            'position.x', 'position.y',\n",
    "            'x', 'y'\n",
    "        ]\n",
    "\n",
    "        df = extract_numeric_data(topics_data[topic], position_paths)\n",
    "\n",
    "        # Check if we have x and y data\n",
    "        x_col = next((col for col in df.columns if col.endswith('.x') or col == 'x'), None)\n",
    "        y_col = next((col for col in df.columns if col.endswith('.y') or col == 'y'), None)\n",
    "\n",
    "        if x_col and y_col and not df[x_col].isnull().all() and not df[y_col].isnull().all():\n",
    "            plt.figure(figsize=(10, 10))\n",
    "            plt.plot(df[x_col], df[y_col])\n",
    "            plt.title(f\"2D Trajectory from {topic}\")\n",
    "            plt.xlabel(\"X Position\")\n",
    "            plt.ylabel(\"Y Position\")\n",
    "            plt.axis('equal')\n",
    "            plt.grid(True)\n",
    "            plt.tight_layout()\n",
    "            plt.show()\n",
    "            break\n",
    "    else:\n",
    "        print(\"Could not find suitable position data for trajectory plotting\")\n"
   ],
   "id": "e0fc73c0082ef12f",
   "outputs": [],
   "execution_count": 19
  },
  {
   "metadata": {
    "ExecuteTime": {
     "end_time": "2025-07-11T17:00:39.481923Z",
     "start_time": "2025-07-11T17:00:39.464245Z"
    }
   },
   "cell_type": "code",
   "source": [
    "# Try to plot a 2D trajectory\n",
    "plot_2d_trajectory(topics_data)\n"
   ],
   "id": "ebc2d6a941d953d0",
   "outputs": [
    {
     "name": "stdout",
     "output_type": "stream",
     "text": [
      "No position-related topics found\n"
     ]
    }
   ],
   "execution_count": 20
  }
 ],
 "metadata": {
  "kernelspec": {
   "display_name": ".env",
   "language": "python",
   "name": "python3"
  },
  "language_info": {
   "codemirror_mode": {
    "name": "ipython",
    "version": 3
   },
   "file_extension": ".py",
   "mimetype": "text/x-python",
   "name": "python",
   "nbconvert_exporter": "python",
   "pygments_lexer": "ipython3",
   "version": "3.11.3"
  }
 },
 "nbformat": 4,
 "nbformat_minor": 5
}
