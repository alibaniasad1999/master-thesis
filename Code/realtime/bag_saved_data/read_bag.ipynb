{
 "cells": [
  {
   "cell_type": "code",
   "execution_count": null,
   "id": "initial_id",
   "metadata": {
    "collapsed": true
   },
   "outputs": [],
   "source": [
    "from mcap.reader import make_reader\n",
    "from mcap_r"
   ]
  },
  {
   "metadata": {
    "ExecuteTime": {
     "end_time": "2025-01-23T17:05:59.904669Z",
     "start_time": "2025-01-23T17:05:59.868001Z"
    }
   },
   "cell_type": "code",
   "source": "bag_path = 'rosbag2_2025_01_23-19_39_19/rosbag2_2025_01_23-19_39_19_0.mcap'",
   "id": "cc8e735636b4285b",
   "outputs": [],
   "execution_count": 1
  },
  {
   "metadata": {
    "ExecuteTime": {
     "end_time": "2025-01-23T17:07:05.445989Z",
     "start_time": "2025-01-23T17:07:05.360906Z"
    }
   },
   "cell_type": "code",
   "source": [
    "import sqlite3\n",
    "import json\n",
    "\n",
    "def read_rosbag(bag_file_path):\n",
    "    # Open the rosbag SQLite database\n",
    "    conn = sqlite3.connect(bag_file_path)\n",
    "    cursor = conn.cursor()\n",
    "\n",
    "    # List all the tables in the bag file (for exploration purposes)\n",
    "    cursor.execute(\"SELECT name FROM sqlite_master WHERE type='table';\")\n",
    "    tables = cursor.fetchall()\n",
    "    print(f\"Tables in the bag file: {tables}\")\n",
    "\n",
    "    # Read the metadata table for more info\n",
    "    cursor.execute(\"SELECT * FROM metadata;\")\n",
    "    metadata = cursor.fetchall()\n",
    "    print(f\"Metadata: {metadata}\")\n",
    "\n",
    "    # Read the messages from the 'message' table\n",
    "    cursor.execute(\"SELECT * FROM messages LIMIT 5;\")  # Limit to first 5 messages for example\n",
    "    messages = cursor.fetchall()\n",
    "\n",
    "    # Assuming the messages are stored in JSON format (common in ROS2 bags)\n",
    "    for message in messages:\n",
    "        # The payload is often stored in a serialized format like JSON in the bag file\n",
    "        print(f\"Message: {json.loads(message[3])}\")  # Example: message[3] contains the data\n",
    "\n",
    "    # Close the connection\n",
    "    conn.close()\n",
    "\n",
    "if __name__ == \"__main__\":\n",
    "    # Specify the path to your rosbag file\n",
    "    bag_file = bag_path\n",
    "    read_rosbag(bag_file)\n"
   ],
   "id": "d8021db7f639ffe5",
   "outputs": [
    {
     "ename": "DatabaseError",
     "evalue": "file is not a database",
     "output_type": "error",
     "traceback": [
      "\u001B[0;31m---------------------------------------------------------------------------\u001B[0m",
      "\u001B[0;31mDatabaseError\u001B[0m                             Traceback (most recent call last)",
      "Cell \u001B[0;32mIn[3], line 34\u001B[0m\n\u001B[1;32m     31\u001B[0m \u001B[38;5;28;01mif\u001B[39;00m \u001B[38;5;18m__name__\u001B[39m \u001B[38;5;241m==\u001B[39m \u001B[38;5;124m\"\u001B[39m\u001B[38;5;124m__main__\u001B[39m\u001B[38;5;124m\"\u001B[39m:\n\u001B[1;32m     32\u001B[0m     \u001B[38;5;66;03m# Specify the path to your rosbag file\u001B[39;00m\n\u001B[1;32m     33\u001B[0m     bag_file \u001B[38;5;241m=\u001B[39m bag_path\n\u001B[0;32m---> 34\u001B[0m     \u001B[43mread_rosbag\u001B[49m\u001B[43m(\u001B[49m\u001B[43mbag_file\u001B[49m\u001B[43m)\u001B[49m\n",
      "Cell \u001B[0;32mIn[3], line 10\u001B[0m, in \u001B[0;36mread_rosbag\u001B[0;34m(bag_file_path)\u001B[0m\n\u001B[1;32m      7\u001B[0m cursor \u001B[38;5;241m=\u001B[39m conn\u001B[38;5;241m.\u001B[39mcursor()\n\u001B[1;32m      9\u001B[0m \u001B[38;5;66;03m# List all the tables in the bag file (for exploration purposes)\u001B[39;00m\n\u001B[0;32m---> 10\u001B[0m \u001B[43mcursor\u001B[49m\u001B[38;5;241;43m.\u001B[39;49m\u001B[43mexecute\u001B[49m\u001B[43m(\u001B[49m\u001B[38;5;124;43m\"\u001B[39;49m\u001B[38;5;124;43mSELECT name FROM sqlite_master WHERE type=\u001B[39;49m\u001B[38;5;124;43m'\u001B[39;49m\u001B[38;5;124;43mtable\u001B[39;49m\u001B[38;5;124;43m'\u001B[39;49m\u001B[38;5;124;43m;\u001B[39;49m\u001B[38;5;124;43m\"\u001B[39;49m\u001B[43m)\u001B[49m\n\u001B[1;32m     11\u001B[0m tables \u001B[38;5;241m=\u001B[39m cursor\u001B[38;5;241m.\u001B[39mfetchall()\n\u001B[1;32m     12\u001B[0m \u001B[38;5;28mprint\u001B[39m(\u001B[38;5;124mf\u001B[39m\u001B[38;5;124m\"\u001B[39m\u001B[38;5;124mTables in the bag file: \u001B[39m\u001B[38;5;132;01m{\u001B[39;00mtables\u001B[38;5;132;01m}\u001B[39;00m\u001B[38;5;124m\"\u001B[39m)\n",
      "\u001B[0;31mDatabaseError\u001B[0m: file is not a database"
     ]
    }
   ],
   "execution_count": 3
  },
  {
   "metadata": {
    "ExecuteTime": {
     "end_time": "2025-01-23T17:07:46.070498Z",
     "start_time": "2025-01-23T17:07:46.002104Z"
    }
   },
   "cell_type": "code",
   "source": [
    "import mcap\n",
    "\n",
    "def read_mcap(mcap_file_path):\n",
    "    # Open the MCAP file\n",
    "    with open(mcap_file_path, \"rb\") as f:\n",
    "        reader = mcap.Reader(f)\n",
    "\n",
    "        # Iterate through the messages in the MCAP file\n",
    "        for record in reader.records():\n",
    "            # The record contains the topic, timestamp, and payload (message data)\n",
    "            topic = record.topic\n",
    "            timestamp = record.timestamp\n",
    "            message = record.message\n",
    "\n",
    "            # Print out the topic, timestamp, and the message (or part of it)\n",
    "            print(f\"Topic: {topic}, Timestamp: {timestamp}\")\n",
    "            print(f\"Message: {message}\")\n",
    "            print(\"-\" * 50)\n",
    "\n",
    "if __name__ == \"__main__\":\n",
    "    # Replace with the path to your MCAP file\n",
    "    mcap_file = bag_file\n",
    "    read_mcap(mcap_file)\n"
   ],
   "id": "842aaa5c4780c608",
   "outputs": [
    {
     "ename": "AttributeError",
     "evalue": "module 'mcap' has no attribute 'Reader'",
     "output_type": "error",
     "traceback": [
      "\u001B[0;31m---------------------------------------------------------------------------\u001B[0m",
      "\u001B[0;31mAttributeError\u001B[0m                            Traceback (most recent call last)",
      "Cell \u001B[0;32mIn[4], line 23\u001B[0m\n\u001B[1;32m     20\u001B[0m \u001B[38;5;28;01mif\u001B[39;00m \u001B[38;5;18m__name__\u001B[39m \u001B[38;5;241m==\u001B[39m \u001B[38;5;124m\"\u001B[39m\u001B[38;5;124m__main__\u001B[39m\u001B[38;5;124m\"\u001B[39m:\n\u001B[1;32m     21\u001B[0m     \u001B[38;5;66;03m# Replace with the path to your MCAP file\u001B[39;00m\n\u001B[1;32m     22\u001B[0m     mcap_file \u001B[38;5;241m=\u001B[39m bag_file\n\u001B[0;32m---> 23\u001B[0m     \u001B[43mread_mcap\u001B[49m\u001B[43m(\u001B[49m\u001B[43mmcap_file\u001B[49m\u001B[43m)\u001B[49m\n",
      "Cell \u001B[0;32mIn[4], line 6\u001B[0m, in \u001B[0;36mread_mcap\u001B[0;34m(mcap_file_path)\u001B[0m\n\u001B[1;32m      3\u001B[0m \u001B[38;5;28;01mdef\u001B[39;00m \u001B[38;5;21mread_mcap\u001B[39m(mcap_file_path):\n\u001B[1;32m      4\u001B[0m     \u001B[38;5;66;03m# Open the MCAP file\u001B[39;00m\n\u001B[1;32m      5\u001B[0m     \u001B[38;5;28;01mwith\u001B[39;00m \u001B[38;5;28mopen\u001B[39m(mcap_file_path, \u001B[38;5;124m\"\u001B[39m\u001B[38;5;124mrb\u001B[39m\u001B[38;5;124m\"\u001B[39m) \u001B[38;5;28;01mas\u001B[39;00m f:\n\u001B[0;32m----> 6\u001B[0m         reader \u001B[38;5;241m=\u001B[39m \u001B[43mmcap\u001B[49m\u001B[38;5;241;43m.\u001B[39;49m\u001B[43mReader\u001B[49m(f)\n\u001B[1;32m      8\u001B[0m         \u001B[38;5;66;03m# Iterate through the messages in the MCAP file\u001B[39;00m\n\u001B[1;32m      9\u001B[0m         \u001B[38;5;28;01mfor\u001B[39;00m record \u001B[38;5;129;01min\u001B[39;00m reader\u001B[38;5;241m.\u001B[39mrecords():\n\u001B[1;32m     10\u001B[0m             \u001B[38;5;66;03m# The record contains the topic, timestamp, and payload (message data)\u001B[39;00m\n",
      "\u001B[0;31mAttributeError\u001B[0m: module 'mcap' has no attribute 'Reader'"
     ]
    }
   ],
   "execution_count": 4
  },
  {
   "metadata": {},
   "cell_type": "code",
   "outputs": [],
   "execution_count": null,
   "source": "",
   "id": "a7d14c72179a10f1"
  }
 ],
 "metadata": {
  "kernelspec": {
   "display_name": "Python 3",
   "language": "python",
   "name": "python3"
  },
  "language_info": {
   "codemirror_mode": {
    "name": "ipython",
    "version": 2
   },
   "file_extension": ".py",
   "mimetype": "text/x-python",
   "name": "python",
   "nbconvert_exporter": "python",
   "pygments_lexer": "ipython2",
   "version": "2.7.6"
  }
 },
 "nbformat": 4,
 "nbformat_minor": 5
}
