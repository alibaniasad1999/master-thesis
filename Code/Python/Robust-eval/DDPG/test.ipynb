{
 "cells": [
  {
   "metadata": {
    "collapsed": true,
    "ExecuteTime": {
     "end_time": "2025-04-01T15:44:31.350290Z",
     "start_time": "2025-04-01T15:44:31.345852Z"
    }
   },
   "cell_type": "code",
   "source": [
    "import importlib\n",
    "import torch\n",
    "import os\n",
    "import subprocess"
   ],
   "id": "initial_id",
   "outputs": [],
   "execution_count": 6
  },
  {
   "metadata": {
    "ExecuteTime": {
     "end_time": "2025-04-01T15:44:32.467443Z",
     "start_time": "2025-04-01T15:44:31.375157Z"
    }
   },
   "cell_type": "code",
   "source": [
    "# Environment downloader\n",
    "env_file = 'model_downloader.py'\n",
    "env_url = \"https://raw.githubusercontent.com/alibaniasad1999/master-thesis/main/Code/Python/utils/model_downloader.py\"\n",
    "\n",
    "if not os.path.isfile(env_file):\n",
    "    print(f\"Downloading {env_file} ...\")\n",
    "    subprocess.run(\n",
    "        ['wget', '-q', '-O', env_file, env_url],\n",
    "        stdout=subprocess.DEVNULL,\n",
    "        stderr=subprocess.DEVNULL\n",
    "    )\n",
    "    print(f\"{env_file} downloaded.\")\n",
    "else:\n",
    "    print(f\"{env_file} already exists.\")\n",
    "\n",
    "from model_downloader import download_file\n",
    "from Zero_Sum_DDPG import setup_logger_kwargs\n",
    "from Zero_Sum_DDPG import MLPActorCritic"
   ],
   "id": "75b8c60332307761",
   "outputs": [
    {
     "name": "stdout",
     "output_type": "stream",
     "text": [
      "Downloading model_downloader.py ...\n",
      "model_downloader.py downloaded.\n"
     ]
    },
    {
     "ename": "ImportError",
     "evalue": "cannot import name 'download_file' from 'model_downloader' (/Users/Ali/Documents/BAI/Master/master-thesis/Code/Python/Robust-eval/DDPG/model_downloader.py)",
     "output_type": "error",
     "traceback": [
      "\u001B[0;31m---------------------------------------------------------------------------\u001B[0m",
      "\u001B[0;31mImportError\u001B[0m                               Traceback (most recent call last)",
      "Cell \u001B[0;32mIn[7], line 16\u001B[0m\n\u001B[1;32m     13\u001B[0m \u001B[38;5;28;01melse\u001B[39;00m:\n\u001B[1;32m     14\u001B[0m     \u001B[38;5;28mprint\u001B[39m(\u001B[38;5;124mf\u001B[39m\u001B[38;5;124m\"\u001B[39m\u001B[38;5;132;01m{\u001B[39;00menv_file\u001B[38;5;132;01m}\u001B[39;00m\u001B[38;5;124m already exists.\u001B[39m\u001B[38;5;124m\"\u001B[39m)\n\u001B[0;32m---> 16\u001B[0m \u001B[38;5;28;01mfrom\u001B[39;00m \u001B[38;5;21;01mmodel_downloader\u001B[39;00m \u001B[38;5;28;01mimport\u001B[39;00m download_file\n\u001B[1;32m     17\u001B[0m \u001B[38;5;28;01mfrom\u001B[39;00m \u001B[38;5;21;01mZero_Sum_DDPG\u001B[39;00m \u001B[38;5;28;01mimport\u001B[39;00m setup_logger_kwargs\n\u001B[1;32m     18\u001B[0m \u001B[38;5;28;01mfrom\u001B[39;00m \u001B[38;5;21;01mZero_Sum_DDPG\u001B[39;00m \u001B[38;5;28;01mimport\u001B[39;00m MLPActorCritic\n",
      "\u001B[0;31mImportError\u001B[0m: cannot import name 'download_file' from 'model_downloader' (/Users/Ali/Documents/BAI/Master/master-thesis/Code/Python/Robust-eval/DDPG/model_downloader.py)"
     ]
    }
   ],
   "execution_count": 7
  },
  {
   "metadata": {},
   "cell_type": "code",
   "source": "trajectory = download_file('ddpg')",
   "id": "d35044f6d1b432ec",
   "outputs": [],
   "execution_count": null
  },
  {
   "metadata": {},
   "cell_type": "code",
   "source": [
    "from matplotlib import pyplot as plt\n",
    "plt.plot(trajectory[:, 0], trajectory[:, 1])"
   ],
   "id": "ad61f59492b0c926",
   "outputs": [],
   "execution_count": null
  },
  {
   "metadata": {},
   "cell_type": "code",
   "source": "from DDPG import DDPG",
   "id": "45d6a62b5adf68b5",
   "outputs": [],
   "execution_count": null
  },
  {
   "metadata": {},
   "cell_type": "code",
   "source": "from Zero_Sum_DDPG import DG_DDPG",
   "id": "3ce99a6cebddd63d",
   "outputs": [],
   "execution_count": null
  },
  {
   "metadata": {},
   "cell_type": "code",
   "source": [
    "import TBP\n",
    "importlib.reload(TBP)\n",
    "from TBP import ThreeBodyEnv"
   ],
   "id": "e533e08d23beba7e",
   "outputs": [],
   "execution_count": null
  },
  {
   "metadata": {},
   "cell_type": "code",
   "source": [
    "# Define variables directly\n",
    "env = ThreeBodyEnv(trajectory)\n",
    "hid = 32\n",
    "l = 2\n",
    "gamma = 0.99\n",
    "seed = 0\n",
    "epochs = 50\n",
    "exp_name = 'ddpg'\n",
    "steps_per_epoch_ = 30000\n",
    "device = torch.device(\"cuda\" if torch.cuda.is_available() else \"cpu\")\n",
    "\n",
    "ac_kwargs = dict(hidden_sizes=[hid] * l)\n",
    "states_array = []\n",
    "logger_kwargs = setup_logger_kwargs(exp_name, seed)\n",
    "reward_array = []\n",
    "ddpg_zs = DG_DDPG(lambda: ThreeBodyEnv(trajectory, error_range=0.01, final_range=0.001), MLPActorCritic, ac_kwargs,\n",
    "               seed_=seed, steps_per_epoch=steps_per_epoch_, epochs_=epochs, logger_kwargs_=logger_kwargs,\n",
    "               device=device, batch_size=1024, start_steps=5000, update_after=1000, update_every=2000, first_player_epoch=50)"
   ],
   "id": "7bfc3de6914dba05",
   "outputs": [],
   "execution_count": null
  },
  {
   "metadata": {},
   "cell_type": "code",
   "source": "ddpg_zs.load(filepath='model_zs/', from_device_to_load='cuda')",
   "id": "b8c7b5300dcb07f0",
   "outputs": [],
   "execution_count": null
  },
  {
   "metadata": {},
   "cell_type": "code",
   "source": "ddpg_zs.test(fun_mode=True)",
   "id": "d9ee624d8b899cea",
   "outputs": [],
   "execution_count": null
  },
  {
   "metadata": {},
   "cell_type": "code",
   "source": [
    "# Define variables directly\n",
    "env = ThreeBodyEnv(trajectory)\n",
    "hid = 32\n",
    "l = 2\n",
    "gamma = 0.99\n",
    "seed = 0\n",
    "epochs = 50\n",
    "exp_name = 'ddpg'\n",
    "steps_per_epoch_ = 30000\n",
    "device = torch.device(\"cuda\" if torch.cuda.is_available() else \"cpu\")\n",
    "\n",
    "ac_kwargs = dict(hidden_sizes=[hid] * l)\n",
    "states_array = []\n",
    "logger_kwargs = setup_logger_kwargs(exp_name, seed)\n",
    "reward_array = []\n",
    "ddpg = DDPG(lambda: ThreeBodyEnv(trajectory, error_range=0.01, final_range=0.001), MLPActorCritic, ac_kwargs,\n",
    "               seed_=seed, steps_per_epoch=steps_per_epoch_, epochs_=epochs, logger_kwargs_=logger_kwargs,\n",
    "               device_=device, batch_size=1024, start_steps=5000, update_after=1000, update_every=2000)"
   ],
   "id": "79c370b115a4dedb",
   "outputs": [],
   "execution_count": null
  },
  {
   "metadata": {},
   "cell_type": "code",
   "source": "ddpg.load(from_device_to_load='cuda')",
   "id": "c66418889236439d",
   "outputs": [],
   "execution_count": null
  },
  {
   "metadata": {},
   "cell_type": "code",
   "source": "ddpg.test(fun_mode=True)",
   "id": "33b4258f2678a76f",
   "outputs": [],
   "execution_count": null
  }
 ],
 "metadata": {
  "kernelspec": {
   "display_name": "Python 3",
   "language": "python",
   "name": "python3"
  },
  "language_info": {
   "codemirror_mode": {
    "name": "ipython",
    "version": 2
   },
   "file_extension": ".py",
   "mimetype": "text/x-python",
   "name": "python",
   "nbconvert_exporter": "python",
   "pygments_lexer": "ipython2",
   "version": "2.7.6"
  }
 },
 "nbformat": 4,
 "nbformat_minor": 5
}
