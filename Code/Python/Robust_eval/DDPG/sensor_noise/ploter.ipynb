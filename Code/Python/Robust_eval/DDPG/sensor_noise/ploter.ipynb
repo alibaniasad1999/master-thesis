{
 "cells": [
  {
   "cell_type": "code",
   "id": "initial_id",
   "metadata": {
    "collapsed": true,
    "ExecuteTime": {
     "end_time": "2025-04-04T16:14:12.260612Z",
     "start_time": "2025-04-04T16:14:10.350044Z"
    }
   },
   "source": [
    "import pandas as pd\n",
    "import re\n",
    "from sklearn.preprocessing import MinMaxScaler\n",
    "\n",
    "# 1) Read the CSV into a DataFrame\n",
    "df = pd.read_csv(\"evaluation_returns.csv\")\n",
    "df_100 = df.sample(n=10, random_state=42)\n",
    "df = df_100\n",
    "\n",
    "# 2) Clean column names to remove non-alphanumeric chars, replace with underscores\n",
    "df.columns = [re.sub(r\"\\W+\", \"_\", col) for col in df.columns]\n",
    "data = df\n",
    "\n",
    "# 3) Normalize the data (Min-Max scaling to [0,1])\n",
    "# Subtract each column's mean and divide by its standard deviation\n",
    "df_standardized = (data - data.mean()) / data.std()\n",
    "\n",
    "print(df_standardized.head())\n",
    "\n",
    "# 4) Write the normalized data to a .dat file, using tabs\n",
    "df_standardized.to_csv(\"../../../../../Report/plots/ddpg/violin_plot/sensor_noise.dat\", sep=\"\\t\", index=False)\n",
    "\n",
    "print(\"Normalized data written to 'sensor_noise.dat' with cleaned headers.\")\n"
   ],
   "outputs": [
    {
     "name": "stdout",
     "output_type": "stream",
     "text": [
      "     Zero_Sum_DDPG  Standard_DDPG\n",
      "521      -0.169057      -1.418098\n",
      "737       0.582551       1.615513\n",
      "740       1.248989      -0.065319\n",
      "660      -1.828452      -0.921539\n",
      "411      -1.192410       0.199895\n",
      "Normalized data written to 'sensor_noise.dat' with cleaned headers.\n"
     ]
    }
   ],
   "execution_count": 1
  }
 ],
 "metadata": {
  "kernelspec": {
   "display_name": "Python 3",
   "language": "python",
   "name": "python3"
  },
  "language_info": {
   "codemirror_mode": {
    "name": "ipython",
    "version": 2
   },
   "file_extension": ".py",
   "mimetype": "text/x-python",
   "name": "python",
   "nbconvert_exporter": "python",
   "pygments_lexer": "ipython2",
   "version": "2.7.6"
  }
 },
 "nbformat": 4,
 "nbformat_minor": 5
}
