{
 "cells": [
  {
   "cell_type": "code",
   "id": "initial_id",
   "metadata": {
    "collapsed": true,
    "ExecuteTime": {
     "end_time": "2025-04-04T16:27:39.212651Z",
     "start_time": "2025-04-04T16:27:37.583162Z"
    }
   },
   "source": [
    "from glob import glob\n",
    "import os\n",
    "import pandas as pd\n",
    "import re"
   ],
   "outputs": [],
   "execution_count": 8
  },
  {
   "metadata": {
    "ExecuteTime": {
     "end_time": "2025-04-04T16:27:39.328639Z",
     "start_time": "2025-04-04T16:27:39.300061Z"
    }
   },
   "cell_type": "code",
   "source": "os.listdir()\n",
   "id": "ff8c5e823e6376e3",
   "outputs": [
    {
     "data": {
      "text/plain": [
       "['initial_condition_shift',\n",
       " 'partial_observation',\n",
       " '.DS_Store',\n",
       " 'actuator_disturbance',\n",
       " '__pycache__',\n",
       " 'time_delay',\n",
       " 'data_for_latex_plot.py',\n",
       " 'test.ipynb',\n",
       " 'model_mismatch',\n",
       " 'sensor_noise']"
      ]
     },
     "execution_count": 9,
     "metadata": {},
     "output_type": "execute_result"
    }
   ],
   "execution_count": 9
  },
  {
   "metadata": {
    "ExecuteTime": {
     "end_time": "2025-04-04T16:28:28.813387Z",
     "start_time": "2025-04-04T16:28:28.764765Z"
    }
   },
   "cell_type": "code",
   "source": [
    "for i in os.listdir():\n",
    "    data_dir = (i+'/'+'evaluation_returns.csv')\n",
    "    if os.path.isfile(data_dir):\n",
    "        df = pd.read_csv(data_dir)\n",
    "        df_100 = df.sample(n=10, random_state=42)\n",
    "        df = df_100\n",
    "\n",
    "        # 2) Clean column names to remove non-alphanumeric chars, replace with underscores\n",
    "        df.columns = [re.sub(r\"\\W+\", \"_\", col) for col in df.columns]\n",
    "        data = df\n",
    "\n",
    "        # 3) Normalize the data (Min-Max scaling to [0,1])\n",
    "        # Subtract each column's mean and divide by its standard deviation\n",
    "        df_standardized = (data - data.mean()) / data.std()\n",
    "\n",
    "        # print(df_standardized.head())\n",
    "\n",
    "        # 4) Write the normalized data to a .dat file, using tabs\n",
    "        save_dir = \"../../../../Report/plots/ddpg/violin_plot/\" + i + \".dat\"\n",
    "        print(save_dir)\n",
    "        df_standardized.to_csv(save_dir, sep=\"\\t\", index=False)\n",
    "\n",
    "        print(f\"Normalized data written to {i} with cleaned headers.\")"
   ],
   "id": "2cd577386888ff49",
   "outputs": [
    {
     "name": "stdout",
     "output_type": "stream",
     "text": [
      "../../../../Report/plots/ddpg/violin_plot/initial_condition_shift.dat\n",
      "Normalized data written to initial_condition_shift with cleaned headers.\n",
      "../../../../Report/plots/ddpg/violin_plot/partial_observation.dat\n",
      "Normalized data written to partial_observation with cleaned headers.\n",
      "../../../../Report/plots/ddpg/violin_plot/actuator_disturbance.dat\n",
      "Normalized data written to actuator_disturbance with cleaned headers.\n",
      "../../../../Report/plots/ddpg/violin_plot/time_delay.dat\n",
      "Normalized data written to time_delay with cleaned headers.\n",
      "../../../../Report/plots/ddpg/violin_plot/model_mismatch.dat\n",
      "Normalized data written to model_mismatch with cleaned headers.\n",
      "../../../../Report/plots/ddpg/violin_plot/sensor_noise.dat\n",
      "Normalized data written to sensor_noise with cleaned headers.\n"
     ]
    }
   ],
   "execution_count": 12
  }
 ],
 "metadata": {
  "kernelspec": {
   "display_name": "Python 3",
   "language": "python",
   "name": "python3"
  },
  "language_info": {
   "codemirror_mode": {
    "name": "ipython",
    "version": 2
   },
   "file_extension": ".py",
   "mimetype": "text/x-python",
   "name": "python",
   "nbconvert_exporter": "python",
   "pygments_lexer": "ipython2",
   "version": "2.7.6"
  }
 },
 "nbformat": 4,
 "nbformat_minor": 5
}
