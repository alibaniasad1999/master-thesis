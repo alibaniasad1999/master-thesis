{
 "cells": [
  {
   "cell_type": "code",
   "id": "initial_id",
   "metadata": {
    "collapsed": true,
    "ExecuteTime": {
     "end_time": "2025-05-16T13:24:11.796934Z",
     "start_time": "2025-05-16T13:24:09.011368Z"
    }
   },
   "source": [
    "import os\n",
    "import subprocess\n",
    "import torch\n",
    "from matplotlib import pyplot as plt\n",
    "import gymnasium as gym\n",
    "import numpy as np\n",
    "import pandas as pd"
   ],
   "outputs": [],
   "execution_count": 1
  },
  {
   "metadata": {
    "ExecuteTime": {
     "end_time": "2025-05-16T13:24:11.837088Z",
     "start_time": "2025-05-16T13:24:11.808499Z"
    }
   },
   "cell_type": "code",
   "source": [
    "env_file = 'model_downloader.py'\n",
    "env_url = \"https://raw.githubusercontent.com/alibaniasad1999/master-thesis/main/Code/Python/utils/model_downloader.py\"\n",
    "\n",
    "if not os.path.isfile(env_file):\n",
    "    print(f\"Downloading {env_file} ...\")\n",
    "    subprocess.run(\n",
    "        ['wget', '-q', '-O', env_file, env_url],\n",
    "        stdout=subprocess.DEVNULL,\n",
    "        stderr=subprocess.DEVNULL\n",
    "    )\n",
    "    print(f\"{env_file} downloaded.\")\n",
    "else:\n",
    "    print(f\"{env_file} already exists.\")\n",
    "\n",
    "from model_downloader import download_file, download_everything\n",
    "\n",
    "trajectory = download_everything('ppo, TBP')"
   ],
   "id": "75a7eb2ee989ac7",
   "outputs": [
    {
     "name": "stdout",
     "output_type": "stream",
     "text": [
      "model_downloader.py already exists.\n",
      "trajectory.csv already exists.\n",
      "Trajectory head:\n",
      "   0.87018  -0.059444  0  -0.010472  -0.17514  0.1\n",
      "0  0.87018  -0.059540  0  -0.010536  -0.17494    0\n",
      "1  0.87017  -0.059636  0  -0.010600  -0.17474    0\n",
      "2  0.87017  -0.059732  0  -0.010664  -0.17454    0\n",
      "3  0.87016  -0.059828  0  -0.010728  -0.17434    0\n",
      "4  0.87015  -0.059924  0  -0.010793  -0.17414    0\n",
      "Data shape: (9999, 6)\n",
      "TBP.py already exists.\n",
      "PPO.py already exists.\n"
     ]
    }
   ],
   "execution_count": 2
  },
  {
   "metadata": {
    "ExecuteTime": {
     "end_time": "2025-05-16T13:24:21.764413Z",
     "start_time": "2025-05-16T13:24:12.031036Z"
    }
   },
   "cell_type": "code",
   "source": "import PPO",
   "id": "8a703e905d6d0cf4",
   "outputs": [
    {
     "name": "stdout",
     "output_type": "stream",
     "text": [
      "Directory 'utils' already exists.\n"
     ]
    }
   ],
   "execution_count": 3
  },
  {
   "metadata": {
    "ExecuteTime": {
     "end_time": "2025-05-16T13:24:21.796005Z",
     "start_time": "2025-05-16T13:24:21.779750Z"
    }
   },
   "cell_type": "code",
   "source": [
    "from PPO import PPO\n",
    "from TBP import ThreeBodyEnv\n",
    "from utils.run_utils import setup_logger_kwargs"
   ],
   "id": "f9da1c56dff1ca9f",
   "outputs": [
    {
     "name": "stdout",
     "output_type": "stream",
     "text": [
      "trajectory.csv already exists.\n"
     ]
    }
   ],
   "execution_count": 4
  },
  {
   "metadata": {
    "ExecuteTime": {
     "end_time": "2025-05-16T13:24:23.894243Z",
     "start_time": "2025-05-16T13:24:21.819113Z"
    }
   },
   "cell_type": "code",
   "source": [
    "# Define constants\n",
    "HID = 32\n",
    "L = 2\n",
    "GAMMA = 0.99\n",
    "SEED = 0\n",
    "STEPS = 10000\n",
    "EPOCHS = 100\n",
    "EXP_NAME = 'PPO_3BP'\n",
    "ac_kwargs = dict(hidden_sizes=[HID] * L)\n",
    "# Use the constants directly\n",
    "\n",
    "\n",
    "logger_kwargs = setup_logger_kwargs(EXP_NAME, SEED)\n",
    "\n",
    "ppo = PPO(ThreeBodyEnv(trajectory, error_range=0.01, final_range=0.001), ac_kwargs=ac_kwargs, gamma=GAMMA,\n",
    "            seed=SEED, steps_per_epoch=STEPS, logger_kwargs=logger_kwargs)\n",
    "# test PPO agent (not trained)\n",
    "ppo.test(deterministic=True)"
   ],
   "id": "4ffc2a15b81bcb58",
   "outputs": [
    {
     "name": "stdout",
     "output_type": "stream",
     "text": [
      "Warning: Log dir /Users/Ali/Documents/BAI/Master/master-thesis/Code/Python/TBP/PPO/sand_box/data/PPO_3BP/PPO_3BP_s0 already exists! Storing info there anyway.\n",
      "\u001B[32;1mLogging data to /Users/Ali/Documents/BAI/Master/master-thesis/Code/Python/TBP/PPO/sand_box/data/PPO_3BP/PPO_3BP_s0/progress.txt\u001B[0m\n",
      "\u001B[36;1mSaving config:\n",
      "\u001B[0m\n",
      "{\n",
      "    \"ac_kwargs\":\t{\n",
      "        \"hidden_sizes\":\t[\n",
      "            32,\n",
      "            32\n",
      "        ]\n",
      "    },\n",
      "    \"clip_ratio\":\t0.2,\n",
      "    \"env\":\t{\n",
      "        \"<ThreeBodyEnv instance>\":\t{\n",
      "            \"action_space\":\t{\n",
      "                \"Box(-4.0, 4.0, (2,), float32)\":\t{\n",
      "                    \"_np_random\":\tnull,\n",
      "                    \"_shape\":\t[\n",
      "                        2\n",
      "                    ],\n",
      "                    \"bounded_above\":\t\"[ True  True]\",\n",
      "                    \"bounded_below\":\t\"[ True  True]\",\n",
      "                    \"dtype\":\t\"float32\",\n",
      "                    \"high\":\t\"[4. 4.]\",\n",
      "                    \"high_repr\":\t\"4.0\",\n",
      "                    \"low\":\t\"[-4. -4.]\",\n",
      "                    \"low_repr\":\t\"-4.0\"\n",
      "                }\n",
      "            },\n",
      "            \"dt\":\t0.001,\n",
      "            \"error_range\":\t0.01,\n",
      "            \"final_range\":\t0.001,\n",
      "            \"max_steps\":\t6000,\n",
      "            \"mu\":\t0.012277471,\n",
      "            \"observation_space\":\t{\n",
      "                \"Box(-1.0, 1.0, (4,), float32)\":\t{\n",
      "                    \"_np_random\":\tnull,\n",
      "                    \"_shape\":\t[\n",
      "                        4\n",
      "                    ],\n",
      "                    \"bounded_above\":\t\"[ True  True  True  True]\",\n",
      "                    \"bounded_below\":\t\"[ True  True  True  True]\",\n",
      "                    \"dtype\":\t\"float32\",\n",
      "                    \"high\":\t\"[1. 1. 1. 1.]\",\n",
      "                    \"high_repr\":\t\"1.0\",\n",
      "                    \"low\":\t\"[-1. -1. -1. -1.]\",\n",
      "                    \"low_repr\":\t\"-1.0\"\n",
      "                }\n",
      "            },\n",
      "            \"position\":\t\"[ 0.87018  -0.05954  -0.010536 -0.17494 ]\",\n",
      "            \"render_logic\":\tfalse,\n",
      "            \"reward_range\":\t[\n",
      "                -Infinity,\n",
      "                Infinity\n",
      "            ],\n",
      "            \"second_player\":\ttrue,\n",
      "            \"state\":\t\"[0. 0. 0. 0.]\",\n",
      "            \"steps\":\t0,\n",
      "            \"trajectory\":\t\"[[ 0.87018   -0.05954   -0.010536  -0.17494  ]\\n [ 0.87017   -0.059636  -0.0106    -0.17474  ]\\n [ 0.87017   -0.059732  -0.010664  -0.17454  ]\\n ...\\n [ 1.1173    -0.054316  -0.008781   0.15223  ]\\n [ 1.1173    -0.054233  -0.0087365  0.15236  ]\\n [ 1.1172    -0.054149  -0.0086921  0.1525   ]]\"\n",
      "        }\n",
      "    },\n",
      "    \"epochs\":\t50,\n",
      "    \"exp_name\":\t\"PPO_3BP\",\n",
      "    \"gamma\":\t0.99,\n",
      "    \"lam\":\t0.97,\n",
      "    \"logger_kwargs\":\t{\n",
      "        \"exp_name\":\t\"PPO_3BP\",\n",
      "        \"output_dir\":\t\"/Users/Ali/Documents/BAI/Master/master-thesis/Code/Python/TBP/PPO/sand_box/data/PPO_3BP/PPO_3BP_s0\"\n",
      "    },\n",
      "    \"max_ep_len\":\t1000,\n",
      "    \"pi_lr\":\t0.0003,\n",
      "    \"save_freq\":\t10,\n",
      "    \"seed\":\t0,\n",
      "    \"self\":\t{\n",
      "        \"<PPO.PPO object at 0x11254a090>\":\t{\n",
      "            \"ac_kwargs\":\t{\n",
      "                \"hidden_sizes\":\t[\n",
      "                    32,\n",
      "                    32\n",
      "                ]\n",
      "            },\n",
      "            \"clip_ratio\":\t0.2,\n",
      "            \"device\":\t\"cpu\",\n",
      "            \"env\":\t{\n",
      "                \"<ThreeBodyEnv instance>\":\t{\n",
      "                    \"action_space\":\t{\n",
      "                        \"Box(-4.0, 4.0, (2,), float32)\":\t{\n",
      "                            \"_np_random\":\tnull,\n",
      "                            \"_shape\":\t[\n",
      "                                2\n",
      "                            ],\n",
      "                            \"bounded_above\":\t\"[ True  True]\",\n",
      "                            \"bounded_below\":\t\"[ True  True]\",\n",
      "                            \"dtype\":\t\"float32\",\n",
      "                            \"high\":\t\"[4. 4.]\",\n",
      "                            \"high_repr\":\t\"4.0\",\n",
      "                            \"low\":\t\"[-4. -4.]\",\n",
      "                            \"low_repr\":\t\"-4.0\"\n",
      "                        }\n",
      "                    },\n",
      "                    \"dt\":\t0.001,\n",
      "                    \"error_range\":\t0.01,\n",
      "                    \"final_range\":\t0.001,\n",
      "                    \"max_steps\":\t6000,\n",
      "                    \"mu\":\t0.012277471,\n",
      "                    \"observation_space\":\t{\n",
      "                        \"Box(-1.0, 1.0, (4,), float32)\":\t{\n",
      "                            \"_np_random\":\tnull,\n",
      "                            \"_shape\":\t[\n",
      "                                4\n",
      "                            ],\n",
      "                            \"bounded_above\":\t\"[ True  True  True  True]\",\n",
      "                            \"bounded_below\":\t\"[ True  True  True  True]\",\n",
      "                            \"dtype\":\t\"float32\",\n",
      "                            \"high\":\t\"[1. 1. 1. 1.]\",\n",
      "                            \"high_repr\":\t\"1.0\",\n",
      "                            \"low\":\t\"[-1. -1. -1. -1.]\",\n",
      "                            \"low_repr\":\t\"-1.0\"\n",
      "                        }\n",
      "                    },\n",
      "                    \"position\":\t\"[ 0.87018  -0.05954  -0.010536 -0.17494 ]\",\n",
      "                    \"render_logic\":\tfalse,\n",
      "                    \"reward_range\":\t[\n",
      "                        -Infinity,\n",
      "                        Infinity\n",
      "                    ],\n",
      "                    \"second_player\":\ttrue,\n",
      "                    \"state\":\t\"[0. 0. 0. 0.]\",\n",
      "                    \"steps\":\t0,\n",
      "                    \"trajectory\":\t\"[[ 0.87018   -0.05954   -0.010536  -0.17494  ]\\n [ 0.87017   -0.059636  -0.0106    -0.17474  ]\\n [ 0.87017   -0.059732  -0.010664  -0.17454  ]\\n ...\\n [ 1.1173    -0.054316  -0.008781   0.15223  ]\\n [ 1.1173    -0.054233  -0.0087365  0.15236  ]\\n [ 1.1172    -0.054149  -0.0086921  0.1525   ]]\"\n",
      "                }\n",
      "            },\n",
      "            \"epochs\":\t50,\n",
      "            \"gamma\":\t0.99,\n",
      "            \"lam\":\t0.97,\n",
      "            \"logger\":\t{\n",
      "                \"<utils.logx.EpochLogger object at 0x155b5d4d0>\":\t{\n",
      "                    \"epoch_dict\":\t{},\n",
      "                    \"exp_name\":\t\"PPO_3BP\",\n",
      "                    \"first_row\":\ttrue,\n",
      "                    \"log_current_row\":\t{},\n",
      "                    \"log_headers\":\t[],\n",
      "                    \"output_dir\":\t\"/Users/Ali/Documents/BAI/Master/master-thesis/Code/Python/TBP/PPO/sand_box/data/PPO_3BP/PPO_3BP_s0\",\n",
      "                    \"output_file\":\t{\n",
      "                        \"<_io.TextIOWrapper name='/Users/Ali/Documents/BAI/Master/master-thesis/Code/Python/TBP/PPO/sand_box/data/PPO_3BP/PPO_3BP_s0/progress.txt' mode='w' encoding='UTF-8'>\":\t{\n",
      "                            \"mode\":\t\"w\"\n",
      "                        }\n",
      "                    }\n",
      "                }\n",
      "            },\n",
      "            \"logger_kwargs\":\t{\n",
      "                \"exp_name\":\t\"PPO_3BP\",\n",
      "                \"output_dir\":\t\"/Users/Ali/Documents/BAI/Master/master-thesis/Code/Python/TBP/PPO/sand_box/data/PPO_3BP/PPO_3BP_s0\"\n",
      "            },\n",
      "            \"max_ep_len\":\t1000,\n",
      "            \"pi_lr\":\t0.0003,\n",
      "            \"save_freq\":\t10,\n",
      "            \"seed\":\t0,\n",
      "            \"steps_per_epoch\":\t10000,\n",
      "            \"target_kl\":\t0.01,\n",
      "            \"train_pi_iters\":\t80,\n",
      "            \"train_v_iters\":\t80,\n",
      "            \"vf_lr\":\t0.001\n",
      "        }\n",
      "    },\n",
      "    \"steps_per_epoch\":\t10000,\n",
      "    \"target_kl\":\t0.01,\n",
      "    \"train_pi_iters\":\t80,\n",
      "    \"train_v_iters\":\t80,\n",
      "    \"vf_lr\":\t0.001\n",
      "}\n",
      "\u001B[32;1m\n",
      "Number of parameters 😱😱😱: \t pi: 1284, \t v: 1249\n",
      "\u001B[0m\n",
      "[-0.00776    -0.00634075 -0.04301743 -0.01882676]\n",
      "idx 0.01139 state 0.04801425621269205\n",
      "\u001B[31;1mtoo much error 🥲😱\u001B[0m\n",
      "\u001B[34msecond player was in the game\u001B[0m\n",
      "(9999, 6)\n"
     ]
    },
    {
     "data": {
      "text/plain": [
       "<Figure size 640x480 with 1 Axes>"
      ],
      "image/png": "[encoded data removed]"
     },
     "metadata": {},
     "output_type": "display_data"
    },
    {
     "data": {
      "text/plain": [
       "<Figure size 640x480 with 1 Axes>"
      ],
      "image/png": "[encoded data removed]"
     },
     "metadata": {},
     "output_type": "display_data"
    }
   ],
   "execution_count": 5
  },
  {
   "metadata": {
    "ExecuteTime": {
     "end_time": "2025-05-16T13:24:23.961447Z",
     "start_time": "2025-05-16T13:24:23.902868Z"
    }
   },
   "cell_type": "code",
   "source": "ppo.save()",
   "id": "5244a30fd458a59b",
   "outputs": [
    {
     "name": "stdout",
     "output_type": "stream",
     "text": [
      "\u001B[34;1mModel saved successfully! 🥰😎\u001B[0m\n"
     ]
    }
   ],
   "execution_count": 6
  },
  {
   "metadata": {
    "ExecuteTime": {
     "end_time": "2025-05-16T13:24:24.067517Z",
     "start_time": "2025-05-16T13:24:24.057500Z"
    }
   },
   "cell_type": "code",
   "source": "ppo.load()",
   "id": "8d5280cc973ed2cc",
   "outputs": [
    {
     "name": "stdout",
     "output_type": "stream",
     "text": [
      "\u001B[34;1mModel loaded successfully and device is cpu! 🥰😎\u001B[0m\n"
     ]
    }
   ],
   "execution_count": 7
  },
  {
   "metadata": {
    "ExecuteTime": {
     "end_time": "2025-05-16T13:24:43.266544Z",
     "start_time": "2025-05-16T13:24:34.627301Z"
    }
   },
   "cell_type": "code",
   "source": "ppo.train()",
   "id": "da19c81df7f24e69",
   "outputs": [
    {
     "name": "stdout",
     "output_type": "stream",
     "text": [
      "[-0.00776    -0.00634075 -0.04301743 -0.01882676]\n",
      "idx 0.01139 state 0.04801425621269205\n",
      "\u001B[31;1mtoo much error 🥲😱\u001B[0m\n",
      "\u001B[34msecond player was in the game\u001B[0m\n",
      "[-0.00776    -0.00634075 -0.04301743 -0.01882676]\n",
      "idx 0.01139 state 0.04801425621269205\n",
      "\u001B[31;1mtoo much error 🥲😱\u001B[0m\n",
      "\u001B[34msecond player was in the game\u001B[0m\n",
      "[-0.00776    -0.00634075 -0.04301743 -0.01882676]\n",
      "idx 0.01139 state 0.04801425621269205\n",
      "\u001B[31;1mtoo much error 🥲😱\u001B[0m\n",
      "\u001B[34msecond player was in the game\u001B[0m\n",
      "[-0.00776    -0.00634075 -0.04301743 -0.01882676]\n",
      "idx 0.01139 state 0.04801425621269205\n",
      "\u001B[31;1mtoo much error 🥲😱\u001B[0m\n",
      "\u001B[34msecond player was in the game\u001B[0m\n",
      "[-0.00776    -0.00634075 -0.04301743 -0.01882676]\n",
      "idx 0.01139 state 0.04801425621269205\n",
      "\u001B[31;1mtoo much error 🥲😱\u001B[0m\n",
      "\u001B[34msecond player was in the game\u001B[0m\n",
      "[-0.00776    -0.00634075 -0.04301743 -0.01882676]\n",
      "idx 0.01139 state 0.04801425621269205\n",
      "\u001B[31;1mtoo much error 🥲😱\u001B[0m\n",
      "\u001B[34msecond player was in the game\u001B[0m\n",
      "[-0.00776    -0.00634075 -0.04301743 -0.01882676]\n",
      "idx 0.01139 state 0.04801425621269205\n",
      "\u001B[31;1mtoo much error 🥲😱\u001B[0m\n",
      "\u001B[34msecond player was in the game\u001B[0m\n",
      "[-0.00776    -0.00634075 -0.04301743 -0.01882676]\n",
      "idx 0.01139 state 0.04801425621269205\n",
      "\u001B[31;1mtoo much error 🥲😱\u001B[0m\n",
      "\u001B[34msecond player was in the game\u001B[0m\n",
      "[-0.00776    -0.00634075 -0.04301743 -0.01882676]\n",
      "idx 0.01139 state 0.04801425621269205\n",
      "\u001B[31;1mtoo much error 🥲😱\u001B[0m\n",
      "\u001B[34msecond player was in the game\u001B[0m\n",
      "[-0.00776    -0.00634075 -0.04301743 -0.01882676]\n",
      "idx 0.01139 state 0.04801425621269205\n",
      "\u001B[31;1mtoo much error 🥲😱\u001B[0m\n",
      "\u001B[34msecond player was in the game\u001B[0m\n",
      "[-0.00776    -0.00634075 -0.04301743 -0.01882676]\n",
      "idx 0.01139 state 0.04801425621269205\n",
      "\u001B[31;1mtoo much error 🥲😱\u001B[0m\n",
      "\u001B[34msecond player was in the game\u001B[0m\n",
      "[-0.00776    -0.00634075 -0.04301743 -0.01882676]\n",
      "idx 0.01139 state 0.04801425621269205\n",
      "\u001B[31;1mtoo much error 🥲😱\u001B[0m\n",
      "\u001B[34msecond player was in the game\u001B[0m\n"
     ]
    },
    {
     "ename": "KeyboardInterrupt",
     "evalue": "",
     "output_type": "error",
     "traceback": [
      "\u001B[0;31m---------------------------------------------------------------------------\u001B[0m",
      "\u001B[0;31mKeyboardInterrupt\u001B[0m                         Traceback (most recent call last)",
      "Cell \u001B[0;32mIn[8], line 1\u001B[0m\n\u001B[0;32m----> 1\u001B[0m \u001B[43mppo\u001B[49m\u001B[38;5;241;43m.\u001B[39;49m\u001B[43mtrain\u001B[49m\u001B[43m(\u001B[49m\u001B[43m)\u001B[49m\n",
      "File \u001B[0;32m~/Documents/BAI/Master/master-thesis/Code/Python/TBP/PPO/sand_box/PPO.py:511\u001B[0m, in \u001B[0;36mPPO.train\u001B[0;34m(self)\u001B[0m\n\u001B[1;32m    509\u001B[0m \u001B[38;5;28;01mfor\u001B[39;00m epoch \u001B[38;5;129;01min\u001B[39;00m \u001B[38;5;28mrange\u001B[39m(\u001B[38;5;28mself\u001B[39m\u001B[38;5;241m.\u001B[39mepochs):\n\u001B[1;32m    510\u001B[0m     \u001B[38;5;28;01mfor\u001B[39;00m t \u001B[38;5;129;01min\u001B[39;00m \u001B[38;5;28mrange\u001B[39m(\u001B[38;5;28mself\u001B[39m\u001B[38;5;241m.\u001B[39mlocal_steps_per_epoch):\n\u001B[0;32m--> 511\u001B[0m         a, v, logp \u001B[38;5;241m=\u001B[39m \u001B[38;5;28;43mself\u001B[39;49m\u001B[38;5;241;43m.\u001B[39;49m\u001B[43mac\u001B[49m\u001B[38;5;241;43m.\u001B[39;49m\u001B[43mstep\u001B[49m\u001B[43m(\u001B[49m\u001B[43mtorch\u001B[49m\u001B[38;5;241;43m.\u001B[39;49m\u001B[43mas_tensor\u001B[49m\u001B[43m(\u001B[49m\u001B[43mo\u001B[49m\u001B[43m,\u001B[49m\u001B[43m \u001B[49m\u001B[43mdtype\u001B[49m\u001B[38;5;241;43m=\u001B[39;49m\u001B[43mtorch\u001B[49m\u001B[38;5;241;43m.\u001B[39;49m\u001B[43mfloat32\u001B[49m\u001B[43m)\u001B[49m\u001B[43m)\u001B[49m\n\u001B[1;32m    513\u001B[0m         next_o, r, d, _, _ \u001B[38;5;241m=\u001B[39m \u001B[38;5;28mself\u001B[39m\u001B[38;5;241m.\u001B[39menv\u001B[38;5;241m.\u001B[39mstep(a)\n\u001B[1;32m    514\u001B[0m         ep_ret \u001B[38;5;241m+\u001B[39m\u001B[38;5;241m=\u001B[39m r\n",
      "File \u001B[0;32m~/Documents/BAI/Master/master-thesis/Code/Python/TBP/PPO/sand_box/PPO.py:197\u001B[0m, in \u001B[0;36mMLPActorCritic.step\u001B[0;34m(self, obs, deterministic)\u001B[0m\n\u001B[1;32m    195\u001B[0m     pi \u001B[38;5;241m=\u001B[39m \u001B[38;5;28mself\u001B[39m\u001B[38;5;241m.\u001B[39mpi\u001B[38;5;241m.\u001B[39m_distribution(obs, deterministic\u001B[38;5;241m=\u001B[39mdeterministic)\n\u001B[1;32m    196\u001B[0m     a \u001B[38;5;241m=\u001B[39m pi\u001B[38;5;241m.\u001B[39msample()\n\u001B[0;32m--> 197\u001B[0m     logp_a \u001B[38;5;241m=\u001B[39m \u001B[38;5;28;43mself\u001B[39;49m\u001B[38;5;241;43m.\u001B[39;49m\u001B[43mpi\u001B[49m\u001B[38;5;241;43m.\u001B[39;49m\u001B[43m_log_prob_from_distribution\u001B[49m\u001B[43m(\u001B[49m\u001B[43mpi\u001B[49m\u001B[43m,\u001B[49m\u001B[43m \u001B[49m\u001B[43ma\u001B[49m\u001B[43m)\u001B[49m\n\u001B[1;32m    198\u001B[0m     v \u001B[38;5;241m=\u001B[39m \u001B[38;5;28mself\u001B[39m\u001B[38;5;241m.\u001B[39mv(obs)\n\u001B[1;32m    199\u001B[0m \u001B[38;5;28;01mreturn\u001B[39;00m a\u001B[38;5;241m.\u001B[39mnumpy(), v\u001B[38;5;241m.\u001B[39mnumpy(), logp_a\u001B[38;5;241m.\u001B[39mnumpy()\n",
      "File \u001B[0;32m~/Documents/BAI/Master/master-thesis/Code/Python/TBP/PPO/sand_box/PPO.py:161\u001B[0m, in \u001B[0;36mMLPGaussianActor._log_prob_from_distribution\u001B[0;34m(self, pi, act)\u001B[0m\n\u001B[1;32m    160\u001B[0m \u001B[38;5;28;01mdef\u001B[39;00m \u001B[38;5;21m_log_prob_from_distribution\u001B[39m(\u001B[38;5;28mself\u001B[39m, pi, act):\n\u001B[0;32m--> 161\u001B[0m     \u001B[38;5;28;01mreturn\u001B[39;00m \u001B[43mpi\u001B[49m\u001B[38;5;241;43m.\u001B[39;49m\u001B[43mlog_prob\u001B[49m\u001B[43m(\u001B[49m\u001B[43mact\u001B[49m\u001B[43m)\u001B[49m\u001B[38;5;241m.\u001B[39msum(axis\u001B[38;5;241m=\u001B[39m\u001B[38;5;241m-\u001B[39m\u001B[38;5;241m1\u001B[39m)\n",
      "File \u001B[0;32m~/Documents/BAI/Master/master-thesis/.env/lib/python3.11/site-packages/torch/distributions/normal.py:79\u001B[0m, in \u001B[0;36mNormal.log_prob\u001B[0;34m(self, value)\u001B[0m\n\u001B[1;32m     77\u001B[0m \u001B[38;5;28;01mdef\u001B[39;00m \u001B[38;5;21mlog_prob\u001B[39m(\u001B[38;5;28mself\u001B[39m, value):\n\u001B[1;32m     78\u001B[0m     \u001B[38;5;28;01mif\u001B[39;00m \u001B[38;5;28mself\u001B[39m\u001B[38;5;241m.\u001B[39m_validate_args:\n\u001B[0;32m---> 79\u001B[0m         \u001B[38;5;28;43mself\u001B[39;49m\u001B[38;5;241;43m.\u001B[39;49m\u001B[43m_validate_sample\u001B[49m\u001B[43m(\u001B[49m\u001B[43mvalue\u001B[49m\u001B[43m)\u001B[49m\n\u001B[1;32m     80\u001B[0m     \u001B[38;5;66;03m# compute the variance\u001B[39;00m\n\u001B[1;32m     81\u001B[0m     var \u001B[38;5;241m=\u001B[39m \u001B[38;5;28mself\u001B[39m\u001B[38;5;241m.\u001B[39mscale\u001B[38;5;241m*\u001B[39m\u001B[38;5;241m*\u001B[39m\u001B[38;5;241m2\u001B[39m\n",
      "File \u001B[0;32m~/Documents/BAI/Master/master-thesis/.env/lib/python3.11/site-packages/torch/distributions/distribution.py:311\u001B[0m, in \u001B[0;36mDistribution._validate_sample\u001B[0;34m(self, value)\u001B[0m\n\u001B[1;32m    309\u001B[0m \u001B[38;5;28;01massert\u001B[39;00m support \u001B[38;5;129;01mis\u001B[39;00m \u001B[38;5;129;01mnot\u001B[39;00m \u001B[38;5;28;01mNone\u001B[39;00m\n\u001B[1;32m    310\u001B[0m valid \u001B[38;5;241m=\u001B[39m support\u001B[38;5;241m.\u001B[39mcheck(value)\n\u001B[0;32m--> 311\u001B[0m \u001B[38;5;28;01mif\u001B[39;00m \u001B[38;5;129;01mnot\u001B[39;00m \u001B[43mvalid\u001B[49m\u001B[38;5;241;43m.\u001B[39;49m\u001B[43mall\u001B[49m\u001B[43m(\u001B[49m\u001B[43m)\u001B[49m:\n\u001B[1;32m    312\u001B[0m     \u001B[38;5;28;01mraise\u001B[39;00m \u001B[38;5;167;01mValueError\u001B[39;00m(\n\u001B[1;32m    313\u001B[0m         \u001B[38;5;124m\"\u001B[39m\u001B[38;5;124mExpected value argument \u001B[39m\u001B[38;5;124m\"\u001B[39m\n\u001B[1;32m    314\u001B[0m         \u001B[38;5;124mf\u001B[39m\u001B[38;5;124m\"\u001B[39m\u001B[38;5;124m(\u001B[39m\u001B[38;5;132;01m{\u001B[39;00m\u001B[38;5;28mtype\u001B[39m(value)\u001B[38;5;241m.\u001B[39m\u001B[38;5;18m__name__\u001B[39m\u001B[38;5;132;01m}\u001B[39;00m\u001B[38;5;124m of shape \u001B[39m\u001B[38;5;132;01m{\u001B[39;00m\u001B[38;5;28mtuple\u001B[39m(value\u001B[38;5;241m.\u001B[39mshape)\u001B[38;5;132;01m}\u001B[39;00m\u001B[38;5;124m) \u001B[39m\u001B[38;5;124m\"\u001B[39m\n\u001B[0;32m   (...)\u001B[0m\n\u001B[1;32m    317\u001B[0m         \u001B[38;5;124mf\u001B[39m\u001B[38;5;124m\"\u001B[39m\u001B[38;5;124mbut found invalid values:\u001B[39m\u001B[38;5;130;01m\\n\u001B[39;00m\u001B[38;5;132;01m{\u001B[39;00mvalue\u001B[38;5;132;01m}\u001B[39;00m\u001B[38;5;124m\"\u001B[39m\n\u001B[1;32m    318\u001B[0m     )\n",
      "\u001B[0;31mKeyboardInterrupt\u001B[0m: "
     ]
    }
   ],
   "execution_count": 8
  }
 ],
 "metadata": {
  "kernelspec": {
   "display_name": "Python 3",
   "language": "python",
   "name": "python3"
  },
  "language_info": {
   "codemirror_mode": {
    "name": "ipython",
    "version": 2
   },
   "file_extension": ".py",
   "mimetype": "text/x-python",
   "name": "python",
   "nbconvert_exporter": "python",
   "pygments_lexer": "ipython2",
   "version": "2.7.6"
  }
 },
 "nbformat": 4,
 "nbformat_minor": 5
}
