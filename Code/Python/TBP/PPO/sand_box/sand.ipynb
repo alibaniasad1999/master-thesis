{
 "cells": [
  {
   "cell_type": "code",
   "id": "initial_id",
   "metadata": {
    "collapsed": true,
    "ExecuteTime": {
     "end_time": "2025-05-16T13:12:41.215981Z",
     "start_time": "2025-05-16T13:12:35.790924Z"
    }
   },
   "source": [
    "import os\n",
    "import subprocess\n",
    "import torch\n",
    "from matplotlib import pyplot as plt\n",
    "import gymnasium as gym\n",
    "import numpy as np\n",
    "import pandas as pd"
   ],
   "outputs": [],
   "execution_count": 1
  },
  {
   "metadata": {
    "ExecuteTime": {
     "end_time": "2025-05-16T13:12:44.280159Z",
     "start_time": "2025-05-16T13:12:41.233185Z"
    }
   },
   "cell_type": "code",
   "source": [
    "env_file = 'model_downloader.py'\n",
    "env_url = \"https://raw.githubusercontent.com/alibaniasad1999/master-thesis/main/Code/Python/utils/model_downloader.py\"\n",
    "\n",
    "if not os.path.isfile(env_file):\n",
    "    print(f\"Downloading {env_file} ...\")\n",
    "    subprocess.run(\n",
    "        ['wget', '-q', '-O', env_file, env_url],\n",
    "        stdout=subprocess.DEVNULL,\n",
    "        stderr=subprocess.DEVNULL\n",
    "    )\n",
    "    print(f\"{env_file} downloaded.\")\n",
    "else:\n",
    "    print(f\"{env_file} already exists.\")\n",
    "\n",
    "from model_downloader import download_file, download_everything\n",
    "\n",
    "trajectory = download_everything('ppo, TBP')"
   ],
   "id": "75a7eb2ee989ac7",
   "outputs": [
    {
     "name": "stdout",
     "output_type": "stream",
     "text": [
      "model_downloader.py already exists.\n",
      "Downloading trajectory.csv ...\n",
      "trajectory.csv downloaded.\n",
      "Trajectory head:\n",
      "   0.87018  -0.059444  0  -0.010472  -0.17514  0.1\n",
      "0  0.87018  -0.059540  0  -0.010536  -0.17494    0\n",
      "1  0.87017  -0.059636  0  -0.010600  -0.17474    0\n",
      "2  0.87017  -0.059732  0  -0.010664  -0.17454    0\n",
      "3  0.87016  -0.059828  0  -0.010728  -0.17434    0\n",
      "4  0.87015  -0.059924  0  -0.010793  -0.17414    0\n",
      "Data shape: (9999, 6)\n",
      "Downloading TBP.py ...\n",
      "TBP.py downloaded.\n",
      "Downloading PPO.py ...\n",
      "PPO.py downloaded.\n"
     ]
    }
   ],
   "execution_count": 2
  },
  {
   "metadata": {
    "ExecuteTime": {
     "end_time": "2025-05-16T13:13:02.768545Z",
     "start_time": "2025-05-16T13:12:44.498616Z"
    }
   },
   "cell_type": "code",
   "source": "import PPO",
   "id": "8a703e905d6d0cf4",
   "outputs": [
    {
     "name": "stdout",
     "output_type": "stream",
     "text": [
      "Directory 'utils' created.\n",
      "Downloading logx.py ...\n",
      "logx.py downloaded.\n",
      "Downloading mpi_tools.py ...\n",
      "mpi_tools.py downloaded.\n",
      "Downloading serialization_utils.py ...\n",
      "serialization_utils.py downloaded.\n",
      "Downloading run_utils.py ...\n",
      "run_utils.py downloaded.\n",
      "Downloading user_config.py ...\n",
      "user_config.py downloaded.\n",
      "Downloading mpi_pytorch.py ...\n",
      "mpi_pytorch.py downloaded.\n"
     ]
    }
   ],
   "execution_count": 3
  },
  {
   "metadata": {
    "ExecuteTime": {
     "end_time": "2025-05-16T13:13:02.802400Z",
     "start_time": "2025-05-16T13:13:02.782935Z"
    }
   },
   "cell_type": "code",
   "source": [
    "from PPO import PPO\n",
    "from TBP import ThreeBodyEnv\n",
    "from utils.run_utils import setup_logger_kwargs"
   ],
   "id": "f9da1c56dff1ca9f",
   "outputs": [
    {
     "name": "stdout",
     "output_type": "stream",
     "text": [
      "trajectory.csv already exists.\n"
     ]
    }
   ],
   "execution_count": 4
  },
  {
   "metadata": {
    "ExecuteTime": {
     "end_time": "2025-05-16T13:13:04.285279Z",
     "start_time": "2025-05-16T13:13:02.821561Z"
    }
   },
   "cell_type": "code",
   "source": [
    "# Define constants\n",
    "HID = 32\n",
    "L = 2\n",
    "GAMMA = 0.99\n",
    "SEED = 0\n",
    "STEPS = 10000\n",
    "EPOCHS = 100\n",
    "EXP_NAME = 'PPO_3BP'\n",
    "ac_kwargs = dict(hidden_sizes=[HID] * L)\n",
    "# Use the constants directly\n",
    "\n",
    "\n",
    "logger_kwargs = setup_logger_kwargs(EXP_NAME, SEED)\n",
    "\n",
    "ppo = PPO(ThreeBodyEnv(trajectory, error_range=0.01, final_range=0.001), ac_kwargs=ac_kwargs, gamma=GAMMA,\n",
    "            seed=SEED, steps_per_epoch=STEPS, logger_kwargs=logger_kwargs)\n",
    "# test PPO agent (not trained)\n",
    "ppo.test(deterministic=True)"
   ],
   "id": "4ffc2a15b81bcb58",
   "outputs": [
    {
     "name": "stdout",
     "output_type": "stream",
     "text": [
      "\u001B[32;1mLogging data to /Users/Ali/Documents/BAI/Master/master-thesis/Code/Python/TBP/PPO/sand_box/data/PPO_3BP/PPO_3BP_s0/progress.txt\u001B[0m\n",
      "\u001B[36;1mSaving config:\n",
      "\u001B[0m\n",
      "{\n",
      "    \"ac_kwargs\":\t{\n",
      "        \"hidden_sizes\":\t[\n",
      "            32,\n",
      "            32\n",
      "        ]\n",
      "    },\n",
      "    \"clip_ratio\":\t0.2,\n",
      "    \"env\":\t{\n",
      "        \"<ThreeBodyEnv instance>\":\t{\n",
      "            \"action_space\":\t{\n",
      "                \"Box(-4.0, 4.0, (2,), float32)\":\t{\n",
      "                    \"_np_random\":\tnull,\n",
      "                    \"_shape\":\t[\n",
      "                        2\n",
      "                    ],\n",
      "                    \"bounded_above\":\t\"[ True  True]\",\n",
      "                    \"bounded_below\":\t\"[ True  True]\",\n",
      "                    \"dtype\":\t\"float32\",\n",
      "                    \"high\":\t\"[4. 4.]\",\n",
      "                    \"high_repr\":\t\"4.0\",\n",
      "                    \"low\":\t\"[-4. -4.]\",\n",
      "                    \"low_repr\":\t\"-4.0\"\n",
      "                }\n",
      "            },\n",
      "            \"dt\":\t0.001,\n",
      "            \"error_range\":\t0.01,\n",
      "            \"final_range\":\t0.001,\n",
      "            \"max_steps\":\t6000,\n",
      "            \"mu\":\t0.012277471,\n",
      "            \"observation_space\":\t{\n",
      "                \"Box(-1.0, 1.0, (4,), float32)\":\t{\n",
      "                    \"_np_random\":\tnull,\n",
      "                    \"_shape\":\t[\n",
      "                        4\n",
      "                    ],\n",
      "                    \"bounded_above\":\t\"[ True  True  True  True]\",\n",
      "                    \"bounded_below\":\t\"[ True  True  True  True]\",\n",
      "                    \"dtype\":\t\"float32\",\n",
      "                    \"high\":\t\"[1. 1. 1. 1.]\",\n",
      "                    \"high_repr\":\t\"1.0\",\n",
      "                    \"low\":\t\"[-1. -1. -1. -1.]\",\n",
      "                    \"low_repr\":\t\"-1.0\"\n",
      "                }\n",
      "            },\n",
      "            \"position\":\t\"[ 0.87018  -0.05954  -0.010536 -0.17494 ]\",\n",
      "            \"render_logic\":\tfalse,\n",
      "            \"reward_range\":\t[\n",
      "                -Infinity,\n",
      "                Infinity\n",
      "            ],\n",
      "            \"second_player\":\ttrue,\n",
      "            \"state\":\t\"[0. 0. 0. 0.]\",\n",
      "            \"steps\":\t0,\n",
      "            \"trajectory\":\t\"[[ 0.87018   -0.05954   -0.010536  -0.17494  ]\\n [ 0.87017   -0.059636  -0.0106    -0.17474  ]\\n [ 0.87017   -0.059732  -0.010664  -0.17454  ]\\n ...\\n [ 1.1173    -0.054316  -0.008781   0.15223  ]\\n [ 1.1173    -0.054233  -0.0087365  0.15236  ]\\n [ 1.1172    -0.054149  -0.0086921  0.1525   ]]\"\n",
      "        }\n",
      "    },\n",
      "    \"epochs\":\t50,\n",
      "    \"exp_name\":\t\"PPO_3BP\",\n",
      "    \"gamma\":\t0.99,\n",
      "    \"lam\":\t0.97,\n",
      "    \"logger_kwargs\":\t{\n",
      "        \"exp_name\":\t\"PPO_3BP\",\n",
      "        \"output_dir\":\t\"/Users/Ali/Documents/BAI/Master/master-thesis/Code/Python/TBP/PPO/sand_box/data/PPO_3BP/PPO_3BP_s0\"\n",
      "    },\n",
      "    \"max_ep_len\":\t1000,\n",
      "    \"pi_lr\":\t0.0003,\n",
      "    \"save_freq\":\t10,\n",
      "    \"seed\":\t0,\n",
      "    \"self\":\t{\n",
      "        \"<PPO.PPO object at 0x121f4df10>\":\t{\n",
      "            \"ac_kwargs\":\t{\n",
      "                \"hidden_sizes\":\t[\n",
      "                    32,\n",
      "                    32\n",
      "                ]\n",
      "            },\n",
      "            \"clip_ratio\":\t0.2,\n",
      "            \"env\":\t{\n",
      "                \"<ThreeBodyEnv instance>\":\t{\n",
      "                    \"action_space\":\t{\n",
      "                        \"Box(-4.0, 4.0, (2,), float32)\":\t{\n",
      "                            \"_np_random\":\tnull,\n",
      "                            \"_shape\":\t[\n",
      "                                2\n",
      "                            ],\n",
      "                            \"bounded_above\":\t\"[ True  True]\",\n",
      "                            \"bounded_below\":\t\"[ True  True]\",\n",
      "                            \"dtype\":\t\"float32\",\n",
      "                            \"high\":\t\"[4. 4.]\",\n",
      "                            \"high_repr\":\t\"4.0\",\n",
      "                            \"low\":\t\"[-4. -4.]\",\n",
      "                            \"low_repr\":\t\"-4.0\"\n",
      "                        }\n",
      "                    },\n",
      "                    \"dt\":\t0.001,\n",
      "                    \"error_range\":\t0.01,\n",
      "                    \"final_range\":\t0.001,\n",
      "                    \"max_steps\":\t6000,\n",
      "                    \"mu\":\t0.012277471,\n",
      "                    \"observation_space\":\t{\n",
      "                        \"Box(-1.0, 1.0, (4,), float32)\":\t{\n",
      "                            \"_np_random\":\tnull,\n",
      "                            \"_shape\":\t[\n",
      "                                4\n",
      "                            ],\n",
      "                            \"bounded_above\":\t\"[ True  True  True  True]\",\n",
      "                            \"bounded_below\":\t\"[ True  True  True  True]\",\n",
      "                            \"dtype\":\t\"float32\",\n",
      "                            \"high\":\t\"[1. 1. 1. 1.]\",\n",
      "                            \"high_repr\":\t\"1.0\",\n",
      "                            \"low\":\t\"[-1. -1. -1. -1.]\",\n",
      "                            \"low_repr\":\t\"-1.0\"\n",
      "                        }\n",
      "                    },\n",
      "                    \"position\":\t\"[ 0.87018  -0.05954  -0.010536 -0.17494 ]\",\n",
      "                    \"render_logic\":\tfalse,\n",
      "                    \"reward_range\":\t[\n",
      "                        -Infinity,\n",
      "                        Infinity\n",
      "                    ],\n",
      "                    \"second_player\":\ttrue,\n",
      "                    \"state\":\t\"[0. 0. 0. 0.]\",\n",
      "                    \"steps\":\t0,\n",
      "                    \"trajectory\":\t\"[[ 0.87018   -0.05954   -0.010536  -0.17494  ]\\n [ 0.87017   -0.059636  -0.0106    -0.17474  ]\\n [ 0.87017   -0.059732  -0.010664  -0.17454  ]\\n ...\\n [ 1.1173    -0.054316  -0.008781   0.15223  ]\\n [ 1.1173    -0.054233  -0.0087365  0.15236  ]\\n [ 1.1172    -0.054149  -0.0086921  0.1525   ]]\"\n",
      "                }\n",
      "            },\n",
      "            \"epochs\":\t50,\n",
      "            \"gamma\":\t0.99,\n",
      "            \"lam\":\t0.97,\n",
      "            \"logger\":\t{\n",
      "                \"<utils.logx.EpochLogger object at 0x163796c50>\":\t{\n",
      "                    \"epoch_dict\":\t{},\n",
      "                    \"exp_name\":\t\"PPO_3BP\",\n",
      "                    \"first_row\":\ttrue,\n",
      "                    \"log_current_row\":\t{},\n",
      "                    \"log_headers\":\t[],\n",
      "                    \"output_dir\":\t\"/Users/Ali/Documents/BAI/Master/master-thesis/Code/Python/TBP/PPO/sand_box/data/PPO_3BP/PPO_3BP_s0\",\n",
      "                    \"output_file\":\t{\n",
      "                        \"<_io.TextIOWrapper name='/Users/Ali/Documents/BAI/Master/master-thesis/Code/Python/TBP/PPO/sand_box/data/PPO_3BP/PPO_3BP_s0/progress.txt' mode='w' encoding='UTF-8'>\":\t{\n",
      "                            \"mode\":\t\"w\"\n",
      "                        }\n",
      "                    }\n",
      "                }\n",
      "            },\n",
      "            \"logger_kwargs\":\t{\n",
      "                \"exp_name\":\t\"PPO_3BP\",\n",
      "                \"output_dir\":\t\"/Users/Ali/Documents/BAI/Master/master-thesis/Code/Python/TBP/PPO/sand_box/data/PPO_3BP/PPO_3BP_s0\"\n",
      "            },\n",
      "            \"max_ep_len\":\t1000,\n",
      "            \"pi_lr\":\t0.0003,\n",
      "            \"save_freq\":\t10,\n",
      "            \"seed\":\t0,\n",
      "            \"steps_per_epoch\":\t10000,\n",
      "            \"target_kl\":\t0.01,\n",
      "            \"train_pi_iters\":\t80,\n",
      "            \"train_v_iters\":\t80,\n",
      "            \"vf_lr\":\t0.001\n",
      "        }\n",
      "    },\n",
      "    \"steps_per_epoch\":\t10000,\n",
      "    \"target_kl\":\t0.01,\n",
      "    \"train_pi_iters\":\t80,\n",
      "    \"train_v_iters\":\t80,\n",
      "    \"vf_lr\":\t0.001\n",
      "}\n"
     ]
    },
    {
     "ename": "AttributeError",
     "evalue": "'MLPActorCritic' object has no attribute 'pi'",
     "output_type": "error",
     "traceback": [
      "\u001B[0;31m---------------------------------------------------------------------------\u001B[0m",
      "\u001B[0;31mAttributeError\u001B[0m                            Traceback (most recent call last)",
      "Cell \u001B[0;32mIn[5], line 15\u001B[0m\n\u001B[1;32m     10\u001B[0m \u001B[38;5;66;03m# Use the constants directly\u001B[39;00m\n\u001B[1;32m     13\u001B[0m logger_kwargs \u001B[38;5;241m=\u001B[39m setup_logger_kwargs(EXP_NAME, SEED)\n\u001B[0;32m---> 15\u001B[0m ppo \u001B[38;5;241m=\u001B[39m \u001B[43mPPO\u001B[49m\u001B[43m(\u001B[49m\u001B[43mThreeBodyEnv\u001B[49m\u001B[43m(\u001B[49m\u001B[43mtrajectory\u001B[49m\u001B[43m,\u001B[49m\u001B[43m \u001B[49m\u001B[43merror_range\u001B[49m\u001B[38;5;241;43m=\u001B[39;49m\u001B[38;5;241;43m0.01\u001B[39;49m\u001B[43m,\u001B[49m\u001B[43m \u001B[49m\u001B[43mfinal_range\u001B[49m\u001B[38;5;241;43m=\u001B[39;49m\u001B[38;5;241;43m0.001\u001B[39;49m\u001B[43m)\u001B[49m\u001B[43m,\u001B[49m\u001B[43m \u001B[49m\u001B[43mac_kwargs\u001B[49m\u001B[38;5;241;43m=\u001B[39;49m\u001B[43mac_kwargs\u001B[49m\u001B[43m,\u001B[49m\u001B[43m \u001B[49m\u001B[43mgamma\u001B[49m\u001B[38;5;241;43m=\u001B[39;49m\u001B[43mGAMMA\u001B[49m\u001B[43m,\u001B[49m\n\u001B[1;32m     16\u001B[0m \u001B[43m            \u001B[49m\u001B[43mseed\u001B[49m\u001B[38;5;241;43m=\u001B[39;49m\u001B[43mSEED\u001B[49m\u001B[43m,\u001B[49m\u001B[43m \u001B[49m\u001B[43msteps_per_epoch\u001B[49m\u001B[38;5;241;43m=\u001B[39;49m\u001B[43mSTEPS\u001B[49m\u001B[43m,\u001B[49m\u001B[43m \u001B[49m\u001B[43mlogger_kwargs\u001B[49m\u001B[38;5;241;43m=\u001B[39;49m\u001B[43mlogger_kwargs\u001B[49m\u001B[43m)\u001B[49m\n\u001B[1;32m     17\u001B[0m \u001B[38;5;66;03m# test PPO agent (not trained)\u001B[39;00m\n\u001B[1;32m     18\u001B[0m ppo\u001B[38;5;241m.\u001B[39mtest(deterministic\u001B[38;5;241m=\u001B[39m\u001B[38;5;28;01mTrue\u001B[39;00m)\n",
      "File \u001B[0;32m~/Documents/BAI/Master/master-thesis/Code/Python/TBP/PPO/sand_box/PPO.py:420\u001B[0m, in \u001B[0;36mPPO.__init__\u001B[0;34m(self, env, ac_kwargs, seed, steps_per_epoch, epochs, gamma, clip_ratio, pi_lr, vf_lr, train_pi_iters, train_v_iters, lam, max_ep_len, target_kl, logger_kwargs, save_freq)\u001B[0m\n\u001B[1;32m    417\u001B[0m sync_params(\u001B[38;5;28mself\u001B[39m\u001B[38;5;241m.\u001B[39mac)\n\u001B[1;32m    419\u001B[0m \u001B[38;5;66;03m# Count variables\u001B[39;00m\n\u001B[0;32m--> 420\u001B[0m var_counts \u001B[38;5;241m=\u001B[39m \u001B[38;5;28mtuple\u001B[39m(count_vars(module) \u001B[38;5;28;01mfor\u001B[39;00m module \u001B[38;5;129;01min\u001B[39;00m [\u001B[38;5;28;43mself\u001B[39;49m\u001B[38;5;241;43m.\u001B[39;49m\u001B[43mac\u001B[49m\u001B[38;5;241;43m.\u001B[39;49m\u001B[43mpi\u001B[49m, \u001B[38;5;28mself\u001B[39m\u001B[38;5;241m.\u001B[39mac\u001B[38;5;241m.\u001B[39mv])\n\u001B[1;32m    421\u001B[0m \u001B[38;5;28mself\u001B[39m\u001B[38;5;241m.\u001B[39mlogger\u001B[38;5;241m.\u001B[39mlog(\u001B[38;5;124m'\u001B[39m\u001B[38;5;130;01m\\n\u001B[39;00m\u001B[38;5;124mNumber of parameters 😱😱😱: \u001B[39m\u001B[38;5;130;01m\\t\u001B[39;00m\u001B[38;5;124m pi: \u001B[39m\u001B[38;5;132;01m%d\u001B[39;00m\u001B[38;5;124m, \u001B[39m\u001B[38;5;130;01m\\t\u001B[39;00m\u001B[38;5;124m v: \u001B[39m\u001B[38;5;132;01m%d\u001B[39;00m\u001B[38;5;130;01m\\n\u001B[39;00m\u001B[38;5;124m'\u001B[39m \u001B[38;5;241m%\u001B[39m var_counts)\n\u001B[1;32m    423\u001B[0m \u001B[38;5;66;03m# Set up experience buffer\u001B[39;00m\n",
      "File \u001B[0;32m~/Documents/BAI/Master/master-thesis/.env/lib/python3.11/site-packages/torch/nn/modules/module.py:1688\u001B[0m, in \u001B[0;36mModule.__getattr__\u001B[0;34m(self, name)\u001B[0m\n\u001B[1;32m   1686\u001B[0m     \u001B[38;5;28;01mif\u001B[39;00m name \u001B[38;5;129;01min\u001B[39;00m modules:\n\u001B[1;32m   1687\u001B[0m         \u001B[38;5;28;01mreturn\u001B[39;00m modules[name]\n\u001B[0;32m-> 1688\u001B[0m \u001B[38;5;28;01mraise\u001B[39;00m \u001B[38;5;167;01mAttributeError\u001B[39;00m(\u001B[38;5;124mf\u001B[39m\u001B[38;5;124m\"\u001B[39m\u001B[38;5;124m'\u001B[39m\u001B[38;5;132;01m{\u001B[39;00m\u001B[38;5;28mtype\u001B[39m(\u001B[38;5;28mself\u001B[39m)\u001B[38;5;241m.\u001B[39m\u001B[38;5;18m__name__\u001B[39m\u001B[38;5;132;01m}\u001B[39;00m\u001B[38;5;124m'\u001B[39m\u001B[38;5;124m object has no attribute \u001B[39m\u001B[38;5;124m'\u001B[39m\u001B[38;5;132;01m{\u001B[39;00mname\u001B[38;5;132;01m}\u001B[39;00m\u001B[38;5;124m'\u001B[39m\u001B[38;5;124m\"\u001B[39m)\n",
      "\u001B[0;31mAttributeError\u001B[0m: 'MLPActorCritic' object has no attribute 'pi'"
     ]
    }
   ],
   "execution_count": 5
  },
  {
   "metadata": {
    "ExecuteTime": {
     "end_time": "2025-05-16T13:13:04.292886Z",
     "start_time": "2025-05-16T13:01:24.608539Z"
    }
   },
   "cell_type": "code",
   "source": "",
   "id": "5244a30fd458a59b",
   "outputs": [],
   "execution_count": null
  }
 ],
 "metadata": {
  "kernelspec": {
   "display_name": "Python 3",
   "language": "python",
   "name": "python3"
  },
  "language_info": {
   "codemirror_mode": {
    "name": "ipython",
    "version": 2
   },
   "file_extension": ".py",
   "mimetype": "text/x-python",
   "name": "python",
   "nbconvert_exporter": "python",
   "pygments_lexer": "ipython2",
   "version": "2.7.6"
  }
 },
 "nbformat": 4,
 "nbformat_minor": 5
}
