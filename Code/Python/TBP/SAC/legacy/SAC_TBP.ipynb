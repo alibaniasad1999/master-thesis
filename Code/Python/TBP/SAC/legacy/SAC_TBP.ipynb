{
 "cells": [
  {
   "metadata": {},
   "cell_type": "markdown",
   "source": "# Soft Actor-Critic Reinforcement Learning for the TBP System",
   "id": "49b575dc48bc3192"
  },
  {
   "metadata": {
    "collapsed": true,
    "ExecuteTime": {
     "end_time": "2025-05-18T08:45:19.717866Z",
     "start_time": "2025-05-18T08:45:12.027283Z"
    }
   },
   "cell_type": "code",
   "source": [
    "try :\n",
    "    import gymnasium as gym\n",
    "    from gymnasium.spaces import Box, Discrete\n",
    "    from gymnasium import spaces\n",
    "except ImportError:\n",
    "    %pip install gymnasium\n",
    "    import gymnasium as gym\n",
    "    from gymnasium.spaces import Box, Discrete\n",
    "    from gymnasium import spaces\n",
    "\n",
    "try:\n",
    "    from mpi4py import MPI\n",
    "except ImportError:\n",
    "    %pip install mpi4py\n",
    "    from mpi4py import MPI\n",
    "\n",
    "try:\n",
    "    import torchviz\n",
    "except ImportError:\n",
    "    %pip install torchviz\n",
    "    import torchviz\n",
    "# Third-party imports\n",
    "import numpy as np\n",
    "# PyTorch imports\n",
    "import torch\n",
    "import torch.nn as nn\n",
    "import torch.nn.functional as F\n",
    "from torch.distributions.normal import Normal\n",
    "from torch.optim import Adam\n",
    "# Standard library imports\n",
    "import os\n",
    "from typing import Any\n",
    "import time\n",
    "from copy import deepcopy\n",
    "import itertools\n",
    "import matplotlib.pyplot as plt"
   ],
   "id": "initial_id",
   "outputs": [],
   "execution_count": 1
  },
  {
   "metadata": {
    "ExecuteTime": {
     "end_time": "2025-05-18T08:45:20.027173Z",
     "start_time": "2025-05-18T08:45:20.022958Z"
    }
   },
   "cell_type": "code",
   "source": [
    "import logging\n",
    "logging.getLogger('matplotlib.font_manager').setLevel(level=logging.CRITICAL)"
   ],
   "id": "fe0d59d750e5a3d9",
   "outputs": [],
   "execution_count": 2
  },
  {
   "metadata": {
    "ExecuteTime": {
     "end_time": "2025-05-18T08:45:20.075847Z",
     "start_time": "2025-05-18T08:45:20.059309Z"
    }
   },
   "cell_type": "code",
   "source": [
    "if not os.path.isfile(\"trajectory.csv\"):\n",
    "    !wget https://raw.githubusercontent.com/alibaniasad1999/master-thesis/main/Code/Python/TBP/SAC/trajectory.csv"
   ],
   "id": "22caaab73112734d",
   "outputs": [],
   "execution_count": 3
  },
  {
   "metadata": {
    "ExecuteTime": {
     "end_time": "2025-05-18T08:45:20.193434Z",
     "start_time": "2025-05-18T08:45:20.117383Z"
    }
   },
   "cell_type": "code",
   "source": [
    "if not os.path.isdir('utils'):\n",
    "    %mkdir utils\n",
    "    !wget -P utils https://raw.githubusercontent.com/alibaniasad1999/spinningup/master/spinup/utils/logx.py\n",
    "    !wget -P utils https://raw.githubusercontent.com/alibaniasad1999/spinningup/master/spinup/utils/mpi_tools.py\n",
    "    !wget -P utils https://raw.githubusercontent.com/alibaniasad1999/spinningup/master/spinup/utils/serialization_utils.py\n",
    "# spinning up utilities\n",
    "# import utils\n",
    "from utils.logx import EpochLogger\n",
    "from utils.logx import colorize"
   ],
   "id": "e44cf5b609caf64b",
   "outputs": [],
   "execution_count": 4
  },
  {
   "metadata": {},
   "cell_type": "markdown",
   "source": "## Core SAC classes",
   "id": "e63676c9f0752a0c"
  },
  {
   "metadata": {
    "ExecuteTime": {
     "end_time": "2025-05-18T08:45:20.243914Z",
     "start_time": "2025-05-18T08:45:20.216308Z"
    }
   },
   "cell_type": "code",
   "source": [
    "def combined_shape(length, shape=None):\n",
    "    if shape is None:\n",
    "        return (length,)\n",
    "    return (length, shape) if np.isscalar(shape) else (length, *shape)\n",
    "\n",
    "\n",
    "def mlp(sizes, activation, output_activation=nn.Identity, device_class=torch.device(\"cpu\")):\n",
    "    layers = []\n",
    "    for j in range(len(sizes) - 1):\n",
    "        act = activation if j < len(sizes) - 2 else output_activation\n",
    "        layers += [nn.Linear(sizes[j], sizes[j + 1]), act()]\n",
    "    return nn.Sequential(*layers).to(device_class)\n",
    "\n",
    "\n",
    "def count_vars(module):\n",
    "    return sum([np.prod(p.shape) for p in module.parameters()])\n",
    "\n",
    "\n",
    "LOG_STD_MAX = 2\n",
    "LOG_STD_MIN = -20\n",
    "\n",
    "\n",
    "# noinspection PyArgumentList\n",
    "class SquashedGaussianMLPActor(nn.Module):\n",
    "\n",
    "    def __init__(self, obs_dim, act_dim, hidden_sizes, activation, act_limit, device_class=torch.device(\"cpu\")):\n",
    "        super().__init__()\n",
    "        self.device = device_class\n",
    "        self.net = mlp([obs_dim] + list(hidden_sizes), activation, device_class=self.device)\n",
    "        self.mu_layer = nn.Linear(hidden_sizes[-1], act_dim).to(self.device)\n",
    "        self.log_std_layer = nn.Linear(hidden_sizes[-1], act_dim).to(self.device)\n",
    "        self.act_limit = act_limit\n",
    "\n",
    "    def forward(self, obs, deterministic=False, with_logprob=True):\n",
    "        net_out = self.net(obs)\n",
    "        mu = self.mu_layer(net_out)\n",
    "        log_std = self.log_std_layer(net_out)\n",
    "        log_std = torch.clamp(log_std, LOG_STD_MIN, LOG_STD_MAX)\n",
    "        std = torch.exp(log_std)\n",
    "\n",
    "        # Pre-squash distribution and sample\n",
    "        pi_distribution = Normal(mu, std)\n",
    "        if deterministic:\n",
    "            # Only used for evaluating policy at test time.\n",
    "            pi_action = mu\n",
    "        else:\n",
    "            pi_action = pi_distribution.rsample()\n",
    "\n",
    "        if with_logprob:\n",
    "            # Compute logprob from Gaussian, and then apply correction for Tanh squashing.\n",
    "            # NOTE: The correction formula is a little bit magic. To get an understanding \n",
    "            # of where it comes from, check out the original SAC paper (arXiv 1801.01290) \n",
    "            # and look in appendix C. This is a more numerically stable equivalent to Eq 21.\n",
    "            # Try deriving it yourself as a (very challenging) exercise. :)\n",
    "            logp_pi = pi_distribution.log_prob(pi_action).sum(axis=-1)\n",
    "            logp_pi -= (2 * (np.log(2) - pi_action - F.softplus(-2 * pi_action))).sum(axis=1)\n",
    "        else:\n",
    "            logp_pi = None\n",
    "\n",
    "        pi_action = torch.tanh(pi_action)\n",
    "        pi_action = self.act_limit * pi_action\n",
    "\n",
    "        return pi_action, logp_pi\n",
    "\n",
    "\n",
    "class MLPQFunction(nn.Module):\n",
    "\n",
    "    def __init__(self, obs_dim, act_dim, hidden_sizes, activation, device_class=torch.device(\"cpu\")):\n",
    "        super().__init__()\n",
    "        self.device = device_class\n",
    "        self.q = mlp([obs_dim + act_dim] + list(hidden_sizes) + [1], activation, device_class=self.device)\n",
    "\n",
    "    def forward(self, obs, act):\n",
    "        q = self.q(torch.cat([obs, act], dim=-1))\n",
    "        return torch.squeeze(q, -1)  # Critical to ensure q has the right shape.\n",
    "\n",
    "\n",
    "class MLPActorCritic(nn.Module):\n",
    "\n",
    "    def __init__(self, observation_space, action_space, hidden_sizes=(256, 256),\n",
    "                 activation=nn.ReLU, device_class=torch.device(\"cpu\")):\n",
    "        super().__init__()\n",
    "\n",
    "        obs_dim = observation_space.shape[0]\n",
    "        act_dim = action_space.shape[0]\n",
    "        act_limit = action_space.high[0]\n",
    "\n",
    "        # build policy and value functions\n",
    "        self.device = device_class\n",
    "        self.pi = SquashedGaussianMLPActor(obs_dim, act_dim, hidden_sizes, activation, act_limit, device_class=self.device)\n",
    "        self.q1 = MLPQFunction(obs_dim, act_dim, hidden_sizes, activation, device_class=self.device)\n",
    "        self.q2 = MLPQFunction(obs_dim, act_dim, hidden_sizes, activation, device_class=self.device)\n",
    "\n",
    "    def act(self, obs, deterministic=False):\n",
    "        with torch.no_grad():\n",
    "            a, _ = self.pi(obs, deterministic, False)\n",
    "            return a.cpu().numpy()"
   ],
   "id": "27afb40abac216dd",
   "outputs": [],
   "execution_count": 5
  },
  {
   "metadata": {},
   "cell_type": "markdown",
   "source": "## Three Body Problem Environment",
   "id": "462a2c92c65ba725"
  },
  {
   "metadata": {
    "ExecuteTime": {
     "end_time": "2025-05-18T08:45:20.910856Z",
     "start_time": "2025-05-18T08:45:20.265724Z"
    }
   },
   "cell_type": "code",
   "source": [
    "import pandas as pd\n",
    "## import trajectory data\n",
    "df = pd.read_csv('trajectory.csv')\n",
    "df.head()\n",
    "# df to numpy array\n",
    "data = df.to_numpy()\n",
    "print(data.shape)\n",
    "trajectory = np.delete(data, 2, 1)\n",
    "trajectory = np.delete(trajectory, -1, 1)\n",
    "trajectory.shape"
   ],
   "id": "6de15a32bfe5b6e1",
   "outputs": [
    {
     "name": "stdout",
     "output_type": "stream",
     "text": [
      "(9999, 6)\n"
     ]
    },
    {
     "data": {
      "text/plain": [
       "(9999, 4)"
      ]
     },
     "execution_count": 6,
     "metadata": {},
     "output_type": "execute_result"
    }
   ],
   "execution_count": 6
  },
  {
   "metadata": {
    "ExecuteTime": {
     "end_time": "2025-05-18T08:45:22.913019Z",
     "start_time": "2025-05-18T08:45:22.083260Z"
    }
   },
   "cell_type": "code",
   "source": "plt.plot(trajectory[:,0], trajectory[:,1])",
   "id": "67c4e6bf1f19839e",
   "outputs": [
    {
     "data": {
      "text/plain": [
       "[<matplotlib.lines.Line2D at 0x11c9b52d0>]"
      ]
     },
     "execution_count": 7,
     "metadata": {},
     "output_type": "execute_result"
    },
    {
     "data": {
      "text/plain": [
       "<Figure size 640x480 with 1 Axes>"
      ],
      "image/png": "[encoded data removed]"
     },
     "metadata": {},
     "output_type": "display_data"
    }
   ],
   "execution_count": 7
  },
  {
   "metadata": {
    "ExecuteTime": {
     "end_time": "2025-05-18T08:45:23.011037Z",
     "start_time": "2025-05-18T08:45:22.999821Z"
    }
   },
   "cell_type": "code",
   "source": [
    "if not os.path.isfile('TBP.py'):\n",
    "    !wget \"https://raw.githubusercontent.com/alibaniasad1999/master-thesis/main/Code/Python/Environment/TBP.py\"\n",
    "from TBP import ThreeBodyEnv"
   ],
   "id": "e16399118e105123",
   "outputs": [
    {
     "name": "stdout",
     "output_type": "stream",
     "text": [
      "trajectory.csv already exists.\n"
     ]
    }
   ],
   "execution_count": 8
  },
  {
   "metadata": {},
   "cell_type": "markdown",
   "source": "## Soft Actor-Critic (SAC) Algorithm",
   "id": "690aa002fba6d5ee"
  },
  {
   "metadata": {
    "ExecuteTime": {
     "end_time": "2025-05-18T08:45:23.174661Z",
     "start_time": "2025-05-18T08:45:23.096500Z"
    }
   },
   "cell_type": "code",
   "source": [
    "class ReplayBuffer:\n",
    "    \"\"\"\n",
    "    A simple FIFO experience replay buffer for SAC agents.\n",
    "    \"\"\"\n",
    "\n",
    "    def __init__(self, obs_dim, act_dim, size, device_class=torch.device(\"cpu\")):\n",
    "        self.obs_buf = np.zeros(combined_shape(size, obs_dim), dtype=np.float32)\n",
    "        self.obs2_buf = np.zeros(combined_shape(size, obs_dim), dtype=np.float32)\n",
    "        self.act_buf = np.zeros(combined_shape(size, act_dim), dtype=np.float32)\n",
    "        self.rew_buf = np.zeros(size, dtype=np.float32)\n",
    "        self.done_buf = np.zeros(size, dtype=np.float32)\n",
    "        self.ptr, self.size, self.max_size = 0, 0, size\n",
    "        self.device = device_class\n",
    "\n",
    "    def store(self, obs, act, rew, next_obs, done):\n",
    "        self.obs_buf[self.ptr] = obs\n",
    "        self.obs2_buf[self.ptr] = next_obs\n",
    "        self.act_buf[self.ptr] = act\n",
    "        self.rew_buf[self.ptr] = rew\n",
    "        self.done_buf[self.ptr] = done\n",
    "        self.ptr = (self.ptr+1) % self.max_size\n",
    "        self.size = min(self.size+1, self.max_size)\n",
    "\n",
    "    def sample_batch(self, batch_size=32):\n",
    "        idxs = np.random.randint(0, self.size, size=batch_size)\n",
    "        batch = dict(obs=self.obs_buf[idxs],\n",
    "                     obs2=self.obs2_buf[idxs],\n",
    "                     act=self.act_buf[idxs],\n",
    "                     rew=self.rew_buf[idxs],\n",
    "                     done=self.done_buf[idxs])\n",
    "        return {k: torch.as_tensor(v, dtype=torch.float32, device=self.device) for k,v in batch.items()}\n",
    "\n",
    "\n",
    "\n",
    "class SAC: # TODO: fix device\n",
    "    def __init__ (self, env_fn, actor_critic=MLPActorCritic, ac_kwargs_class=None, seed=0,\n",
    "                  steps_per_epoch=4000, epochs=100, replay_size=int(1e6), gamma=0.99,\n",
    "                  polyak=0.995, lr=1e-3, alpha=0.2, batch_size=128, start_steps=10000,\n",
    "                  update_after=1000, num_updates=10, update_every=50, num_test_episodes=10, max_ep_len=1000,\n",
    "                  logger_kwargs=None, save_freq=1, device_class=torch.device(\"cpu\")):\n",
    "        \n",
    "        self.env_fn = env_fn\n",
    "        self.actor_critic = actor_critic\n",
    "        self.ac_kwargs = ac_kwargs_class\n",
    "        self.seed = seed\n",
    "        self.steps_per_epoch = steps_per_epoch\n",
    "        self.epochs = epochs\n",
    "        self.replay_size = replay_size\n",
    "        self.gamma = gamma\n",
    "        self.polyak = polyak\n",
    "        self.lr = lr\n",
    "        self.alpha = alpha\n",
    "        self.batch_size = batch_size\n",
    "        self.start_steps = start_steps\n",
    "        self.update_after = update_after\n",
    "        self.update_every = update_every\n",
    "        self.num_updates = num_updates\n",
    "        self.num_test_episodes = num_test_episodes\n",
    "        self.max_ep_len = max_ep_len\n",
    "        self.logger_kwargs = logger_kwargs\n",
    "        self.save_freq = save_freq\n",
    "        self.device = device_class\n",
    "        \"\"\"\n",
    "        Soft Actor-Critic (SAC)\n",
    "\n",
    "\n",
    "        Args:\n",
    "            env_fn : A function which creates a copy of the environment.\n",
    "                The environment must satisfy the OpenAI Gym API.\n",
    "\n",
    "            actor_critic: The constructor method for a PyTorch Module with an ``act`` \n",
    "                method, a ``pi`` module, a ``q1`` module, and a ``q2`` module.\n",
    "                The ``act`` method and ``pi`` module should accept batches of \n",
    "                observations as inputs, and ``q1`` and ``q2`` should accept a batch \n",
    "                of observations and a batch of actions as inputs. When called, \n",
    "                ``act``, ``q1``, and ``q2`` should return:\n",
    "\n",
    "                ===========  ================  ======================================\n",
    "                Call         Output Shape      Description\n",
    "                ===========  ================  ======================================\n",
    "                ``act``      (batch, act_dim)  | Numpy array of actions for each \n",
    "                                               | observation.\n",
    "                ``q1``       (batch,)          | Tensor containing one current estimate\n",
    "                                               | of Q* for the provided observations\n",
    "                                               | and actions. (Critical: make sure to\n",
    "                                               | flatten this!)\n",
    "                ``q2``       (batch,)          | Tensor containing the other current \n",
    "                                               | estimate of Q* for the provided observations\n",
    "                                               | and actions. (Critical: make sure to\n",
    "                                               | flatten this!)\n",
    "                ===========  ================  ======================================\n",
    "\n",
    "                Calling ``pi`` should return:\n",
    "\n",
    "                ===========  ================  ======================================\n",
    "                Symbol       Shape             Description\n",
    "                ===========  ================  ======================================\n",
    "                ``a``        (batch, act_dim)  | Tensor containing actions from policy\n",
    "                                               | given observations.\n",
    "                ``logp_pi``  (batch,)          | Tensor containing log probabilities of\n",
    "                                               | actions in ``a``. Importantly: gradients\n",
    "                                               | should be able to flow back into ``a``.\n",
    "                ===========  ================  ======================================\n",
    "\n",
    "            ac_kwargs (dict): Any kwargs appropriate for the ActorCritic object \n",
    "                you provided to SAC.\n",
    "\n",
    "            seed (int): Seed for random number generators.\n",
    "\n",
    "            steps_per_epoch (int): Number of steps of interaction (state-action pairs) \n",
    "                for the agent and the environment in each epoch.\n",
    "\n",
    "            epochs (int): Number of epochs to run and train agent.\n",
    "\n",
    "            replay_size (int): Maximum length of replay buffer.\n",
    "\n",
    "            gamma (float): Discount factor. (Always between 0 and 1.)\n",
    "\n",
    "            polyak (float): Interpolation factor in polyak averaging for target \n",
    "                networks. Target networks are updated towards main networks \n",
    "                according to:\n",
    "\n",
    "                .. math:: \\\\theta_{\\\\text{targ}} \\\\left arrow \n",
    "                    \\\\rho \\\\theta_{\\\\text{targ}} + (1-\\\\rho) \\\\theta\n",
    "\n",
    "                where: math:`\\\\rho` is polyak. (Always between 0 and 1, usually \n",
    "                close to 1.)\n",
    "\n",
    "            lr (float): Learning rate (used for both policy and value learning).\n",
    "\n",
    "            alpha (float): Entropy regularization coefficient. (Equivalent to \n",
    "                inverse of a reward scale in the original SAC paper.)\n",
    "\n",
    "            batch_size (int): Minibatch size for SGD.\n",
    "\n",
    "            start_steps (int): Number of steps for uniform-random action selection,\n",
    "                before running real policy. Help exploration.\n",
    "\n",
    "            update_after (int): Number of env interactions to collect before\n",
    "                starting to do gradient descent updates. Ensures replay buffer\n",
    "                is full enough for useful updates.\n",
    "\n",
    "            update_every (int): Number of env interactions that should elapse\n",
    "                between gradient descent updates. Note: Regardless of how long \n",
    "                you wait between updates, the ratio of env steps to gradient steps \n",
    "                is locked to 1.\n",
    "\n",
    "            num_test_episodes (int): Number of episodes to test the deterministic\n",
    "                policy at the end of each epoch.\n",
    "\n",
    "            max_ep_len (int): Maximum length of trajectory / episode / rollout.\n",
    "\n",
    "            logger_kwargs (dict): Keyword args for EpochLogger.\n",
    "\n",
    "            save_freq (int): How often (in terms of gap between epochs) to save\n",
    "                the current policy and value function.\n",
    "\n",
    "        \"\"\"\n",
    "\n",
    "        if self.ac_kwargs is None:\n",
    "            self.ac_kwargs = dict()\n",
    "        if self.logger_kwargs is None:\n",
    "            self.logger_kwargs = dict()\n",
    "        self.logger = EpochLogger(**self.logger_kwargs)\n",
    "        self.logger.save_config(locals())\n",
    "\n",
    "        torch.manual_seed(seed)\n",
    "        np.random.seed(seed)\n",
    "\n",
    "        self.env, self.test_env = self.env_fn(), self.env_fn()\n",
    "        self.obs_dim = self.env.observation_space.shape\n",
    "        self.act_dim = self.env.action_space.shape[0]\n",
    "\n",
    "        # Action limit for clamping: critically, assumes all dimensions share the same bound!\n",
    "        self.act_limit = self.env.action_space.high[0]\n",
    "\n",
    "        # Create actor-critic module and target networks\n",
    "        self.ac = actor_critic(self.env.observation_space, self.env.action_space, **self.ac_kwargs)\n",
    "        self.ac_targ = deepcopy(self.ac)\n",
    "\n",
    "        # Freeze target networks with respect to optimizers (only update via polyak averaging)\n",
    "        for p in self.ac_targ.parameters():\n",
    "            p.requires_grad = False\n",
    "            \n",
    "        # List of parameters for both Q-networks (save this for convenience)\n",
    "        self.q_params = itertools.chain(self.ac.q1.parameters(), self.ac.q2.parameters())\n",
    "\n",
    "        # Experience buffer\n",
    "        self.replay_buffer = ReplayBuffer(obs_dim=self.obs_dim, act_dim=self.act_dim, size=self.replay_size, device_class=self.device)\n",
    "\n",
    "        # Count variables (protip: try to get a feel for how different size networks behave!)\n",
    "        self.var_counts = tuple(count_vars(module) for module in [self.ac.pi, self.ac.q1, self.ac.q2])\n",
    "        self.logger.log('\\nNumber of parameters: \\t pi: %d, \\t q1: %d, \\t q2: %d\\n'%self.var_counts)\n",
    "        \n",
    "        # set up optimizers for policy and q-function\n",
    "        self.pi_optimizer = Adam(self.ac.pi.parameters(), lr=lr)\n",
    "        self.q_optimizer = Adam(self.q_params, lr=lr)\n",
    "\n",
    "        # set up model saving\n",
    "        self.logger.setup_pytorch_saver(self.ac)\n",
    "\n",
    "    # Set up function for computing SAC Q-losses\n",
    "    def compute_loss_q(self, data):\n",
    "        o, a, r, o2, d = data['obs'], data['act'], data['rew'], data['obs2'], data['done']\n",
    "\n",
    "        q1 = self.ac.q1(o,a)\n",
    "        q2 = self.ac.q2(o,a)\n",
    "\n",
    "        # Bellman backup for Q functions\n",
    "        with torch.no_grad():\n",
    "            # Target actions come from *current* policy\n",
    "            a2, logp_a2 = self.ac.pi(o2)\n",
    "\n",
    "            # Target Q-values\n",
    "            q1_pi_targ = self.ac_targ.q1(o2, a2)\n",
    "            q2_pi_targ = self.ac_targ.q2(o2, a2)\n",
    "            q_pi_targ = torch.min(q1_pi_targ, q2_pi_targ)\n",
    "            backup = r + self.gamma * (1 - d) * (q_pi_targ - self.alpha * logp_a2)\n",
    "\n",
    "        # MSE loss against Bellman backup\n",
    "        loss_q1 = ((q1 - backup)**2).mean()\n",
    "        loss_q2 = ((q2 - backup)**2).mean()\n",
    "        loss_q = loss_q1 + loss_q2\n",
    "\n",
    "        # Useful info for logging\n",
    "        q_info = dict(Q1Vals=q1.detach().cpu().numpy(),\n",
    "                      Q2Vals=q2.detach().cpu().numpy())\n",
    "\n",
    "        return loss_q, q_info\n",
    "\n",
    "    # Set up function for computing SAC pi loss\n",
    "    def compute_loss_pi(self ,data):\n",
    "        o = data['obs']\n",
    "        pi, logp_pi = self.ac.pi(o)\n",
    "        q1_pi = self.ac.q1(o, pi)\n",
    "        q2_pi = self.ac.q2(o, pi)\n",
    "        q_pi = torch.min(q1_pi, q2_pi)\n",
    "\n",
    "        # Entropy-regularized policy loss\n",
    "        loss_pi = (self.alpha * logp_pi - q_pi).mean()\n",
    "\n",
    "        # Useful info for logging\n",
    "        pi_info = dict(LogPi=logp_pi.detach().cpu().numpy())\n",
    "\n",
    "        return loss_pi, pi_info\n",
    "\n",
    "    \n",
    "\n",
    "    def update(self, data):\n",
    "        # First run one gradient descent step for Q1 and Q2\n",
    "        self.q_optimizer.zero_grad()\n",
    "        loss_q, q_info = self.compute_loss_q(data)\n",
    "        loss_q.backward()\n",
    "        self.q_optimizer.step()\n",
    "\n",
    "        # Record things\n",
    "        self.logger.store(LossQ=loss_q.item(), **q_info)\n",
    "\n",
    "        # Freeze Q-networks so you don't waste computational effort \n",
    "        # computing gradients for them during the policy learning step.\n",
    "        for p in self.q_params:\n",
    "            p.requires_grad = False\n",
    "\n",
    "        # Next run one gradient descent step for pi.\n",
    "        self.pi_optimizer.zero_grad()\n",
    "        loss_pi, pi_info = self.compute_loss_pi(data)\n",
    "        loss_pi.backward()\n",
    "        self.pi_optimizer.step()\n",
    "\n",
    "        # Unfreeze Q-networks so you can optimize it at next DDPG step.\n",
    "        for p in self.q_params:\n",
    "            p.requires_grad = True\n",
    "\n",
    "        # Record things\n",
    "        self.logger.store(LossPi=loss_pi.item(), **pi_info)\n",
    "\n",
    "        # Finally, update target networks by polyak averaging.\n",
    "        with torch.no_grad():\n",
    "            for p, p_targ in zip(self.ac.parameters(), self.ac_targ.parameters()):\n",
    "                # NB: We use the in-place operations \"mul_\", \"add_\" to update target\n",
    "                # params, as opposed to \"mul\" and \"add\", which would make new tensors.\n",
    "                p_targ.data.mul_(self.polyak)\n",
    "                p_targ.data.add_((1 - self.polyak) * p.data)\n",
    "\n",
    "    def get_action(self, o, deterministic=False):\n",
    "        return self.ac.act(torch.as_tensor(o, dtype=torch.float32, device=self.device), \n",
    "                      deterministic)\n",
    "\n",
    "\n",
    "    def train(self, epochs=1000):\n",
    "        # Prepare for interaction with environment\n",
    "        total_steps = self.steps_per_epoch * epochs\n",
    "        start_time = time.time()\n",
    "        o, _ = self.env.reset()\n",
    "        ep_ret, ep_len = 0, 0\n",
    "        # Main loop: collect experience in env and update/log each epoch\n",
    "        for t in range(total_steps):\n",
    "             # Until start_steps have elapsed, randomly sample actions\n",
    "            # from a uniform distribution for better exploration. Afterward, \n",
    "            # use the learned policy. \n",
    "            if t > self.start_steps:\n",
    "                a = self.get_action(o)\n",
    "            else:\n",
    "                a = self.env.action_space.sample()\n",
    "\n",
    "            # Step the env\n",
    "            o2, r, d, _, _ = self.env.step(a)\n",
    "            ep_ret += r\n",
    "            ep_len += 1\n",
    "\n",
    "            # Ignore the \"done\" signal if it comes from hitting the time\n",
    "            # horizon (that is, when it's an artificial terminal signal\n",
    "            # that isn't based on the agent's state)\n",
    "            d = False if ep_len==self.max_ep_len else d\n",
    "\n",
    "            # Store experience to replay buffer\n",
    "            self.replay_buffer.store(o, a, r, o2, d)\n",
    "\n",
    "            # Supercritical, easy to overlook a step: make sure to update \n",
    "            # the most recent observation!\n",
    "            o = o2\n",
    "\n",
    "            # End of trajectory handling\n",
    "            if d or (ep_len == self.max_ep_len):\n",
    "                self.logger.store(EpRet=ep_ret, EpLen=ep_len)\n",
    "                o, _ = self.env.reset()\n",
    "                ep_ret, ep_len = 0, 0\n",
    "\n",
    "            # Update handling\n",
    "            if t >= self.update_after and t % self.update_every == 0:\n",
    "                print(colorize(\"updating 🥰\", 'blue', bold=True))\n",
    "                for j in range(self.num_updates):\n",
    "                    batch = self.replay_buffer.sample_batch(self.batch_size)\n",
    "                    self.update(data=batch)\n",
    "\n",
    "            # End of epoch handling\n",
    "            if (t+1) % self.steps_per_epoch == 0:\n",
    "                epoch = (t+1) // self.steps_per_epoch\n",
    "\n",
    "                # Save model\n",
    "                if (epoch % self.save_freq == 0) or (epoch == epochs):\n",
    "                    self.logger.save_state({'env': self.env}, None)\n",
    "\n",
    "\n",
    "                # Log info about epoch\n",
    "                self.logger.log_tabular('Epoch', epoch)\n",
    "                self.logger.log_tabular('EpRet', with_min_and_max=True)\n",
    "                # self.logger.log_tabular('TestEpRet', with_min_and_max=True)\n",
    "                self.logger.log_tabular('EpLen', average_only=True)\n",
    "                # self.logger.log_tabular('TestEpLen', average_only=True)\n",
    "                self.logger.log_tabular('TotalEnvInteracts', t)\n",
    "                self.logger.log_tabular('Q1Vals', with_min_and_max=True)\n",
    "                self.logger.log_tabular('Q2Vals', with_min_and_max=True)\n",
    "                self.logger.log_tabular('LogPi', with_min_and_max=True)\n",
    "                self.logger.log_tabular('LossPi', average_only=True)\n",
    "                self.logger.log_tabular('LossQ', average_only=True)\n",
    "                self.logger.log_tabular('Time', time.time()-start_time)\n",
    "                self.logger.dump_tabular()\n",
    "\n",
    "\n",
    "    def test(self, fun_mode=False, deterministic=True, save_data=True):\n",
    "        o, _ = self.env.reset()\n",
    "        state_array = []\n",
    "        action_array = []\n",
    "        while True:\n",
    "            a = self.ac.act(torch.as_tensor(o, dtype=torch.float32, device=self.device), deterministic=deterministic)\n",
    "            action_array.append(a)\n",
    "            o, _, d, _, position = self.env.step(a)\n",
    "            state_array.append(position)\n",
    "            if d:\n",
    "                break\n",
    "        dt = self.env.dt\n",
    "        time = np.arange(0, len(state_array)*dt, dt)\n",
    "        state_array = np.array(state_array)\n",
    "        action_array = np.array(action_array)\n",
    "        # save trajectory and actions to csv\n",
    "        if not os.path.exists('results/') and save_data:\n",
    "            os.makedirs('results/')\n",
    "\n",
    "        # numpy to pandas with header\n",
    "        state_df = pd.DataFrame(state_array, columns=['x', 'y', 'xdot', 'ydot'])\n",
    "        action_df = pd.DataFrame(action_array, columns=['ax', 'ay'])\n",
    "\n",
    "        # save to csv\n",
    "        if save_data:\n",
    "            state_df.to_csv('results/state.csv', index=False)\n",
    "            action_df.to_csv('results/action.csv', index=False)\n",
    "            print(colorize(\"Data saved to results folder 😜\", 'green', bold=True))\n",
    "\n",
    "\n",
    "        if fun_mode:\n",
    "            # Use XKCD style for hand-drawn look\n",
    "            with plt.xkcd():\n",
    "                plt.plot(state_array[:,0], state_array[:,1], label='State')\n",
    "                plt.plot(trajectory[:,0], trajectory[:,1], label='Trajectory')\n",
    "                plt.legend()\n",
    "                plt.show()\n",
    "            with plt.xkcd():\n",
    "                plt.plot(time, action_array)\n",
    "                plt.xlabel(\"Time (sec)\")\n",
    "                plt.ylabel(\"action (N)\")\n",
    "                plt.show()\n",
    "        else:\n",
    "            plt.plot(state_array[:,0], state_array[:,1], label='State')\n",
    "            plt.plot(trajectory[:,0], trajectory[:,1], label='Trajectory')\n",
    "            plt.legend()\n",
    "            plt.show()\n",
    "\n",
    "            plt.plot(action_array)\n",
    "            plt.xlabel(\"Time (sec)\")\n",
    "            plt.ylabel(\"action (N)\")\n",
    "            plt.show()\n",
    "\n",
    "    # save actor critic\n",
    "    def save(self, filepath='model/'):\n",
    "        if not os.path.isdir(filepath):\n",
    "            os.mkdir(filepath)\n",
    "        # Check the device_ of the model\n",
    "        if self.ac.pi.device.type == 'cuda':\n",
    "            torch.save(self.ac.pi.state_dict(), filepath + 'actor_cuda.pth')\n",
    "            torch.save(self.ac.q1.state_dict(), filepath + 'q1_cuda.pth')\n",
    "            torch.save(self.ac.q2.state_dict(), filepath + 'q2_cuda.pth')\n",
    "        else:\n",
    "            torch.save(self.ac.pi.state_dict(), filepath + 'actor_cpu.pth')\n",
    "            torch.save(self.ac.q1.state_dict(), filepath + 'q1_cpu.pth')\n",
    "            torch.save(self.ac.q2.state_dict(), filepath + 'q2_cpu.pth')\n",
    "        print(colorize(f\"Model saved successfully! 🥰😎\", 'blue', bold=True))\n",
    "\n",
    "        \n",
    "    # load actor critic\n",
    "    def load(self, filepath='model/', load_device=torch.device(\"cpu\"),from_device_to_load='cpu'):\n",
    "        # check if the model is available\n",
    "        if os.path.isfile(filepath + 'actor_cpu.pth') or os.path.isfile(filepath + 'actor_cuda.pth'):\n",
    "             # Check the device_ of the model\n",
    "            if from_device_to_load == 'cpu':\n",
    "                actor_file = 'actor_cpu.pth'\n",
    "                q1_file = 'q1_cpu.pth'\n",
    "                q2_file = 'q2_cpu.pth'\n",
    "            else:\n",
    "                actor_file = 'actor_cuda.pth'\n",
    "                q1_file = 'q1_cuda.pth'\n",
    "                q2_file = 'q2_cuda.pth'\n",
    "\n",
    "            if from_device_to_load == 'cpu' and load_device.type == 'cuda':\n",
    "                self.ac.pi.load_state_dict(torch.load(filepath + actor_file, map_location=torch.device('cuda')))\n",
    "                self.ac.q1.load_state_dict(torch.load(filepath + q1_file, map_location=torch.device('cuda')))\n",
    "                self.ac.q2.load_state_dict(torch.load(filepath + q2_file, map_location=torch.device('cuda')))\n",
    "            elif from_device_to_load == 'cuda' and load_device.type == 'cpu':\n",
    "                self.ac.pi.load_state_dict(torch.load(filepath + actor_file, map_location=torch.device('cpu')))\n",
    "                self.ac.q1.load_state_dict(torch.load(filepath + q1_file, map_location=torch.device('cpu')))\n",
    "                self.ac.q2.load_state_dict(torch.load(filepath + q2_file, map_location=torch.device('cpu')))\n",
    "            else:\n",
    "                self.ac.pi.load_state_dict(torch.load(filepath + actor_file))\n",
    "                self.ac.q1.load_state_dict(torch.load(filepath + q1_file))\n",
    "                self.ac.q2.load_state_dict(torch.load(filepath + q2_file))\n",
    "            print(colorize(f\"Model loaded successfully and device is {load_device}! 🥰😎\", 'blue', bold=True))\n",
    "        else:\n",
    "            print(colorize(\"Model not found! 😱🥲\", 'red', bold=True))\n",
    "\n",
    "        \n",
    "                \n",
    "                "
   ],
   "id": "22c21024bb55a3f1",
   "outputs": [],
   "execution_count": 9
  },
  {
   "metadata": {
    "ExecuteTime": {
     "end_time": "2025-05-18T08:45:31.868257Z",
     "start_time": "2025-05-18T08:45:23.206937Z"
    }
   },
   "cell_type": "code",
   "source": [
    "device = torch.device(\"cuda\" if torch.cuda.is_available() else \"cpu\")\n",
    "print(colorize(f\"Device is {device}! 🥰😎\", 'green', bold=True))\n",
    "ac_kwargs = dict(hidden_sizes=[64, 64], activation=nn.PReLU, device_class=device)\n",
    "# Define variables directly\n",
    "env = ThreeBodyEnv(trajectory)\n",
    "hid = 64\n",
    "l = 2\n",
    "gamma = 0.99\n",
    "seed = 0\n",
    "epochs = 50\n",
    "exp_name = 'ddpg'\n",
    "steps_per_epoch_=30000\n",
    "device = torch.device(\"cuda\" if torch.cuda.is_available() else \"cpu\")\n",
    "\n",
    "ac_kwargs = dict(hidden_sizes=[hid]*l)\n",
    "states_array = []\n",
    "# logger_kwargs = setup_logger_kwargs(exp_name, seed)\n",
    "reward_array=[]\n",
    "# ddpg = DDPG(lambda : ThreeBodyEnv(trajectory, error_range=0.01, final_range=0.001), MLPActorCritic, ac_kwargs,seed_=seed, steps_per_epoch=steps_per_epoch_, epochs_=epochs, logger_kwargs_=logger_kwargs, device=device, batch_size=1024, start_steps=5000, update_after=1000, update_every=2000)\n",
    "\n",
    "\n",
    "sac_rl = SAC(lambda : ThreeBodyEnv(trajectory, error_range=0.01, final_range=0.001), epochs=100, device_class=device, ac_kwargs_class=ac_kwargs, steps_per_epoch=steps_per_epoch_, batch_size=1024, start_steps=5000, update_after=1000, update_every=2000)"
   ],
   "id": "ddb107c5b964e083",
   "outputs": [
    {
     "name": "stdout",
     "output_type": "stream",
     "text": [
      "\u001B[32;1mDevice is cpu! 🥰😎\u001B[0m\n",
      "\u001B[32;1mLogging data to /tmp/experiments/1747557923/progress.txt\u001B[0m\n",
      "\u001B[36;1mSaving config:\n",
      "\u001B[0m\n",
      "{\n",
      "    \"ac_kwargs_class\":\t{\n",
      "        \"hidden_sizes\":\t[\n",
      "            64,\n",
      "            64\n",
      "        ]\n",
      "    },\n",
      "    \"actor_critic\":\t\"MLPActorCritic\",\n",
      "    \"alpha\":\t0.2,\n",
      "    \"batch_size\":\t1024,\n",
      "    \"device_class\":\t\"cpu\",\n",
      "    \"env_fn\":\t\"<function <lambda> at 0x11cac1a80>\",\n",
      "    \"epochs\":\t100,\n",
      "    \"gamma\":\t0.99,\n",
      "    \"logger_kwargs\":\tnull,\n",
      "    \"lr\":\t0.001,\n",
      "    \"max_ep_len\":\t1000,\n",
      "    \"num_test_episodes\":\t10,\n",
      "    \"num_updates\":\t10,\n",
      "    \"polyak\":\t0.995,\n",
      "    \"replay_size\":\t1000000,\n",
      "    \"save_freq\":\t1,\n",
      "    \"seed\":\t0,\n",
      "    \"self\":\t{\n",
      "        \"<__main__.SAC object at 0x11c99a310>\":\t{\n",
      "            \"ac_kwargs\":\t{\n",
      "                \"hidden_sizes\":\t[\n",
      "                    64,\n",
      "                    64\n",
      "                ]\n",
      "            },\n",
      "            \"actor_critic\":\t\"MLPActorCritic\",\n",
      "            \"alpha\":\t0.2,\n",
      "            \"batch_size\":\t1024,\n",
      "            \"device\":\t\"cpu\",\n",
      "            \"env_fn\":\t\"<function <lambda> at 0x11cac1a80>\",\n",
      "            \"epochs\":\t100,\n",
      "            \"gamma\":\t0.99,\n",
      "            \"logger\":\t{\n",
      "                \"<utils.logx.EpochLogger object at 0x11986ae50>\":\t{\n",
      "                    \"epoch_dict\":\t{},\n",
      "                    \"exp_name\":\tnull,\n",
      "                    \"first_row\":\ttrue,\n",
      "                    \"log_current_row\":\t{},\n",
      "                    \"log_headers\":\t[],\n",
      "                    \"output_dir\":\t\"/tmp/experiments/1747557923\",\n",
      "                    \"output_file\":\t{\n",
      "                        \"<_io.TextIOWrapper name='/tmp/experiments/1747557923/progress.txt' mode='w' encoding='UTF-8'>\":\t{\n",
      "                            \"mode\":\t\"w\"\n",
      "                        }\n",
      "                    }\n",
      "                }\n",
      "            },\n",
      "            \"logger_kwargs\":\t{},\n",
      "            \"lr\":\t0.001,\n",
      "            \"max_ep_len\":\t1000,\n",
      "            \"num_test_episodes\":\t10,\n",
      "            \"num_updates\":\t10,\n",
      "            \"polyak\":\t0.995,\n",
      "            \"replay_size\":\t1000000,\n",
      "            \"save_freq\":\t1,\n",
      "            \"seed\":\t0,\n",
      "            \"start_steps\":\t5000,\n",
      "            \"steps_per_epoch\":\t30000,\n",
      "            \"update_after\":\t1000,\n",
      "            \"update_every\":\t2000\n",
      "        }\n",
      "    },\n",
      "    \"start_steps\":\t5000,\n",
      "    \"steps_per_epoch\":\t30000,\n",
      "    \"update_after\":\t1000,\n",
      "    \"update_every\":\t2000\n",
      "}\n",
      "\u001B[32;1m\n",
      "Number of parameters: \t pi: 4740, \t q1: 4673, \t q2: 4673\n",
      "\u001B[0m\n"
     ]
    }
   ],
   "execution_count": 10
  },
  {
   "metadata": {
    "ExecuteTime": {
     "end_time": "2025-05-18T08:45:35.315958Z",
     "start_time": "2025-05-18T08:45:32.103660Z"
    }
   },
   "cell_type": "code",
   "source": [
    "print(sac_rl.ac.pi)\n",
    "dot = torchviz.make_dot(sac_rl.ac.pi(torch.randn(1, sac_rl.obs_dim[0], device=device)), params=dict(sac_rl.ac.pi.named_parameters()), show_attrs=True)\n",
    "dot.graph_attr.update(size=\"10,10\")\n",
    "dot"
   ],
   "id": "bf78b6bbc1584c5",
   "outputs": [
    {
     "name": "stdout",
     "output_type": "stream",
     "text": [
      "SquashedGaussianMLPActor(\n",
      "  (net): Sequential(\n",
      "    (0): Linear(in_features=4, out_features=64, bias=True)\n",
      "    (1): ReLU()\n",
      "    (2): Linear(in_features=64, out_features=64, bias=True)\n",
      "    (3): Identity()\n",
      "  )\n",
      "  (mu_layer): Linear(in_features=64, out_features=2, bias=True)\n",
      "  (log_std_layer): Linear(in_features=64, out_features=2, bias=True)\n",
      ")\n"
     ]
    },
    {
     "data": {
      "image/svg+xml": "<?xml version=\"1.0\" encoding=\"UTF-8\" standalone=\"no\"?>\n<!DOCTYPE svg PUBLIC \"-//W3C//DTD SVG 1.1//EN\"\n \"http://www.w3.org/Graphics/SVG/1.1/DTD/svg11.dtd\">\n<!-- Generated by graphviz version 12.2.1 (20241206.2353)\n -->\n<!-- Pages: 1 -->\n<svg width=\"272pt\" height=\"720pt\"\n viewBox=\"0.00 0.00 272.29 720.00\" xmlns=\"http://www.w3.org/2000/svg\" xmlns:xlink=\"http://www.w3.org/1999/xlink\">\n<g id=\"graph0\" class=\"graph\" transform=\"scale(0.349091 0.349091) rotate(0) translate(4 2058.5)\">\n<polygon fill=\"white\" stroke=\"none\" points=\"-4,4 -4,-2058.5 776,-2058.5 776,4 -4,4\"/>\n<!-- 4806998928 -->\n<g id=\"node1\" class=\"node\">\n<title>4806998928</title>\n<polygon fill=\"#caff70\" stroke=\"black\" points=\"584,-583.25 526,-583.25 526,-550.5 584,-550.5 584,-583.25\"/>\n<text text-anchor=\"middle\" x=\"555\" y=\"-557.75\" font-family=\"monospace\" font-size=\"10.00\"> (1, 2)</text>\n</g>\n<!-- 4776665888 -->\n<g id=\"node2\" class=\"node\">\n<title>4776665888</title>\n<polygon fill=\"lightgrey\" stroke=\"black\" points=\"626,-691.38 484,-691.38 484,-632.38 626,-632.38 626,-691.38\"/>\n<text text-anchor=\"middle\" x=\"555\" y=\"-677.88\" font-family=\"monospace\" font-size=\"10.00\">MulBackward0</text>\n<text text-anchor=\"middle\" x=\"555\" y=\"-665.12\" font-family=\"monospace\" font-size=\"10.00\">&#45;&#45;&#45;&#45;&#45;&#45;&#45;&#45;&#45;&#45;&#45;&#45;&#45;&#45;&#45;&#45;&#45;&#45;&#45;&#45;&#45;</text>\n<text text-anchor=\"middle\" x=\"555\" y=\"-652.38\" font-family=\"monospace\" font-size=\"10.00\">other: [saved tensor]</text>\n<text text-anchor=\"middle\" x=\"555\" y=\"-639.62\" font-family=\"monospace\" font-size=\"10.00\">self : &#160;&#160;&#160;&#160;&#160;&#160;&#160;&#160;&#160;&#160;None</text>\n</g>\n<!-- 4776665888&#45;&gt;4806998928 -->\n<g id=\"edge32\" class=\"edge\">\n<title>4776665888&#45;&gt;4806998928</title>\n<path fill=\"none\" stroke=\"black\" d=\"M555,-631.96C555,-620.09 555,-606.42 555,-594.77\"/>\n<polygon fill=\"black\" stroke=\"black\" points=\"558.5,-595.02 555,-585.02 551.5,-595.02 558.5,-595.02\"/>\n</g>\n<!-- 4776663680 -->\n<g id=\"node3\" class=\"node\">\n<title>4776663680</title>\n<polygon fill=\"lightgrey\" stroke=\"black\" points=\"614,-786.38 466,-786.38 466,-740.12 614,-740.12 614,-786.38\"/>\n<text text-anchor=\"middle\" x=\"540\" y=\"-772.88\" font-family=\"monospace\" font-size=\"10.00\">TanhBackward0</text>\n<text text-anchor=\"middle\" x=\"540\" y=\"-760.12\" font-family=\"monospace\" font-size=\"10.00\">&#45;&#45;&#45;&#45;&#45;&#45;&#45;&#45;&#45;&#45;&#45;&#45;&#45;&#45;&#45;&#45;&#45;&#45;&#45;&#45;&#45;&#45;</text>\n<text text-anchor=\"middle\" x=\"540\" y=\"-747.38\" font-family=\"monospace\" font-size=\"10.00\">result: [saved tensor]</text>\n</g>\n<!-- 4776663680&#45;&gt;4776665888 -->\n<g id=\"edge1\" class=\"edge\">\n<title>4776663680&#45;&gt;4776665888</title>\n<path fill=\"none\" stroke=\"black\" d=\"M543.4,-739.7C545.04,-728.83 547.06,-715.45 548.95,-702.93\"/>\n<polygon fill=\"black\" stroke=\"black\" points=\"552.38,-703.67 550.41,-693.26 545.46,-702.62 552.38,-703.67\"/>\n</g>\n<!-- 4776662192 -->\n<g id=\"node4\" class=\"node\">\n<title>4776662192</title>\n<polygon fill=\"lightgrey\" stroke=\"black\" points=\"359,-881.38 271,-881.38 271,-835.12 359,-835.12 359,-881.38\"/>\n<text text-anchor=\"middle\" x=\"315\" y=\"-867.88\" font-family=\"monospace\" font-size=\"10.00\">AddBackward0</text>\n<text text-anchor=\"middle\" x=\"315\" y=\"-855.12\" font-family=\"monospace\" font-size=\"10.00\">&#45;&#45;&#45;&#45;&#45;&#45;&#45;&#45;&#45;&#45;&#45;&#45;</text>\n<text text-anchor=\"middle\" x=\"315\" y=\"-842.38\" font-family=\"monospace\" font-size=\"10.00\">alpha: 1</text>\n</g>\n<!-- 4776662192&#45;&gt;4776663680 -->\n<g id=\"edge2\" class=\"edge\">\n<title>4776662192&#45;&gt;4776663680</title>\n<path fill=\"none\" stroke=\"black\" d=\"M359.45,-838.88C392.46,-825.23 438,-806.41 475.08,-791.08\"/>\n<polygon fill=\"black\" stroke=\"black\" points=\"475.99,-794.49 483.9,-787.44 473.32,-788.02 475.99,-794.49\"/>\n</g>\n<!-- 4776667424 -->\n<g id=\"node41\" class=\"node\">\n<title>4776667424</title>\n<polygon fill=\"lightgrey\" stroke=\"black\" points=\"231,-786.38 143,-786.38 143,-740.12 231,-740.12 231,-786.38\"/>\n<text text-anchor=\"middle\" x=\"187\" y=\"-772.88\" font-family=\"monospace\" font-size=\"10.00\">SubBackward0</text>\n<text text-anchor=\"middle\" x=\"187\" y=\"-760.12\" font-family=\"monospace\" font-size=\"10.00\">&#45;&#45;&#45;&#45;&#45;&#45;&#45;&#45;&#45;&#45;&#45;&#45;</text>\n<text text-anchor=\"middle\" x=\"187\" y=\"-747.38\" font-family=\"monospace\" font-size=\"10.00\">alpha: 1</text>\n</g>\n<!-- 4776662192&#45;&gt;4776667424 -->\n<g id=\"edge40\" class=\"edge\">\n<title>4776662192&#45;&gt;4776667424</title>\n<path fill=\"none\" stroke=\"black\" d=\"M284.01,-834.74C266.88,-822.29 245.39,-806.67 227,-793.31\"/>\n<polygon fill=\"black\" stroke=\"black\" points=\"229.07,-790.49 218.92,-787.45 224.96,-796.15 229.07,-790.49\"/>\n</g>\n<!-- 4776667376 -->\n<g id=\"node48\" class=\"node\">\n<title>4776667376</title>\n<polygon fill=\"lightgrey\" stroke=\"black\" points=\"282,-685 188,-685 188,-638.75 282,-638.75 282,-685\"/>\n<text text-anchor=\"middle\" x=\"235\" y=\"-671.5\" font-family=\"monospace\" font-size=\"10.00\">RsubBackward1</text>\n<text text-anchor=\"middle\" x=\"235\" y=\"-658.75\" font-family=\"monospace\" font-size=\"10.00\">&#45;&#45;&#45;&#45;&#45;&#45;&#45;&#45;&#45;&#45;&#45;&#45;&#45;</text>\n<text text-anchor=\"middle\" x=\"235\" y=\"-646\" font-family=\"monospace\" font-size=\"10.00\">alpha: 1</text>\n</g>\n<!-- 4776662192&#45;&gt;4776667376 -->\n<g id=\"edge51\" class=\"edge\">\n<title>4776662192&#45;&gt;4776667376</title>\n<path fill=\"none\" stroke=\"black\" d=\"M303.61,-834.79C297.52,-822.49 290.06,-806.91 284,-792.75 270.06,-760.18 255.97,-722.19 246.5,-695.75\"/>\n<polygon fill=\"black\" stroke=\"black\" points=\"249.9,-694.84 243.25,-686.6 243.3,-697.19 249.9,-694.84\"/>\n</g>\n<!-- 4776667328 -->\n<g id=\"node50\" class=\"node\">\n<title>4776667328</title>\n<polygon fill=\"lightgrey\" stroke=\"black\" points=\"435,-792.75 293,-792.75 293,-733.75 435,-733.75 435,-792.75\"/>\n<text text-anchor=\"middle\" x=\"364\" y=\"-779.25\" font-family=\"monospace\" font-size=\"10.00\">MulBackward0</text>\n<text text-anchor=\"middle\" x=\"364\" y=\"-766.5\" font-family=\"monospace\" font-size=\"10.00\">&#45;&#45;&#45;&#45;&#45;&#45;&#45;&#45;&#45;&#45;&#45;&#45;&#45;&#45;&#45;&#45;&#45;&#45;&#45;&#45;&#45;</text>\n<text text-anchor=\"middle\" x=\"364\" y=\"-753.75\" font-family=\"monospace\" font-size=\"10.00\">other: [saved tensor]</text>\n<text text-anchor=\"middle\" x=\"364\" y=\"-741\" font-family=\"monospace\" font-size=\"10.00\">self : &#160;&#160;&#160;&#160;&#160;&#160;&#160;&#160;&#160;&#160;None</text>\n</g>\n<!-- 4776662192&#45;&gt;4776667328 -->\n<g id=\"edge54\" class=\"edge\">\n<title>4776662192&#45;&gt;4776667328</title>\n<path fill=\"none\" stroke=\"black\" d=\"M326.86,-834.74C331.84,-825.29 337.78,-814.01 343.43,-803.29\"/>\n<polygon fill=\"black\" stroke=\"black\" points=\"346.45,-805.06 348.02,-794.58 340.26,-801.8 346.45,-805.06\"/>\n</g>\n<!-- 4776666656 -->\n<g id=\"node5\" class=\"node\">\n<title>4776666656</title>\n<polygon fill=\"lightgrey\" stroke=\"black\" points=\"291,-1059.25 83,-1059.25 83,-923.75 291,-923.75 291,-1059.25\"/>\n<text text-anchor=\"middle\" x=\"187\" y=\"-1045.75\" font-family=\"monospace\" font-size=\"10.00\">AddmmBackward0</text>\n<text text-anchor=\"middle\" x=\"187\" y=\"-1033\" font-family=\"monospace\" font-size=\"10.00\">&#45;&#45;&#45;&#45;&#45;&#45;&#45;&#45;&#45;&#45;&#45;&#45;&#45;&#45;&#45;&#45;&#45;&#45;&#45;&#45;&#45;&#45;&#45;&#45;&#45;&#45;&#45;&#45;&#45;&#45;&#45;&#45;</text>\n<text text-anchor=\"middle\" x=\"187\" y=\"-1020.25\" font-family=\"monospace\" font-size=\"10.00\">alpha &#160;&#160;&#160;&#160;&#160;&#160;&#160;&#160;&#160;&#160;: &#160;&#160;&#160;&#160;&#160;&#160;&#160;&#160;&#160;&#160;&#160;&#160;&#160;1</text>\n<text text-anchor=\"middle\" x=\"187\" y=\"-1007.5\" font-family=\"monospace\" font-size=\"10.00\">beta &#160;&#160;&#160;&#160;&#160;&#160;&#160;&#160;&#160;&#160;&#160;: &#160;&#160;&#160;&#160;&#160;&#160;&#160;&#160;&#160;&#160;&#160;&#160;&#160;1</text>\n<text text-anchor=\"middle\" x=\"187\" y=\"-994.75\" font-family=\"monospace\" font-size=\"10.00\">mat1 &#160;&#160;&#160;&#160;&#160;&#160;&#160;&#160;&#160;&#160;&#160;: [saved tensor]</text>\n<text text-anchor=\"middle\" x=\"187\" y=\"-982\" font-family=\"monospace\" font-size=\"10.00\">mat1_sym_sizes &#160;: &#160;&#160;&#160;&#160;&#160;&#160;&#160;(1, 64)</text>\n<text text-anchor=\"middle\" x=\"187\" y=\"-969.25\" font-family=\"monospace\" font-size=\"10.00\">mat1_sym_strides: &#160;&#160;&#160;&#160;&#160;&#160;&#160;(64, 1)</text>\n<text text-anchor=\"middle\" x=\"187\" y=\"-956.5\" font-family=\"monospace\" font-size=\"10.00\">mat2 &#160;&#160;&#160;&#160;&#160;&#160;&#160;&#160;&#160;&#160;&#160;: [saved tensor]</text>\n<text text-anchor=\"middle\" x=\"187\" y=\"-943.75\" font-family=\"monospace\" font-size=\"10.00\">mat2_sym_sizes &#160;: &#160;&#160;&#160;&#160;&#160;&#160;&#160;(64, 2)</text>\n<text text-anchor=\"middle\" x=\"187\" y=\"-931\" font-family=\"monospace\" font-size=\"10.00\">mat2_sym_strides: &#160;&#160;&#160;&#160;&#160;&#160;&#160;(1, 64)</text>\n</g>\n<!-- 4776666656&#45;&gt;4776662192 -->\n<g id=\"edge3\" class=\"edge\">\n<title>4776666656&#45;&gt;4776662192</title>\n<path fill=\"none\" stroke=\"black\" d=\"M252.5,-923.34C263.94,-911.61 275.31,-899.95 285.16,-889.85\"/>\n<polygon fill=\"black\" stroke=\"black\" points=\"287.5,-892.46 291.98,-882.85 282.49,-887.57 287.5,-892.46\"/>\n</g>\n<!-- 4776666656&#45;&gt;4776667424 -->\n<g id=\"edge41\" class=\"edge\">\n<title>4776666656&#45;&gt;4776667424</title>\n<path fill=\"none\" stroke=\"black\" d=\"M187,-923.54C187,-882.22 187,-830.99 187,-797.97\"/>\n<polygon fill=\"black\" stroke=\"black\" points=\"190.5,-798.19 187,-788.19 183.5,-798.19 190.5,-798.19\"/>\n</g>\n<!-- 4776659408 -->\n<g id=\"node6\" class=\"node\">\n<title>4776659408</title>\n<polygon fill=\"lightgrey\" stroke=\"black\" points=\"160,-1128.75 60,-1128.75 60,-1108 160,-1108 160,-1128.75\"/>\n<text text-anchor=\"middle\" x=\"110\" y=\"-1115.25\" font-family=\"monospace\" font-size=\"10.00\">AccumulateGrad</text>\n</g>\n<!-- 4776659408&#45;&gt;4776666656 -->\n<g id=\"edge4\" class=\"edge\">\n<title>4776659408&#45;&gt;4776666656</title>\n<path fill=\"none\" stroke=\"black\" d=\"M116.04,-1107.58C121.53,-1098.67 130.19,-1084.63 139.6,-1069.37\"/>\n<polygon fill=\"black\" stroke=\"black\" points=\"142.47,-1071.38 144.74,-1061.03 136.52,-1067.7 142.47,-1071.38\"/>\n</g>\n<!-- 4776723088 -->\n<g id=\"node7\" class=\"node\">\n<title>4776723088</title>\n<polygon fill=\"lightblue\" stroke=\"black\" points=\"157,-1230.12 63,-1230.12 63,-1196.62 157,-1196.62 157,-1230.12\"/>\n<text text-anchor=\"middle\" x=\"110\" y=\"-1216.62\" font-family=\"monospace\" font-size=\"10.00\">mu_layer.bias</text>\n<text text-anchor=\"middle\" x=\"110\" y=\"-1203.88\" font-family=\"monospace\" font-size=\"10.00\"> (2)</text>\n</g>\n<!-- 4776723088&#45;&gt;4776659408 -->\n<g id=\"edge5\" class=\"edge\">\n<title>4776723088&#45;&gt;4776659408</title>\n<path fill=\"none\" stroke=\"black\" d=\"M110,-1196.18C110,-1180.75 110,-1157.44 110,-1140.55\"/>\n<polygon fill=\"black\" stroke=\"black\" points=\"113.5,-1140.63 110,-1130.63 106.5,-1140.63 113.5,-1140.63\"/>\n</g>\n<!-- 4776662720 -->\n<g id=\"node8\" class=\"node\">\n<title>4776662720</title>\n<polygon fill=\"lightgrey\" stroke=\"black\" points=\"305,-1592.25 97,-1592.25 97,-1456.75 305,-1456.75 305,-1592.25\"/>\n<text text-anchor=\"middle\" x=\"201\" y=\"-1578.75\" font-family=\"monospace\" font-size=\"10.00\">AddmmBackward0</text>\n<text text-anchor=\"middle\" x=\"201\" y=\"-1566\" font-family=\"monospace\" font-size=\"10.00\">&#45;&#45;&#45;&#45;&#45;&#45;&#45;&#45;&#45;&#45;&#45;&#45;&#45;&#45;&#45;&#45;&#45;&#45;&#45;&#45;&#45;&#45;&#45;&#45;&#45;&#45;&#45;&#45;&#45;&#45;&#45;&#45;</text>\n<text text-anchor=\"middle\" x=\"201\" y=\"-1553.25\" font-family=\"monospace\" font-size=\"10.00\">alpha &#160;&#160;&#160;&#160;&#160;&#160;&#160;&#160;&#160;&#160;: &#160;&#160;&#160;&#160;&#160;&#160;&#160;&#160;&#160;&#160;&#160;&#160;&#160;1</text>\n<text text-anchor=\"middle\" x=\"201\" y=\"-1540.5\" font-family=\"monospace\" font-size=\"10.00\">beta &#160;&#160;&#160;&#160;&#160;&#160;&#160;&#160;&#160;&#160;&#160;: &#160;&#160;&#160;&#160;&#160;&#160;&#160;&#160;&#160;&#160;&#160;&#160;&#160;1</text>\n<text text-anchor=\"middle\" x=\"201\" y=\"-1527.75\" font-family=\"monospace\" font-size=\"10.00\">mat1 &#160;&#160;&#160;&#160;&#160;&#160;&#160;&#160;&#160;&#160;&#160;: [saved tensor]</text>\n<text text-anchor=\"middle\" x=\"201\" y=\"-1515\" font-family=\"monospace\" font-size=\"10.00\">mat1_sym_sizes &#160;: &#160;&#160;&#160;&#160;&#160;&#160;&#160;(1, 64)</text>\n<text text-anchor=\"middle\" x=\"201\" y=\"-1502.25\" font-family=\"monospace\" font-size=\"10.00\">mat1_sym_strides: &#160;&#160;&#160;&#160;&#160;&#160;&#160;(64, 1)</text>\n<text text-anchor=\"middle\" x=\"201\" y=\"-1489.5\" font-family=\"monospace\" font-size=\"10.00\">mat2 &#160;&#160;&#160;&#160;&#160;&#160;&#160;&#160;&#160;&#160;&#160;: [saved tensor]</text>\n<text text-anchor=\"middle\" x=\"201\" y=\"-1476.75\" font-family=\"monospace\" font-size=\"10.00\">mat2_sym_sizes &#160;: &#160;&#160;&#160;&#160;&#160;&#160;(64, 64)</text>\n<text text-anchor=\"middle\" x=\"201\" y=\"-1464\" font-family=\"monospace\" font-size=\"10.00\">mat2_sym_strides: &#160;&#160;&#160;&#160;&#160;&#160;&#160;(1, 64)</text>\n</g>\n<!-- 4776662720&#45;&gt;4776666656 -->\n<g id=\"edge6\" class=\"edge\">\n<title>4776662720&#45;&gt;4776666656</title>\n<path fill=\"none\" stroke=\"black\" d=\"M199.23,-1456.52C196.64,-1358.29 191.83,-1175.55 189.07,-1071.11\"/>\n<polygon fill=\"black\" stroke=\"black\" points=\"192.57,-1071.12 188.81,-1061.21 185.58,-1071.3 192.57,-1071.12\"/>\n</g>\n<!-- 4776668768 -->\n<g id=\"node27\" class=\"node\">\n<title>4776668768</title>\n<polygon fill=\"lightgrey\" stroke=\"black\" points=\"645,-1420.75 437,-1420.75 437,-1285.25 645,-1285.25 645,-1420.75\"/>\n<text text-anchor=\"middle\" x=\"541\" y=\"-1407.25\" font-family=\"monospace\" font-size=\"10.00\">AddmmBackward0</text>\n<text text-anchor=\"middle\" x=\"541\" y=\"-1394.5\" font-family=\"monospace\" font-size=\"10.00\">&#45;&#45;&#45;&#45;&#45;&#45;&#45;&#45;&#45;&#45;&#45;&#45;&#45;&#45;&#45;&#45;&#45;&#45;&#45;&#45;&#45;&#45;&#45;&#45;&#45;&#45;&#45;&#45;&#45;&#45;&#45;&#45;</text>\n<text text-anchor=\"middle\" x=\"541\" y=\"-1381.75\" font-family=\"monospace\" font-size=\"10.00\">alpha &#160;&#160;&#160;&#160;&#160;&#160;&#160;&#160;&#160;&#160;: &#160;&#160;&#160;&#160;&#160;&#160;&#160;&#160;&#160;&#160;&#160;&#160;&#160;1</text>\n<text text-anchor=\"middle\" x=\"541\" y=\"-1369\" font-family=\"monospace\" font-size=\"10.00\">beta &#160;&#160;&#160;&#160;&#160;&#160;&#160;&#160;&#160;&#160;&#160;: &#160;&#160;&#160;&#160;&#160;&#160;&#160;&#160;&#160;&#160;&#160;&#160;&#160;1</text>\n<text text-anchor=\"middle\" x=\"541\" y=\"-1356.25\" font-family=\"monospace\" font-size=\"10.00\">mat1 &#160;&#160;&#160;&#160;&#160;&#160;&#160;&#160;&#160;&#160;&#160;: [saved tensor]</text>\n<text text-anchor=\"middle\" x=\"541\" y=\"-1343.5\" font-family=\"monospace\" font-size=\"10.00\">mat1_sym_sizes &#160;: &#160;&#160;&#160;&#160;&#160;&#160;&#160;(1, 64)</text>\n<text text-anchor=\"middle\" x=\"541\" y=\"-1330.75\" font-family=\"monospace\" font-size=\"10.00\">mat1_sym_strides: &#160;&#160;&#160;&#160;&#160;&#160;&#160;(64, 1)</text>\n<text text-anchor=\"middle\" x=\"541\" y=\"-1318\" font-family=\"monospace\" font-size=\"10.00\">mat2 &#160;&#160;&#160;&#160;&#160;&#160;&#160;&#160;&#160;&#160;&#160;: [saved tensor]</text>\n<text text-anchor=\"middle\" x=\"541\" y=\"-1305.25\" font-family=\"monospace\" font-size=\"10.00\">mat2_sym_sizes &#160;: &#160;&#160;&#160;&#160;&#160;&#160;&#160;(64, 2)</text>\n<text text-anchor=\"middle\" x=\"541\" y=\"-1292.5\" font-family=\"monospace\" font-size=\"10.00\">mat2_sym_strides: &#160;&#160;&#160;&#160;&#160;&#160;&#160;(1, 64)</text>\n</g>\n<!-- 4776662720&#45;&gt;4776668768 -->\n<g id=\"edge28\" class=\"edge\">\n<title>4776662720&#45;&gt;4776668768</title>\n<path fill=\"none\" stroke=\"black\" d=\"M305.32,-1471.49C343.74,-1452.34 387.45,-1430.55 426.7,-1410.98\"/>\n<polygon fill=\"black\" stroke=\"black\" points=\"427.84,-1414.32 435.23,-1406.73 424.72,-1408.06 427.84,-1414.32\"/>\n</g>\n<!-- 4776661472 -->\n<g id=\"node9\" class=\"node\">\n<title>4776661472</title>\n<polygon fill=\"lightgrey\" stroke=\"black\" points=\"100,-1661.75 0,-1661.75 0,-1641 100,-1641 100,-1661.75\"/>\n<text text-anchor=\"middle\" x=\"50\" y=\"-1648.25\" font-family=\"monospace\" font-size=\"10.00\">AccumulateGrad</text>\n</g>\n<!-- 4776661472&#45;&gt;4776662720 -->\n<g id=\"edge7\" class=\"edge\">\n<title>4776661472&#45;&gt;4776662720</title>\n<path fill=\"none\" stroke=\"black\" d=\"M61.85,-1640.58C73.17,-1631.21 91.38,-1616.16 110.94,-1599.98\"/>\n<polygon fill=\"black\" stroke=\"black\" points=\"113.05,-1602.78 118.53,-1593.71 108.59,-1597.38 113.05,-1602.78\"/>\n</g>\n<!-- 4776722896 -->\n<g id=\"node10\" class=\"node\">\n<title>4776722896</title>\n<polygon fill=\"lightblue\" stroke=\"black\" points=\"79,-1795 3,-1795 3,-1761.5 79,-1761.5 79,-1795\"/>\n<text text-anchor=\"middle\" x=\"41\" y=\"-1781.5\" font-family=\"monospace\" font-size=\"10.00\">net.2.bias</text>\n<text text-anchor=\"middle\" x=\"41\" y=\"-1768.75\" font-family=\"monospace\" font-size=\"10.00\"> (64)</text>\n</g>\n<!-- 4776722896&#45;&gt;4776661472 -->\n<g id=\"edge8\" class=\"edge\">\n<title>4776722896&#45;&gt;4776661472</title>\n<path fill=\"none\" stroke=\"black\" d=\"M42.16,-1761.18C43.78,-1738.74 46.71,-1698 48.5,-1673.24\"/>\n<polygon fill=\"black\" stroke=\"black\" points=\"51.97,-1673.67 49.2,-1663.44 44.99,-1673.17 51.97,-1673.67\"/>\n</g>\n<!-- 4776663776 -->\n<g id=\"node11\" class=\"node\">\n<title>4776663776</title>\n<polygon fill=\"lightgrey\" stroke=\"black\" points=\"275,-1674.5 127,-1674.5 127,-1628.25 275,-1628.25 275,-1674.5\"/>\n<text text-anchor=\"middle\" x=\"201\" y=\"-1661\" font-family=\"monospace\" font-size=\"10.00\">ReluBackward0</text>\n<text text-anchor=\"middle\" x=\"201\" y=\"-1648.25\" font-family=\"monospace\" font-size=\"10.00\">&#45;&#45;&#45;&#45;&#45;&#45;&#45;&#45;&#45;&#45;&#45;&#45;&#45;&#45;&#45;&#45;&#45;&#45;&#45;&#45;&#45;&#45;</text>\n<text text-anchor=\"middle\" x=\"201\" y=\"-1635.5\" font-family=\"monospace\" font-size=\"10.00\">result: [saved tensor]</text>\n</g>\n<!-- 4776663776&#45;&gt;4776662720 -->\n<g id=\"edge9\" class=\"edge\">\n<title>4776663776&#45;&gt;4776662720</title>\n<path fill=\"none\" stroke=\"black\" d=\"M201,-1627.76C201,-1620.77 201,-1612.64 201,-1604.08\"/>\n<polygon fill=\"black\" stroke=\"black\" points=\"204.5,-1604.14 201,-1594.14 197.5,-1604.14 204.5,-1604.14\"/>\n</g>\n<!-- 4776663920 -->\n<g id=\"node12\" class=\"node\">\n<title>4776663920</title>\n<polygon fill=\"lightgrey\" stroke=\"black\" points=\"305,-1846 97,-1846 97,-1710.5 305,-1710.5 305,-1846\"/>\n<text text-anchor=\"middle\" x=\"201\" y=\"-1832.5\" font-family=\"monospace\" font-size=\"10.00\">AddmmBackward0</text>\n<text text-anchor=\"middle\" x=\"201\" y=\"-1819.75\" font-family=\"monospace\" font-size=\"10.00\">&#45;&#45;&#45;&#45;&#45;&#45;&#45;&#45;&#45;&#45;&#45;&#45;&#45;&#45;&#45;&#45;&#45;&#45;&#45;&#45;&#45;&#45;&#45;&#45;&#45;&#45;&#45;&#45;&#45;&#45;&#45;&#45;</text>\n<text text-anchor=\"middle\" x=\"201\" y=\"-1807\" font-family=\"monospace\" font-size=\"10.00\">alpha &#160;&#160;&#160;&#160;&#160;&#160;&#160;&#160;&#160;&#160;: &#160;&#160;&#160;&#160;&#160;&#160;&#160;&#160;&#160;&#160;&#160;&#160;&#160;1</text>\n<text text-anchor=\"middle\" x=\"201\" y=\"-1794.25\" font-family=\"monospace\" font-size=\"10.00\">beta &#160;&#160;&#160;&#160;&#160;&#160;&#160;&#160;&#160;&#160;&#160;: &#160;&#160;&#160;&#160;&#160;&#160;&#160;&#160;&#160;&#160;&#160;&#160;&#160;1</text>\n<text text-anchor=\"middle\" x=\"201\" y=\"-1781.5\" font-family=\"monospace\" font-size=\"10.00\">mat1 &#160;&#160;&#160;&#160;&#160;&#160;&#160;&#160;&#160;&#160;&#160;: [saved tensor]</text>\n<text text-anchor=\"middle\" x=\"201\" y=\"-1768.75\" font-family=\"monospace\" font-size=\"10.00\">mat1_sym_sizes &#160;: &#160;&#160;&#160;&#160;&#160;&#160;&#160;&#160;(1, 4)</text>\n<text text-anchor=\"middle\" x=\"201\" y=\"-1756\" font-family=\"monospace\" font-size=\"10.00\">mat1_sym_strides: &#160;&#160;&#160;&#160;&#160;&#160;&#160;&#160;&#160;&#160;&#160;&#160;()</text>\n<text text-anchor=\"middle\" x=\"201\" y=\"-1743.25\" font-family=\"monospace\" font-size=\"10.00\">mat2 &#160;&#160;&#160;&#160;&#160;&#160;&#160;&#160;&#160;&#160;&#160;: &#160;&#160;&#160;&#160;&#160;&#160;&#160;&#160;&#160;&#160;None</text>\n<text text-anchor=\"middle\" x=\"201\" y=\"-1730.5\" font-family=\"monospace\" font-size=\"10.00\">mat2_sym_sizes &#160;: &#160;&#160;&#160;&#160;&#160;&#160;&#160;(4, 64)</text>\n<text text-anchor=\"middle\" x=\"201\" y=\"-1717.75\" font-family=\"monospace\" font-size=\"10.00\">mat2_sym_strides: &#160;&#160;&#160;&#160;&#160;&#160;&#160;&#160;(1, 4)</text>\n</g>\n<!-- 4776663920&#45;&gt;4776663776 -->\n<g id=\"edge10\" class=\"edge\">\n<title>4776663920&#45;&gt;4776663776</title>\n<path fill=\"none\" stroke=\"black\" d=\"M201,-1710.06C201,-1701.83 201,-1693.7 201,-1686.26\"/>\n<polygon fill=\"black\" stroke=\"black\" points=\"204.5,-1686.38 201,-1676.38 197.5,-1686.38 204.5,-1686.38\"/>\n</g>\n<!-- 4776668000 -->\n<g id=\"node13\" class=\"node\">\n<title>4776668000</title>\n<polygon fill=\"lightgrey\" stroke=\"black\" points=\"181,-1909.12 81,-1909.12 81,-1888.38 181,-1888.38 181,-1909.12\"/>\n<text text-anchor=\"middle\" x=\"131\" y=\"-1895.62\" font-family=\"monospace\" font-size=\"10.00\">AccumulateGrad</text>\n</g>\n<!-- 4776668000&#45;&gt;4776663920 -->\n<g id=\"edge11\" class=\"edge\">\n<title>4776668000&#45;&gt;4776663920</title>\n<path fill=\"none\" stroke=\"black\" d=\"M136.73,-1888.05C141.26,-1880.39 148.04,-1868.9 155.54,-1856.21\"/>\n<polygon fill=\"black\" stroke=\"black\" points=\"158.54,-1858.01 160.61,-1847.62 152.51,-1854.45 158.54,-1858.01\"/>\n</g>\n<!-- 4776723280 -->\n<g id=\"node14\" class=\"node\">\n<title>4776723280</title>\n<polygon fill=\"lightblue\" stroke=\"black\" points=\"169,-1985 93,-1985 93,-1951.5 169,-1951.5 169,-1985\"/>\n<text text-anchor=\"middle\" x=\"131\" y=\"-1971.5\" font-family=\"monospace\" font-size=\"10.00\">net.0.bias</text>\n<text text-anchor=\"middle\" x=\"131\" y=\"-1958.75\" font-family=\"monospace\" font-size=\"10.00\"> (64)</text>\n</g>\n<!-- 4776723280&#45;&gt;4776668000 -->\n<g id=\"edge12\" class=\"edge\">\n<title>4776723280&#45;&gt;4776668000</title>\n<path fill=\"none\" stroke=\"black\" d=\"M131,-1951.25C131,-1942.15 131,-1930.64 131,-1920.82\"/>\n<polygon fill=\"black\" stroke=\"black\" points=\"134.5,-1921.09 131,-1911.09 127.5,-1921.09 134.5,-1921.09\"/>\n</g>\n<!-- 4776663872 -->\n<g id=\"node15\" class=\"node\">\n<title>4776663872</title>\n<polygon fill=\"lightgrey\" stroke=\"black\" points=\"275,-1909.12 199,-1909.12 199,-1888.38 275,-1888.38 275,-1909.12\"/>\n<text text-anchor=\"middle\" x=\"237\" y=\"-1895.62\" font-family=\"monospace\" font-size=\"10.00\">TBackward0</text>\n</g>\n<!-- 4776663872&#45;&gt;4776663920 -->\n<g id=\"edge13\" class=\"edge\">\n<title>4776663872&#45;&gt;4776663920</title>\n<path fill=\"none\" stroke=\"black\" d=\"M234.05,-1888.05C231.79,-1880.61 228.44,-1869.57 224.72,-1857.33\"/>\n<polygon fill=\"black\" stroke=\"black\" points=\"228.07,-1856.32 221.82,-1847.77 221.37,-1858.35 228.07,-1856.32\"/>\n</g>\n<!-- 4776667232 -->\n<g id=\"node16\" class=\"node\">\n<title>4776667232</title>\n<polygon fill=\"lightgrey\" stroke=\"black\" points=\"287,-1978.62 187,-1978.62 187,-1957.88 287,-1957.88 287,-1978.62\"/>\n<text text-anchor=\"middle\" x=\"237\" y=\"-1965.12\" font-family=\"monospace\" font-size=\"10.00\">AccumulateGrad</text>\n</g>\n<!-- 4776667232&#45;&gt;4776663872 -->\n<g id=\"edge14\" class=\"edge\">\n<title>4776667232&#45;&gt;4776663872</title>\n<path fill=\"none\" stroke=\"black\" d=\"M237,-1957.58C237,-1947.96 237,-1932.88 237,-1920.54\"/>\n<polygon fill=\"black\" stroke=\"black\" points=\"240.5,-1920.92 237,-1910.92 233.5,-1920.92 240.5,-1920.92\"/>\n</g>\n<!-- 4776722992 -->\n<g id=\"node17\" class=\"node\">\n<title>4776722992</title>\n<polygon fill=\"lightblue\" stroke=\"black\" points=\"281,-2054.5 193,-2054.5 193,-2021 281,-2021 281,-2054.5\"/>\n<text text-anchor=\"middle\" x=\"237\" y=\"-2041\" font-family=\"monospace\" font-size=\"10.00\">net.0.weight</text>\n<text text-anchor=\"middle\" x=\"237\" y=\"-2028.25\" font-family=\"monospace\" font-size=\"10.00\"> (64, 4)</text>\n</g>\n<!-- 4776722992&#45;&gt;4776667232 -->\n<g id=\"edge15\" class=\"edge\">\n<title>4776722992&#45;&gt;4776667232</title>\n<path fill=\"none\" stroke=\"black\" d=\"M237,-2020.75C237,-2011.65 237,-2000.14 237,-1990.32\"/>\n<polygon fill=\"black\" stroke=\"black\" points=\"240.5,-1990.59 237,-1980.59 233.5,-1990.59 240.5,-1990.59\"/>\n</g>\n<!-- 4776663824 -->\n<g id=\"node18\" class=\"node\">\n<title>4776663824</title>\n<polygon fill=\"lightgrey\" stroke=\"black\" points=\"390,-1661.75 314,-1661.75 314,-1641 390,-1641 390,-1661.75\"/>\n<text text-anchor=\"middle\" x=\"352\" y=\"-1648.25\" font-family=\"monospace\" font-size=\"10.00\">TBackward0</text>\n</g>\n<!-- 4776663824&#45;&gt;4776662720 -->\n<g id=\"edge16\" class=\"edge\">\n<title>4776663824&#45;&gt;4776662720</title>\n<path fill=\"none\" stroke=\"black\" d=\"M340.15,-1640.58C328.83,-1631.21 310.62,-1616.16 291.06,-1599.98\"/>\n<polygon fill=\"black\" stroke=\"black\" points=\"293.41,-1597.38 283.47,-1593.71 288.95,-1602.78 293.41,-1597.38\"/>\n</g>\n<!-- 4776667040 -->\n<g id=\"node19\" class=\"node\">\n<title>4776667040</title>\n<polygon fill=\"lightgrey\" stroke=\"black\" points=\"423,-1788.62 323,-1788.62 323,-1767.88 423,-1767.88 423,-1788.62\"/>\n<text text-anchor=\"middle\" x=\"373\" y=\"-1775.12\" font-family=\"monospace\" font-size=\"10.00\">AccumulateGrad</text>\n</g>\n<!-- 4776667040&#45;&gt;4776663824 -->\n<g id=\"edge17\" class=\"edge\">\n<title>4776667040&#45;&gt;4776663824</title>\n<path fill=\"none\" stroke=\"black\" d=\"M371.35,-1767.45C367.95,-1747.21 360.07,-1700.39 355.49,-1673.12\"/>\n<polygon fill=\"black\" stroke=\"black\" points=\"359,-1672.9 353.89,-1663.62 352.1,-1674.06 359,-1672.9\"/>\n</g>\n<!-- 4776724048 -->\n<g id=\"node20\" class=\"node\">\n<title>4776724048</title>\n<polygon fill=\"lightblue\" stroke=\"black\" points=\"417,-1915.5 329,-1915.5 329,-1882 417,-1882 417,-1915.5\"/>\n<text text-anchor=\"middle\" x=\"373\" y=\"-1902\" font-family=\"monospace\" font-size=\"10.00\">net.2.weight</text>\n<text text-anchor=\"middle\" x=\"373\" y=\"-1889.25\" font-family=\"monospace\" font-size=\"10.00\"> (64, 64)</text>\n</g>\n<!-- 4776724048&#45;&gt;4776667040 -->\n<g id=\"edge18\" class=\"edge\">\n<title>4776724048&#45;&gt;4776667040</title>\n<path fill=\"none\" stroke=\"black\" d=\"M373,-1881.77C373,-1860.77 373,-1823.82 373,-1800.48\"/>\n<polygon fill=\"black\" stroke=\"black\" points=\"376.5,-1800.62 373,-1790.62 369.5,-1800.62 376.5,-1800.62\"/>\n</g>\n<!-- 4776667088 -->\n<g id=\"node21\" class=\"node\">\n<title>4776667088</title>\n<polygon fill=\"lightgrey\" stroke=\"black\" points=\"299,-1128.75 223,-1128.75 223,-1108 299,-1108 299,-1128.75\"/>\n<text text-anchor=\"middle\" x=\"261\" y=\"-1115.25\" font-family=\"monospace\" font-size=\"10.00\">TBackward0</text>\n</g>\n<!-- 4776667088&#45;&gt;4776666656 -->\n<g id=\"edge19\" class=\"edge\">\n<title>4776667088&#45;&gt;4776666656</title>\n<path fill=\"none\" stroke=\"black\" d=\"M255.19,-1107.58C249.92,-1098.67 241.59,-1084.63 232.55,-1069.37\"/>\n<polygon fill=\"black\" stroke=\"black\" points=\"235.73,-1067.86 227.62,-1061.04 229.7,-1071.43 235.73,-1067.86\"/>\n</g>\n<!-- 4776667904 -->\n<g id=\"node22\" class=\"node\">\n<title>4776667904</title>\n<polygon fill=\"lightgrey\" stroke=\"black\" points=\"318,-1223.75 218,-1223.75 218,-1203 318,-1203 318,-1223.75\"/>\n<text text-anchor=\"middle\" x=\"268\" y=\"-1210.25\" font-family=\"monospace\" font-size=\"10.00\">AccumulateGrad</text>\n</g>\n<!-- 4776667904&#45;&gt;4776667088 -->\n<g id=\"edge20\" class=\"edge\">\n<title>4776667904&#45;&gt;4776667088</title>\n<path fill=\"none\" stroke=\"black\" d=\"M267.28,-1202.77C266.18,-1188.15 264.05,-1159.96 262.58,-1140.42\"/>\n<polygon fill=\"black\" stroke=\"black\" points=\"266.08,-1140.28 261.84,-1130.57 259.1,-1140.81 266.08,-1140.28\"/>\n</g>\n<!-- 4776722800 -->\n<g id=\"node23\" class=\"node\">\n<title>4776722800</title>\n<polygon fill=\"lightblue\" stroke=\"black\" points=\"322,-1369.75 216,-1369.75 216,-1336.25 322,-1336.25 322,-1369.75\"/>\n<text text-anchor=\"middle\" x=\"269\" y=\"-1356.25\" font-family=\"monospace\" font-size=\"10.00\">mu_layer.weight</text>\n<text text-anchor=\"middle\" x=\"269\" y=\"-1343.5\" font-family=\"monospace\" font-size=\"10.00\"> (2, 64)</text>\n</g>\n<!-- 4776722800&#45;&gt;4776667904 -->\n<g id=\"edge21\" class=\"edge\">\n<title>4776722800&#45;&gt;4776667904</title>\n<path fill=\"none\" stroke=\"black\" d=\"M268.88,-1335.94C268.7,-1311.09 268.36,-1263.3 268.15,-1235.61\"/>\n<polygon fill=\"black\" stroke=\"black\" points=\"271.65,-1235.64 268.08,-1225.66 264.65,-1235.69 271.65,-1235.64\"/>\n</g>\n<!-- 4776660032 -->\n<g id=\"node24\" class=\"node\">\n<title>4776660032</title>\n<polygon fill=\"lightgrey\" stroke=\"black\" points=\"451,-1021 309,-1021 309,-962 451,-962 451,-1021\"/>\n<text text-anchor=\"middle\" x=\"380\" y=\"-1007.5\" font-family=\"monospace\" font-size=\"10.00\">MulBackward0</text>\n<text text-anchor=\"middle\" x=\"380\" y=\"-994.75\" font-family=\"monospace\" font-size=\"10.00\">&#45;&#45;&#45;&#45;&#45;&#45;&#45;&#45;&#45;&#45;&#45;&#45;&#45;&#45;&#45;&#45;&#45;&#45;&#45;&#45;&#45;</text>\n<text text-anchor=\"middle\" x=\"380\" y=\"-982\" font-family=\"monospace\" font-size=\"10.00\">other: &#160;&#160;&#160;&#160;&#160;&#160;&#160;&#160;&#160;&#160;None</text>\n<text text-anchor=\"middle\" x=\"380\" y=\"-969.25\" font-family=\"monospace\" font-size=\"10.00\">self : [saved tensor]</text>\n</g>\n<!-- 4776660032&#45;&gt;4776662192 -->\n<g id=\"edge22\" class=\"edge\">\n<title>4776660032&#45;&gt;4776662192</title>\n<path fill=\"none\" stroke=\"black\" d=\"M365.74,-961.7C355.51,-941.04 341.71,-913.19 331.09,-891.74\"/>\n<polygon fill=\"black\" stroke=\"black\" points=\"334.25,-890.24 326.68,-882.83 327.98,-893.35 334.25,-890.24\"/>\n</g>\n<!-- 4776670544 -->\n<g id=\"node25\" class=\"node\">\n<title>4776670544</title>\n<polygon fill=\"lightgrey\" stroke=\"black\" points=\"616,-1141.5 468,-1141.5 468,-1095.25 616,-1095.25 616,-1141.5\"/>\n<text text-anchor=\"middle\" x=\"542\" y=\"-1128\" font-family=\"monospace\" font-size=\"10.00\">ExpBackward0</text>\n<text text-anchor=\"middle\" x=\"542\" y=\"-1115.25\" font-family=\"monospace\" font-size=\"10.00\">&#45;&#45;&#45;&#45;&#45;&#45;&#45;&#45;&#45;&#45;&#45;&#45;&#45;&#45;&#45;&#45;&#45;&#45;&#45;&#45;&#45;&#45;</text>\n<text text-anchor=\"middle\" x=\"542\" y=\"-1102.5\" font-family=\"monospace\" font-size=\"10.00\">result: [saved tensor]</text>\n</g>\n<!-- 4776670544&#45;&gt;4776660032 -->\n<g id=\"edge23\" class=\"edge\">\n<title>4776670544&#45;&gt;4776660032</title>\n<path fill=\"none\" stroke=\"black\" d=\"M508.85,-1094.76C493.75,-1084.24 475.76,-1071.38 460,-1059.25 447.43,-1049.57 434.08,-1038.69 421.96,-1028.57\"/>\n<polygon fill=\"black\" stroke=\"black\" points=\"424.45,-1026.09 414.54,-1022.33 419.95,-1031.44 424.45,-1026.09\"/>\n</g>\n<!-- 4776667856 -->\n<g id=\"node43\" class=\"node\">\n<title>4776667856</title>\n<polygon fill=\"lightgrey\" stroke=\"black\" points=\"629,-1021 469,-1021 469,-962 629,-962 629,-1021\"/>\n<text text-anchor=\"middle\" x=\"549\" y=\"-1007.5\" font-family=\"monospace\" font-size=\"10.00\">PowBackward0</text>\n<text text-anchor=\"middle\" x=\"549\" y=\"-994.75\" font-family=\"monospace\" font-size=\"10.00\">&#45;&#45;&#45;&#45;&#45;&#45;&#45;&#45;&#45;&#45;&#45;&#45;&#45;&#45;&#45;&#45;&#45;&#45;&#45;&#45;&#45;&#45;&#45;&#45;</text>\n<text text-anchor=\"middle\" x=\"549\" y=\"-982\" font-family=\"monospace\" font-size=\"10.00\">exponent: &#160;&#160;&#160;&#160;&#160;&#160;&#160;&#160;&#160;&#160;&#160;&#160;&#160;2</text>\n<text text-anchor=\"middle\" x=\"549\" y=\"-969.25\" font-family=\"monospace\" font-size=\"10.00\">self &#160;&#160;&#160;: [saved tensor]</text>\n</g>\n<!-- 4776670544&#45;&gt;4776667856 -->\n<g id=\"edge44\" class=\"edge\">\n<title>4776670544&#45;&gt;4776667856</title>\n<path fill=\"none\" stroke=\"black\" d=\"M543.27,-1094.76C544.24,-1077.41 545.61,-1053.01 546.76,-1032.4\"/>\n<polygon fill=\"black\" stroke=\"black\" points=\"550.25,-1032.78 547.31,-1022.6 543.26,-1032.39 550.25,-1032.78\"/>\n</g>\n<!-- 4776668960 -->\n<g id=\"node44\" class=\"node\">\n<title>4776668960</title>\n<polygon fill=\"lightgrey\" stroke=\"black\" points=\"772,-881.38 636,-881.38 636,-835.12 772,-835.12 772,-881.38\"/>\n<text text-anchor=\"middle\" x=\"704\" y=\"-867.88\" font-family=\"monospace\" font-size=\"10.00\">LogBackward0</text>\n<text text-anchor=\"middle\" x=\"704\" y=\"-855.12\" font-family=\"monospace\" font-size=\"10.00\">&#45;&#45;&#45;&#45;&#45;&#45;&#45;&#45;&#45;&#45;&#45;&#45;&#45;&#45;&#45;&#45;&#45;&#45;&#45;&#45;</text>\n<text text-anchor=\"middle\" x=\"704\" y=\"-842.38\" font-family=\"monospace\" font-size=\"10.00\">self: [saved tensor]</text>\n</g>\n<!-- 4776670544&#45;&gt;4776668960 -->\n<g id=\"edge46\" class=\"edge\">\n<title>4776670544&#45;&gt;4776668960</title>\n<path fill=\"none\" stroke=\"black\" d=\"M593.97,-1094.79C609.93,-1085.71 626.35,-1073.88 638,-1059.25 677.46,-1009.71 693.73,-935.65 700.14,-892.93\"/>\n<polygon fill=\"black\" stroke=\"black\" points=\"703.57,-893.64 701.48,-883.25 696.64,-892.67 703.57,-893.64\"/>\n</g>\n<!-- 4776660368 -->\n<g id=\"node26\" class=\"node\">\n<title>4776660368</title>\n<polygon fill=\"lightgrey\" stroke=\"black\" points=\"609,-1249.25 473,-1249.25 473,-1177.5 609,-1177.5 609,-1249.25\"/>\n<text text-anchor=\"middle\" x=\"541\" y=\"-1235.75\" font-family=\"monospace\" font-size=\"10.00\">ClampBackward1</text>\n<text text-anchor=\"middle\" x=\"541\" y=\"-1223\" font-family=\"monospace\" font-size=\"10.00\">&#45;&#45;&#45;&#45;&#45;&#45;&#45;&#45;&#45;&#45;&#45;&#45;&#45;&#45;&#45;&#45;&#45;&#45;&#45;&#45;</text>\n<text text-anchor=\"middle\" x=\"541\" y=\"-1210.25\" font-family=\"monospace\" font-size=\"10.00\">max : &#160;&#160;&#160;&#160;&#160;&#160;&#160;&#160;&#160;&#160;&#160;&#160;&#160;2</text>\n<text text-anchor=\"middle\" x=\"541\" y=\"-1197.5\" font-family=\"monospace\" font-size=\"10.00\">min : &#160;&#160;&#160;&#160;&#160;&#160;&#160;&#160;&#160;&#160;&#160;&#45;20</text>\n<text text-anchor=\"middle\" x=\"541\" y=\"-1184.75\" font-family=\"monospace\" font-size=\"10.00\">self: [saved tensor]</text>\n</g>\n<!-- 4776660368&#45;&gt;4776670544 -->\n<g id=\"edge24\" class=\"edge\">\n<title>4776660368&#45;&gt;4776670544</title>\n<path fill=\"none\" stroke=\"black\" d=\"M541.38,-1177.22C541.46,-1169.36 541.55,-1161.04 541.64,-1153.24\"/>\n<polygon fill=\"black\" stroke=\"black\" points=\"545.13,-1153.47 541.74,-1143.43 538.13,-1153.39 545.13,-1153.47\"/>\n</g>\n<!-- 4776668768&#45;&gt;4776660368 -->\n<g id=\"edge25\" class=\"edge\">\n<title>4776668768&#45;&gt;4776660368</title>\n<path fill=\"none\" stroke=\"black\" d=\"M541,-1284.8C541,-1276.73 541,-1268.64 541,-1260.96\"/>\n<polygon fill=\"black\" stroke=\"black\" points=\"544.5,-1261.19 541,-1251.19 537.5,-1261.19 544.5,-1261.19\"/>\n</g>\n<!-- 4776672704 -->\n<g id=\"node28\" class=\"node\">\n<title>4776672704</title>\n<polygon fill=\"lightgrey\" stroke=\"black\" points=\"680,-1534.88 580,-1534.88 580,-1514.12 680,-1514.12 680,-1534.88\"/>\n<text text-anchor=\"middle\" x=\"630\" y=\"-1521.38\" font-family=\"monospace\" font-size=\"10.00\">AccumulateGrad</text>\n</g>\n<!-- 4776672704&#45;&gt;4776668768 -->\n<g id=\"edge26\" class=\"edge\">\n<title>4776672704&#45;&gt;4776668768</title>\n<path fill=\"none\" stroke=\"black\" d=\"M624.96,-1513.9C616.46,-1497.72 598.53,-1463.57 581.41,-1430.97\"/>\n<polygon fill=\"black\" stroke=\"black\" points=\"584.59,-1429.49 576.84,-1422.26 578.39,-1432.74 584.59,-1429.49\"/>\n</g>\n<!-- 4776905808 -->\n<g id=\"node29\" class=\"node\">\n<title>4776905808</title>\n<polygon fill=\"lightblue\" stroke=\"black\" points=\"703,-1668.12 579,-1668.12 579,-1634.62 703,-1634.62 703,-1668.12\"/>\n<text text-anchor=\"middle\" x=\"641\" y=\"-1654.62\" font-family=\"monospace\" font-size=\"10.00\">log_std_layer.bias</text>\n<text text-anchor=\"middle\" x=\"641\" y=\"-1641.88\" font-family=\"monospace\" font-size=\"10.00\"> (2)</text>\n</g>\n<!-- 4776905808&#45;&gt;4776672704 -->\n<g id=\"edge27\" class=\"edge\">\n<title>4776905808&#45;&gt;4776672704</title>\n<path fill=\"none\" stroke=\"black\" d=\"M639.58,-1634.31C637.61,-1611.87 634.02,-1571.13 631.84,-1546.37\"/>\n<polygon fill=\"black\" stroke=\"black\" points=\"635.34,-1546.22 630.97,-1536.57 628.37,-1546.84 635.34,-1546.22\"/>\n</g>\n<!-- 4776668816 -->\n<g id=\"node30\" class=\"node\">\n<title>4776668816</title>\n<polygon fill=\"lightgrey\" stroke=\"black\" points=\"552,-1534.88 476,-1534.88 476,-1514.12 552,-1514.12 552,-1534.88\"/>\n<text text-anchor=\"middle\" x=\"514\" y=\"-1521.38\" font-family=\"monospace\" font-size=\"10.00\">TBackward0</text>\n</g>\n<!-- 4776668816&#45;&gt;4776668768 -->\n<g id=\"edge29\" class=\"edge\">\n<title>4776668816&#45;&gt;4776668768</title>\n<path fill=\"none\" stroke=\"black\" d=\"M515.53,-1513.9C518.07,-1497.93 523.41,-1464.45 528.54,-1432.23\"/>\n<polygon fill=\"black\" stroke=\"black\" points=\"531.99,-1432.84 530.1,-1422.42 525.07,-1431.74 531.99,-1432.84\"/>\n</g>\n<!-- 4776668432 -->\n<g id=\"node31\" class=\"node\">\n<title>4776668432</title>\n<polygon fill=\"lightgrey\" stroke=\"black\" points=\"561,-1661.75 461,-1661.75 461,-1641 561,-1641 561,-1661.75\"/>\n<text text-anchor=\"middle\" x=\"511\" y=\"-1648.25\" font-family=\"monospace\" font-size=\"10.00\">AccumulateGrad</text>\n</g>\n<!-- 4776668432&#45;&gt;4776668816 -->\n<g id=\"edge30\" class=\"edge\">\n<title>4776668432&#45;&gt;4776668816</title>\n<path fill=\"none\" stroke=\"black\" d=\"M511.24,-1640.58C511.72,-1620.42 512.84,-1573.94 513.49,-1546.61\"/>\n<polygon fill=\"black\" stroke=\"black\" points=\"516.99,-1546.85 513.73,-1536.77 509.99,-1546.68 516.99,-1546.85\"/>\n</g>\n<!-- 4776723184 -->\n<g id=\"node32\" class=\"node\">\n<title>4776723184</title>\n<polygon fill=\"lightblue\" stroke=\"black\" points=\"579,-1795 443,-1795 443,-1761.5 579,-1761.5 579,-1795\"/>\n<text text-anchor=\"middle\" x=\"511\" y=\"-1781.5\" font-family=\"monospace\" font-size=\"10.00\">log_std_layer.weight</text>\n<text text-anchor=\"middle\" x=\"511\" y=\"-1768.75\" font-family=\"monospace\" font-size=\"10.00\"> (2, 64)</text>\n</g>\n<!-- 4776723184&#45;&gt;4776668432 -->\n<g id=\"edge31\" class=\"edge\">\n<title>4776723184&#45;&gt;4776668432</title>\n<path fill=\"none\" stroke=\"black\" d=\"M511,-1761.18C511,-1738.74 511,-1698 511,-1673.24\"/>\n<polygon fill=\"black\" stroke=\"black\" points=\"514.5,-1673.45 511,-1663.45 507.5,-1673.45 514.5,-1673.45\"/>\n</g>\n<!-- 4806999216 -->\n<g id=\"node33\" class=\"node\">\n<title>4806999216</title>\n<polygon fill=\"#caff70\" stroke=\"black\" points=\"530,-32.75 476,-32.75 476,0 530,0 530,-32.75\"/>\n<text text-anchor=\"middle\" x=\"503\" y=\"-7.25\" font-family=\"monospace\" font-size=\"10.00\"> (1)</text>\n</g>\n<!-- 4776662144 -->\n<g id=\"node34\" class=\"node\">\n<title>4776662144</title>\n<polygon fill=\"lightgrey\" stroke=\"black\" points=\"547,-115 459,-115 459,-68.75 547,-68.75 547,-115\"/>\n<text text-anchor=\"middle\" x=\"503\" y=\"-101.5\" font-family=\"monospace\" font-size=\"10.00\">SubBackward0</text>\n<text text-anchor=\"middle\" x=\"503\" y=\"-88.75\" font-family=\"monospace\" font-size=\"10.00\">&#45;&#45;&#45;&#45;&#45;&#45;&#45;&#45;&#45;&#45;&#45;&#45;</text>\n<text text-anchor=\"middle\" x=\"503\" y=\"-76\" font-family=\"monospace\" font-size=\"10.00\">alpha: 1</text>\n</g>\n<!-- 4776662144&#45;&gt;4806999216 -->\n<g id=\"edge55\" class=\"edge\">\n<title>4776662144&#45;&gt;4806999216</title>\n<path fill=\"none\" stroke=\"black\" d=\"M503,-68.42C503,-60.8 503,-52.2 503,-44.26\"/>\n<polygon fill=\"black\" stroke=\"black\" points=\"506.5,-44.45 503,-34.45 499.5,-44.45 506.5,-44.45\"/>\n</g>\n<!-- 4776670448 -->\n<g id=\"node35\" class=\"node\">\n<title>4776670448</title>\n<polygon fill=\"lightgrey\" stroke=\"black\" points=\"710,-222.75 460,-222.75 460,-151 710,-151 710,-222.75\"/>\n<text text-anchor=\"middle\" x=\"585\" y=\"-209.25\" font-family=\"monospace\" font-size=\"10.00\">SumBackward1</text>\n<text text-anchor=\"middle\" x=\"585\" y=\"-196.5\" font-family=\"monospace\" font-size=\"10.00\">&#45;&#45;&#45;&#45;&#45;&#45;&#45;&#45;&#45;&#45;&#45;&#45;&#45;&#45;&#45;&#45;&#45;&#45;&#45;&#45;&#45;&#45;&#45;&#45;&#45;&#45;&#45;&#45;&#45;&#45;&#45;&#45;&#45;&#45;&#45;&#45;&#45;&#45;&#45;</text>\n<text text-anchor=\"middle\" x=\"585\" y=\"-183.75\" font-family=\"monospace\" font-size=\"10.00\">dim &#160;&#160;&#160;&#160;&#160;&#160;&#160;&#160;&#160;&#160;: (18446744073709551615,)</text>\n<text text-anchor=\"middle\" x=\"585\" y=\"-171\" font-family=\"monospace\" font-size=\"10.00\">keepdim &#160;&#160;&#160;&#160;&#160;&#160;: &#160;&#160;&#160;&#160;&#160;&#160;&#160;&#160;&#160;&#160;&#160;&#160;&#160;&#160;&#160;&#160;&#160;&#160;False</text>\n<text text-anchor=\"middle\" x=\"585\" y=\"-158.25\" font-family=\"monospace\" font-size=\"10.00\">self_sym_sizes: &#160;&#160;&#160;&#160;&#160;&#160;&#160;&#160;&#160;&#160;&#160;&#160;&#160;&#160;&#160;&#160;&#160;(1, 2)</text>\n</g>\n<!-- 4776670448&#45;&gt;4776662144 -->\n<g id=\"edge33\" class=\"edge\">\n<title>4776670448&#45;&gt;4776662144</title>\n<path fill=\"none\" stroke=\"black\" d=\"M554,-150.72C546.26,-141.94 538.01,-132.58 530.45,-124.01\"/>\n<polygon fill=\"black\" stroke=\"black\" points=\"533.12,-121.74 523.88,-116.55 527.87,-126.37 533.12,-121.74\"/>\n</g>\n<!-- 4776659744 -->\n<g id=\"node36\" class=\"node\">\n<title>4776659744</title>\n<polygon fill=\"lightgrey\" stroke=\"black\" points=\"631,-317.75 543,-317.75 543,-271.5 631,-271.5 631,-317.75\"/>\n<text text-anchor=\"middle\" x=\"587\" y=\"-304.25\" font-family=\"monospace\" font-size=\"10.00\">SubBackward0</text>\n<text text-anchor=\"middle\" x=\"587\" y=\"-291.5\" font-family=\"monospace\" font-size=\"10.00\">&#45;&#45;&#45;&#45;&#45;&#45;&#45;&#45;&#45;&#45;&#45;&#45;</text>\n<text text-anchor=\"middle\" x=\"587\" y=\"-278.75\" font-family=\"monospace\" font-size=\"10.00\">alpha: 1</text>\n</g>\n<!-- 4776659744&#45;&gt;4776670448 -->\n<g id=\"edge34\" class=\"edge\">\n<title>4776659744&#45;&gt;4776670448</title>\n<path fill=\"none\" stroke=\"black\" d=\"M586.58,-271.2C586.37,-260.52 586.12,-247.33 585.88,-234.62\"/>\n<polygon fill=\"black\" stroke=\"black\" points=\"589.38,-234.62 585.7,-224.68 582.39,-234.75 589.38,-234.62\"/>\n</g>\n<!-- 4776663056 -->\n<g id=\"node37\" class=\"node\">\n<title>4776663056</title>\n<polygon fill=\"lightgrey\" stroke=\"black\" points=\"632,-412.75 544,-412.75 544,-366.5 632,-366.5 632,-412.75\"/>\n<text text-anchor=\"middle\" x=\"588\" y=\"-399.25\" font-family=\"monospace\" font-size=\"10.00\">SubBackward0</text>\n<text text-anchor=\"middle\" x=\"588\" y=\"-386.5\" font-family=\"monospace\" font-size=\"10.00\">&#45;&#45;&#45;&#45;&#45;&#45;&#45;&#45;&#45;&#45;&#45;&#45;</text>\n<text text-anchor=\"middle\" x=\"588\" y=\"-373.75\" font-family=\"monospace\" font-size=\"10.00\">alpha: 1</text>\n</g>\n<!-- 4776663056&#45;&gt;4776659744 -->\n<g id=\"edge35\" class=\"edge\">\n<title>4776663056&#45;&gt;4776659744</title>\n<path fill=\"none\" stroke=\"black\" d=\"M587.76,-366.11C587.64,-355.03 587.49,-341.45 587.36,-329.17\"/>\n<polygon fill=\"black\" stroke=\"black\" points=\"590.86,-329.41 587.26,-319.44 583.86,-329.48 590.86,-329.41\"/>\n</g>\n<!-- 4776659312 -->\n<g id=\"node38\" class=\"node\">\n<title>4776659312</title>\n<polygon fill=\"lightgrey\" stroke=\"black\" points=\"659,-507.75 517,-507.75 517,-448.75 659,-448.75 659,-507.75\"/>\n<text text-anchor=\"middle\" x=\"588\" y=\"-494.25\" font-family=\"monospace\" font-size=\"10.00\">DivBackward0</text>\n<text text-anchor=\"middle\" x=\"588\" y=\"-481.5\" font-family=\"monospace\" font-size=\"10.00\">&#45;&#45;&#45;&#45;&#45;&#45;&#45;&#45;&#45;&#45;&#45;&#45;&#45;&#45;&#45;&#45;&#45;&#45;&#45;&#45;&#45;</text>\n<text text-anchor=\"middle\" x=\"588\" y=\"-468.75\" font-family=\"monospace\" font-size=\"10.00\">other: [saved tensor]</text>\n<text text-anchor=\"middle\" x=\"588\" y=\"-456\" font-family=\"monospace\" font-size=\"10.00\">self : [saved tensor]</text>\n</g>\n<!-- 4776659312&#45;&gt;4776663056 -->\n<g id=\"edge36\" class=\"edge\">\n<title>4776659312&#45;&gt;4776663056</title>\n<path fill=\"none\" stroke=\"black\" d=\"M588,-448.41C588,-440.76 588,-432.43 588,-424.54\"/>\n<polygon fill=\"black\" stroke=\"black\" points=\"591.5,-424.56 588,-414.56 584.5,-424.56 591.5,-424.56\"/>\n</g>\n<!-- 4776670304 -->\n<g id=\"node39\" class=\"node\">\n<title>4776670304</title>\n<polygon fill=\"lightgrey\" stroke=\"black\" points=\"228,-577.25 140,-577.25 140,-556.5 228,-556.5 228,-577.25\"/>\n<text text-anchor=\"middle\" x=\"184\" y=\"-563.75\" font-family=\"monospace\" font-size=\"10.00\">NegBackward0</text>\n</g>\n<!-- 4776670304&#45;&gt;4776659312 -->\n<g id=\"edge37\" class=\"edge\">\n<title>4776670304&#45;&gt;4776659312</title>\n<path fill=\"none\" stroke=\"black\" d=\"M228.5,-557.91C286.23,-547.39 389.99,-527.83 478,-507.75 486.99,-505.7 496.36,-503.45 505.67,-501.14\"/>\n<polygon fill=\"black\" stroke=\"black\" points=\"506.24,-504.6 515.08,-498.78 504.53,-497.81 506.24,-504.6\"/>\n</g>\n<!-- 4776667808 -->\n<g id=\"node40\" class=\"node\">\n<title>4776667808</title>\n<polygon fill=\"lightgrey\" stroke=\"black\" points=\"170,-691.38 10,-691.38 10,-632.38 170,-632.38 170,-691.38\"/>\n<text text-anchor=\"middle\" x=\"90\" y=\"-677.88\" font-family=\"monospace\" font-size=\"10.00\">PowBackward0</text>\n<text text-anchor=\"middle\" x=\"90\" y=\"-665.12\" font-family=\"monospace\" font-size=\"10.00\">&#45;&#45;&#45;&#45;&#45;&#45;&#45;&#45;&#45;&#45;&#45;&#45;&#45;&#45;&#45;&#45;&#45;&#45;&#45;&#45;&#45;&#45;&#45;&#45;</text>\n<text text-anchor=\"middle\" x=\"90\" y=\"-652.38\" font-family=\"monospace\" font-size=\"10.00\">exponent: &#160;&#160;&#160;&#160;&#160;&#160;&#160;&#160;&#160;&#160;&#160;&#160;&#160;2</text>\n<text text-anchor=\"middle\" x=\"90\" y=\"-639.62\" font-family=\"monospace\" font-size=\"10.00\">self &#160;&#160;&#160;: [saved tensor]</text>\n</g>\n<!-- 4776667808&#45;&gt;4776670304 -->\n<g id=\"edge38\" class=\"edge\">\n<title>4776667808&#45;&gt;4776670304</title>\n<path fill=\"none\" stroke=\"black\" d=\"M119.23,-631.96C134.61,-616.74 152.98,-598.57 166.22,-585.47\"/>\n<polygon fill=\"black\" stroke=\"black\" points=\"168.37,-588.26 173.02,-578.74 163.45,-583.29 168.37,-588.26\"/>\n</g>\n<!-- 4776667424&#45;&gt;4776667808 -->\n<g id=\"edge39\" class=\"edge\">\n<title>4776667424&#45;&gt;4776667808</title>\n<path fill=\"none\" stroke=\"black\" d=\"M164.99,-739.7C153.51,-727.94 139.17,-713.25 126.12,-699.88\"/>\n<polygon fill=\"black\" stroke=\"black\" points=\"128.74,-697.55 119.25,-692.84 123.73,-702.44 128.74,-697.55\"/>\n</g>\n<!-- 4776670256 -->\n<g id=\"node42\" class=\"node\">\n<title>4776670256</title>\n<polygon fill=\"lightgrey\" stroke=\"black\" points=\"618,-887.75 476,-887.75 476,-828.75 618,-828.75 618,-887.75\"/>\n<text text-anchor=\"middle\" x=\"547\" y=\"-874.25\" font-family=\"monospace\" font-size=\"10.00\">MulBackward0</text>\n<text text-anchor=\"middle\" x=\"547\" y=\"-861.5\" font-family=\"monospace\" font-size=\"10.00\">&#45;&#45;&#45;&#45;&#45;&#45;&#45;&#45;&#45;&#45;&#45;&#45;&#45;&#45;&#45;&#45;&#45;&#45;&#45;&#45;&#45;</text>\n<text text-anchor=\"middle\" x=\"547\" y=\"-848.75\" font-family=\"monospace\" font-size=\"10.00\">other: [saved tensor]</text>\n<text text-anchor=\"middle\" x=\"547\" y=\"-836\" font-family=\"monospace\" font-size=\"10.00\">self : &#160;&#160;&#160;&#160;&#160;&#160;&#160;&#160;&#160;&#160;None</text>\n</g>\n<!-- 4776670256&#45;&gt;4776659312 -->\n<g id=\"edge42\" class=\"edge\">\n<title>4776670256&#45;&gt;4776659312</title>\n<path fill=\"none\" stroke=\"black\" d=\"M592.07,-828.34C603.99,-818.48 615.58,-806.45 623,-792.75 670.98,-704.16 631.93,-581.01 606.16,-518.71\"/>\n<polygon fill=\"black\" stroke=\"black\" points=\"609.4,-517.4 602.27,-509.56 602.96,-520.14 609.4,-517.4\"/>\n</g>\n<!-- 4776667856&#45;&gt;4776670256 -->\n<g id=\"edge43\" class=\"edge\">\n<title>4776667856&#45;&gt;4776670256</title>\n<path fill=\"none\" stroke=\"black\" d=\"M548.56,-961.7C548.28,-943.4 547.92,-919.47 547.61,-899.33\"/>\n<polygon fill=\"black\" stroke=\"black\" points=\"551.11,-899.45 547.46,-889.5 544.11,-899.55 551.11,-899.45\"/>\n</g>\n<!-- 4776668960&#45;&gt;4776663056 -->\n<g id=\"edge45\" class=\"edge\">\n<title>4776668960&#45;&gt;4776663056</title>\n<path fill=\"none\" stroke=\"black\" d=\"M703.62,-834.8C703.04,-798.62 702,-725.14 702,-662.88 702,-662.88 702,-662.88 702,-565.88 702,-511.67 699.16,-493.1 668,-448.75 660.21,-437.67 649.62,-427.89 638.7,-419.68\"/>\n<polygon fill=\"black\" stroke=\"black\" points=\"640.92,-416.96 630.74,-414.02 636.87,-422.66 640.92,-416.96\"/>\n</g>\n<!-- 4776657680 -->\n<g id=\"node45\" class=\"node\">\n<title>4776657680</title>\n<polygon fill=\"lightgrey\" stroke=\"black\" points=\"492,-330.5 344,-330.5 344,-258.75 492,-258.75 492,-330.5\"/>\n<text text-anchor=\"middle\" x=\"418\" y=\"-317\" font-family=\"monospace\" font-size=\"10.00\">SumBackward1</text>\n<text text-anchor=\"middle\" x=\"418\" y=\"-304.25\" font-family=\"monospace\" font-size=\"10.00\">&#45;&#45;&#45;&#45;&#45;&#45;&#45;&#45;&#45;&#45;&#45;&#45;&#45;&#45;&#45;&#45;&#45;&#45;&#45;&#45;&#45;&#45;</text>\n<text text-anchor=\"middle\" x=\"418\" y=\"-291.5\" font-family=\"monospace\" font-size=\"10.00\">dim &#160;&#160;&#160;&#160;&#160;&#160;&#160;&#160;&#160;&#160;: &#160;&#160;(1,)</text>\n<text text-anchor=\"middle\" x=\"418\" y=\"-278.75\" font-family=\"monospace\" font-size=\"10.00\">keepdim &#160;&#160;&#160;&#160;&#160;&#160;: &#160;False</text>\n<text text-anchor=\"middle\" x=\"418\" y=\"-266\" font-family=\"monospace\" font-size=\"10.00\">self_sym_sizes: (1, 2)</text>\n</g>\n<!-- 4776657680&#45;&gt;4776662144 -->\n<g id=\"edge47\" class=\"edge\">\n<title>4776657680&#45;&gt;4776662144</title>\n<path fill=\"none\" stroke=\"black\" d=\"M421.18,-258.52C425.02,-228.57 433.33,-185.07 451,-151 456.04,-141.28 463.09,-131.89 470.38,-123.61\"/>\n<polygon fill=\"black\" stroke=\"black\" points=\"472.72,-126.23 476.95,-116.51 467.59,-121.47 472.72,-126.23\"/>\n</g>\n<!-- 4776668048 -->\n<g id=\"node46\" class=\"node\">\n<title>4776668048</title>\n<polygon fill=\"lightgrey\" stroke=\"black\" points=\"469,-507.75 327,-507.75 327,-448.75 469,-448.75 469,-507.75\"/>\n<text text-anchor=\"middle\" x=\"398\" y=\"-494.25\" font-family=\"monospace\" font-size=\"10.00\">MulBackward0</text>\n<text text-anchor=\"middle\" x=\"398\" y=\"-481.5\" font-family=\"monospace\" font-size=\"10.00\">&#45;&#45;&#45;&#45;&#45;&#45;&#45;&#45;&#45;&#45;&#45;&#45;&#45;&#45;&#45;&#45;&#45;&#45;&#45;&#45;&#45;</text>\n<text text-anchor=\"middle\" x=\"398\" y=\"-468.75\" font-family=\"monospace\" font-size=\"10.00\">other: [saved tensor]</text>\n<text text-anchor=\"middle\" x=\"398\" y=\"-456\" font-family=\"monospace\" font-size=\"10.00\">self : &#160;&#160;&#160;&#160;&#160;&#160;&#160;&#160;&#160;&#160;None</text>\n</g>\n<!-- 4776668048&#45;&gt;4776657680 -->\n<g id=\"edge48\" class=\"edge\">\n<title>4776668048&#45;&gt;4776657680</title>\n<path fill=\"none\" stroke=\"black\" d=\"M401.17,-448.47C404.31,-419.93 409.18,-375.72 412.87,-342.18\"/>\n<polygon fill=\"black\" stroke=\"black\" points=\"416.34,-342.63 413.96,-332.31 409.39,-341.87 416.34,-342.63\"/>\n</g>\n<!-- 4776667184 -->\n<g id=\"node47\" class=\"node\">\n<title>4776667184</title>\n<polygon fill=\"lightgrey\" stroke=\"black\" points=\"427,-590 339,-590 339,-543.75 427,-543.75 427,-590\"/>\n<text text-anchor=\"middle\" x=\"383\" y=\"-576.5\" font-family=\"monospace\" font-size=\"10.00\">SubBackward0</text>\n<text text-anchor=\"middle\" x=\"383\" y=\"-563.75\" font-family=\"monospace\" font-size=\"10.00\">&#45;&#45;&#45;&#45;&#45;&#45;&#45;&#45;&#45;&#45;&#45;&#45;</text>\n<text text-anchor=\"middle\" x=\"383\" y=\"-551\" font-family=\"monospace\" font-size=\"10.00\">alpha: 1</text>\n</g>\n<!-- 4776667184&#45;&gt;4776668048 -->\n<g id=\"edge49\" class=\"edge\">\n<title>4776667184&#45;&gt;4776668048</title>\n<path fill=\"none\" stroke=\"black\" d=\"M386.86,-543.57C388.15,-536.12 389.63,-527.59 391.08,-519.22\"/>\n<polygon fill=\"black\" stroke=\"black\" points=\"394.5,-519.97 392.76,-509.52 387.6,-518.77 394.5,-519.97\"/>\n</g>\n<!-- 4776667376&#45;&gt;4776667184 -->\n<g id=\"edge50\" class=\"edge\">\n<title>4776667376&#45;&gt;4776667184</title>\n<path fill=\"none\" stroke=\"black\" d=\"M270.83,-638.36C290.93,-625.73 316.21,-609.84 337.68,-596.35\"/>\n<polygon fill=\"black\" stroke=\"black\" points=\"339.36,-599.43 345.97,-591.15 335.64,-593.5 339.36,-599.43\"/>\n</g>\n<!-- 4776668192 -->\n<g id=\"node49\" class=\"node\">\n<title>4776668192</title>\n<polygon fill=\"lightgrey\" stroke=\"black\" points=\"466,-697.75 300,-697.75 300,-626 466,-626 466,-697.75\"/>\n<text text-anchor=\"middle\" x=\"383\" y=\"-684.25\" font-family=\"monospace\" font-size=\"10.00\">SoftplusBackward0</text>\n<text text-anchor=\"middle\" x=\"383\" y=\"-671.5\" font-family=\"monospace\" font-size=\"10.00\">&#45;&#45;&#45;&#45;&#45;&#45;&#45;&#45;&#45;&#45;&#45;&#45;&#45;&#45;&#45;&#45;&#45;&#45;&#45;&#45;&#45;&#45;&#45;&#45;&#45;</text>\n<text text-anchor=\"middle\" x=\"383\" y=\"-658.75\" font-family=\"monospace\" font-size=\"10.00\">beta &#160;&#160;&#160;&#160;: &#160;&#160;&#160;&#160;&#160;&#160;&#160;&#160;&#160;&#160;&#160;&#160;&#160;1</text>\n<text text-anchor=\"middle\" x=\"383\" y=\"-646\" font-family=\"monospace\" font-size=\"10.00\">self &#160;&#160;&#160;&#160;: [saved tensor]</text>\n<text text-anchor=\"middle\" x=\"383\" y=\"-633.25\" font-family=\"monospace\" font-size=\"10.00\">threshold: &#160;&#160;&#160;&#160;&#160;&#160;&#160;&#160;&#160;&#160;&#160;&#160;20</text>\n</g>\n<!-- 4776668192&#45;&gt;4776667184 -->\n<g id=\"edge52\" class=\"edge\">\n<title>4776668192&#45;&gt;4776667184</title>\n<path fill=\"none\" stroke=\"black\" d=\"M383,-625.72C383,-617.86 383,-609.54 383,-601.74\"/>\n<polygon fill=\"black\" stroke=\"black\" points=\"386.5,-601.93 383,-591.93 379.5,-601.93 386.5,-601.93\"/>\n</g>\n<!-- 4776667328&#45;&gt;4776668192 -->\n<g id=\"edge53\" class=\"edge\">\n<title>4776667328&#45;&gt;4776668192</title>\n<path fill=\"none\" stroke=\"black\" d=\"M369.5,-733.51C370.96,-725.86 372.57,-717.41 374.17,-709.08\"/>\n<polygon fill=\"black\" stroke=\"black\" points=\"377.58,-709.87 376.02,-699.39 370.7,-708.55 377.58,-709.87\"/>\n</g>\n</g>\n</svg>\n",
      "text/plain": [
       "<graphviz.graphs.Digraph at 0x11cb18d50>"
      ]
     },
     "execution_count": 11,
     "metadata": {},
     "output_type": "execute_result"
    }
   ],
   "execution_count": 11
  },
  {
   "metadata": {
    "ExecuteTime": {
     "end_time": "2025-05-18T08:45:41.171623Z",
     "start_time": "2025-05-18T08:45:35.570717Z"
    }
   },
   "cell_type": "code",
   "source": "sac_rl.test(deterministic=True)",
   "id": "124fa30be2525cd9",
   "outputs": [
    {
     "name": "stdout",
     "output_type": "stream",
     "text": [
      "[-0.00776    -0.00634075 -0.04301743 -0.01882676]\n",
      "idx 0.01139 state 0.04801425621269205\n",
      "\u001B[31;1mtoo much error 🥲😱\u001B[0m\n",
      "\u001B[34msecond player was in the game\u001B[0m\n",
      "\u001B[32;1mData saved to results folder 😜\u001B[0m\n"
     ]
    },
    {
     "data": {
      "text/plain": [
       "<Figure size 640x480 with 1 Axes>"
      ],
      "image/png": "[encoded data removed]"
     },
     "metadata": {},
     "output_type": "display_data"
    },
    {
     "data": {
      "text/plain": [
       "<Figure size 640x480 with 1 Axes>"
      ],
      "image/png": "[encoded data removed]"
     },
     "metadata": {},
     "output_type": "display_data"
    }
   ],
   "execution_count": 12
  },
  {
   "metadata": {
    "ExecuteTime": {
     "end_time": "2025-05-18T08:45:44.654798Z",
     "start_time": "2025-05-18T08:45:41.224351Z"
    }
   },
   "cell_type": "code",
   "source": [
    "train = False\n",
    "if train:\n",
    "    sac_rl.train()\n",
    "    sac_rl.save()\n",
    "else:\n",
    "    sac_rl.load(load_device=torch.device(\"cpu\"), from_device_to_load='cuda')\n",
    "    sac_rl.test(deterministic=True, fun_mode=True)"
   ],
   "id": "eec0ac25843b071a",
   "outputs": [
    {
     "ename": "RuntimeError",
     "evalue": "Error(s) in loading state_dict for SquashedGaussianMLPActor:\n\tUnexpected key(s) in state_dict: \"net.1.weight\". ",
     "output_type": "error",
     "traceback": [
      "\u001B[0;31m---------------------------------------------------------------------------\u001B[0m",
      "\u001B[0;31mRuntimeError\u001B[0m                              Traceback (most recent call last)",
      "Cell \u001B[0;32mIn[13], line 6\u001B[0m\n\u001B[1;32m      4\u001B[0m     sac_rl\u001B[38;5;241m.\u001B[39msave()\n\u001B[1;32m      5\u001B[0m \u001B[38;5;28;01melse\u001B[39;00m:\n\u001B[0;32m----> 6\u001B[0m     \u001B[43msac_rl\u001B[49m\u001B[38;5;241;43m.\u001B[39;49m\u001B[43mload\u001B[49m\u001B[43m(\u001B[49m\u001B[43mload_device\u001B[49m\u001B[38;5;241;43m=\u001B[39;49m\u001B[43mtorch\u001B[49m\u001B[38;5;241;43m.\u001B[39;49m\u001B[43mdevice\u001B[49m\u001B[43m(\u001B[49m\u001B[38;5;124;43m\"\u001B[39;49m\u001B[38;5;124;43mcpu\u001B[39;49m\u001B[38;5;124;43m\"\u001B[39;49m\u001B[43m)\u001B[49m\u001B[43m,\u001B[49m\u001B[43m \u001B[49m\u001B[43mfrom_device_to_load\u001B[49m\u001B[38;5;241;43m=\u001B[39;49m\u001B[38;5;124;43m'\u001B[39;49m\u001B[38;5;124;43mcuda\u001B[39;49m\u001B[38;5;124;43m'\u001B[39;49m\u001B[43m)\u001B[49m\n\u001B[1;32m      7\u001B[0m     sac_rl\u001B[38;5;241m.\u001B[39mtest(deterministic\u001B[38;5;241m=\u001B[39m\u001B[38;5;28;01mTrue\u001B[39;00m, fun_mode\u001B[38;5;241m=\u001B[39m\u001B[38;5;28;01mTrue\u001B[39;00m)\n",
      "Cell \u001B[0;32mIn[9], line 449\u001B[0m, in \u001B[0;36mSAC.load\u001B[0;34m(self, filepath, load_device, from_device_to_load)\u001B[0m\n\u001B[1;32m    447\u001B[0m     \u001B[38;5;28mself\u001B[39m\u001B[38;5;241m.\u001B[39mac\u001B[38;5;241m.\u001B[39mq2\u001B[38;5;241m.\u001B[39mload_state_dict(torch\u001B[38;5;241m.\u001B[39mload(filepath \u001B[38;5;241m+\u001B[39m q2_file, map_location\u001B[38;5;241m=\u001B[39mtorch\u001B[38;5;241m.\u001B[39mdevice(\u001B[38;5;124m'\u001B[39m\u001B[38;5;124mcuda\u001B[39m\u001B[38;5;124m'\u001B[39m)))\n\u001B[1;32m    448\u001B[0m \u001B[38;5;28;01melif\u001B[39;00m from_device_to_load \u001B[38;5;241m==\u001B[39m \u001B[38;5;124m'\u001B[39m\u001B[38;5;124mcuda\u001B[39m\u001B[38;5;124m'\u001B[39m \u001B[38;5;129;01mand\u001B[39;00m load_device\u001B[38;5;241m.\u001B[39mtype \u001B[38;5;241m==\u001B[39m \u001B[38;5;124m'\u001B[39m\u001B[38;5;124mcpu\u001B[39m\u001B[38;5;124m'\u001B[39m:\n\u001B[0;32m--> 449\u001B[0m     \u001B[38;5;28;43mself\u001B[39;49m\u001B[38;5;241;43m.\u001B[39;49m\u001B[43mac\u001B[49m\u001B[38;5;241;43m.\u001B[39;49m\u001B[43mpi\u001B[49m\u001B[38;5;241;43m.\u001B[39;49m\u001B[43mload_state_dict\u001B[49m\u001B[43m(\u001B[49m\u001B[43mtorch\u001B[49m\u001B[38;5;241;43m.\u001B[39;49m\u001B[43mload\u001B[49m\u001B[43m(\u001B[49m\u001B[43mfilepath\u001B[49m\u001B[43m \u001B[49m\u001B[38;5;241;43m+\u001B[39;49m\u001B[43m \u001B[49m\u001B[43mactor_file\u001B[49m\u001B[43m,\u001B[49m\u001B[43m \u001B[49m\u001B[43mmap_location\u001B[49m\u001B[38;5;241;43m=\u001B[39;49m\u001B[43mtorch\u001B[49m\u001B[38;5;241;43m.\u001B[39;49m\u001B[43mdevice\u001B[49m\u001B[43m(\u001B[49m\u001B[38;5;124;43m'\u001B[39;49m\u001B[38;5;124;43mcpu\u001B[39;49m\u001B[38;5;124;43m'\u001B[39;49m\u001B[43m)\u001B[49m\u001B[43m)\u001B[49m\u001B[43m)\u001B[49m\n\u001B[1;32m    450\u001B[0m     \u001B[38;5;28mself\u001B[39m\u001B[38;5;241m.\u001B[39mac\u001B[38;5;241m.\u001B[39mq1\u001B[38;5;241m.\u001B[39mload_state_dict(torch\u001B[38;5;241m.\u001B[39mload(filepath \u001B[38;5;241m+\u001B[39m q1_file, map_location\u001B[38;5;241m=\u001B[39mtorch\u001B[38;5;241m.\u001B[39mdevice(\u001B[38;5;124m'\u001B[39m\u001B[38;5;124mcpu\u001B[39m\u001B[38;5;124m'\u001B[39m)))\n\u001B[1;32m    451\u001B[0m     \u001B[38;5;28mself\u001B[39m\u001B[38;5;241m.\u001B[39mac\u001B[38;5;241m.\u001B[39mq2\u001B[38;5;241m.\u001B[39mload_state_dict(torch\u001B[38;5;241m.\u001B[39mload(filepath \u001B[38;5;241m+\u001B[39m q2_file, map_location\u001B[38;5;241m=\u001B[39mtorch\u001B[38;5;241m.\u001B[39mdevice(\u001B[38;5;124m'\u001B[39m\u001B[38;5;124mcpu\u001B[39m\u001B[38;5;124m'\u001B[39m)))\n",
      "File \u001B[0;32m~/Documents/BAI/Master/master-thesis/.env/lib/python3.11/site-packages/torch/nn/modules/module.py:2153\u001B[0m, in \u001B[0;36mModule.load_state_dict\u001B[0;34m(self, state_dict, strict, assign)\u001B[0m\n\u001B[1;32m   2148\u001B[0m         error_msgs\u001B[38;5;241m.\u001B[39minsert(\n\u001B[1;32m   2149\u001B[0m             \u001B[38;5;241m0\u001B[39m, \u001B[38;5;124m'\u001B[39m\u001B[38;5;124mMissing key(s) in state_dict: \u001B[39m\u001B[38;5;132;01m{}\u001B[39;00m\u001B[38;5;124m. \u001B[39m\u001B[38;5;124m'\u001B[39m\u001B[38;5;241m.\u001B[39mformat(\n\u001B[1;32m   2150\u001B[0m                 \u001B[38;5;124m'\u001B[39m\u001B[38;5;124m, \u001B[39m\u001B[38;5;124m'\u001B[39m\u001B[38;5;241m.\u001B[39mjoin(\u001B[38;5;124mf\u001B[39m\u001B[38;5;124m'\u001B[39m\u001B[38;5;124m\"\u001B[39m\u001B[38;5;132;01m{\u001B[39;00mk\u001B[38;5;132;01m}\u001B[39;00m\u001B[38;5;124m\"\u001B[39m\u001B[38;5;124m'\u001B[39m \u001B[38;5;28;01mfor\u001B[39;00m k \u001B[38;5;129;01min\u001B[39;00m missing_keys)))\n\u001B[1;32m   2152\u001B[0m \u001B[38;5;28;01mif\u001B[39;00m \u001B[38;5;28mlen\u001B[39m(error_msgs) \u001B[38;5;241m>\u001B[39m \u001B[38;5;241m0\u001B[39m:\n\u001B[0;32m-> 2153\u001B[0m     \u001B[38;5;28;01mraise\u001B[39;00m \u001B[38;5;167;01mRuntimeError\u001B[39;00m(\u001B[38;5;124m'\u001B[39m\u001B[38;5;124mError(s) in loading state_dict for \u001B[39m\u001B[38;5;132;01m{}\u001B[39;00m\u001B[38;5;124m:\u001B[39m\u001B[38;5;130;01m\\n\u001B[39;00m\u001B[38;5;130;01m\\t\u001B[39;00m\u001B[38;5;132;01m{}\u001B[39;00m\u001B[38;5;124m'\u001B[39m\u001B[38;5;241m.\u001B[39mformat(\n\u001B[1;32m   2154\u001B[0m                        \u001B[38;5;28mself\u001B[39m\u001B[38;5;241m.\u001B[39m\u001B[38;5;18m__class__\u001B[39m\u001B[38;5;241m.\u001B[39m\u001B[38;5;18m__name__\u001B[39m, \u001B[38;5;124m\"\u001B[39m\u001B[38;5;130;01m\\n\u001B[39;00m\u001B[38;5;130;01m\\t\u001B[39;00m\u001B[38;5;124m\"\u001B[39m\u001B[38;5;241m.\u001B[39mjoin(error_msgs)))\n\u001B[1;32m   2155\u001B[0m \u001B[38;5;28;01mreturn\u001B[39;00m _IncompatibleKeys(missing_keys, unexpected_keys)\n",
      "\u001B[0;31mRuntimeError\u001B[0m: Error(s) in loading state_dict for SquashedGaussianMLPActor:\n\tUnexpected key(s) in state_dict: \"net.1.weight\". "
     ]
    }
   ],
   "execution_count": 13
  },
  {
   "metadata": {
    "ExecuteTime": {
     "end_time": "2025-05-18T08:45:44.715419Z",
     "start_time": "2025-05-18T07:59:03.476836Z"
    }
   },
   "cell_type": "code",
   "source": [
    "if train:\n",
    "    try:\n",
    "        # noinspection PyUnresolvedReferences\n",
    "        import google.colab\n",
    "        # download created models\n",
    "        if os.path.isfile(\"sac_TBP_results.tar.gz\"):\n",
    "            os.remove(\"sac_TBP_results.tar.gz\")\n",
    "        !tar cvfz sac_TBP_results.tar.gz model/\n",
    "        # noinspection PyUnresolvedReferences\n",
    "        from google.colab import files\n",
    "        files.download('sac_TBP_results.tar.gz')\n",
    "        print(colorize(\"Done! 🥰😎\", 'blue', bold=True))\n",
    "    except Exception as e:\n",
    "        print(e, end=' ----> ')\n",
    "        print(colorize(\"Something Wrong 🧐😩, or maybe you used your Mac 😱🥲\", 'red', bold=True))\n",
    "else:\n",
    "    print(colorize(\"You are in test mode! 🥰😎\", 'blue', bold=True))"
   ],
   "id": "f755adf38308b7a",
   "outputs": [
    {
     "name": "stdout",
     "output_type": "stream",
     "text": [
      "\u001B[34;1mYou are in test mode! 🥰😎\u001B[0m\n"
     ]
    }
   ],
   "execution_count": 14
  },
  {
   "metadata": {
    "ExecuteTime": {
     "end_time": "2025-05-18T08:45:44.720412Z",
     "start_time": "2025-05-18T07:59:03.566855Z"
    }
   },
   "cell_type": "code",
   "source": [
    "# # copy model\n",
    "# pi_model = deepcopy(sac_rl.ac.pi)\n",
    "# print(\n",
    "#     f\"Model copied successfully! 🥰😎\",\n",
    "#     pi_model\n",
    "# )\n"
   ],
   "id": "dff72c652c577a0c",
   "outputs": [],
   "execution_count": 15
  },
  {
   "metadata": {
    "ExecuteTime": {
     "end_time": "2025-05-18T08:45:44.724706Z",
     "start_time": "2025-05-18T07:59:03.647609Z"
    }
   },
   "cell_type": "code",
   "source": "# pi_model.eval()",
   "id": "c3aca7ae050eda8b",
   "outputs": [],
   "execution_count": 16
  },
  {
   "metadata": {
    "ExecuteTime": {
     "end_time": "2025-05-18T08:45:44.727055Z",
     "start_time": "2025-05-18T07:59:03.722122Z"
    }
   },
   "cell_type": "code",
   "source": [
    "# dummy_input = torch.randn(1, sac_rl.obs_dim[0], device=device)\n",
    "# print(pi_model(dummy_input))"
   ],
   "id": "d33d4dea5191de1a",
   "outputs": [],
   "execution_count": 17
  },
  {
   "metadata": {
    "ExecuteTime": {
     "end_time": "2025-05-18T08:45:44.729999Z",
     "start_time": "2025-05-18T07:59:03.772702Z"
    }
   },
   "cell_type": "code",
   "source": [
    "# pi_model.eval()\n",
    "# # Trace the model\n",
    "# traced_model = torch.jit.trace(pi_model, dummy_input)\n",
    "#\n",
    "# # Save the traced model\n",
    "# traced_model.save(\"pi_model_traced.pt\")"
   ],
   "id": "b6badfd022581f2f",
   "outputs": [],
   "execution_count": 18
  },
  {
   "metadata": {
    "ExecuteTime": {
     "end_time": "2025-05-18T08:45:44.745540Z",
     "start_time": "2025-05-18T07:59:03.860303Z"
    }
   },
   "cell_type": "code",
   "source": [
    "# with torch.no_grad():\n",
    "#     original_output, original_logp = pi_model(dummy_input, deterministic=True, with_logprob=True)\n",
    "#     traced_output, traced_logp = traced_model(dummy_input)\n",
    "#\n",
    "#     # Check if the outputs are identical\n",
    "#     output_close = torch.allclose(original_output, traced_output, atol=1e-6)\n",
    "#     logp_close = torch.allclose(original_logp, traced_logp, atol=1e-6) if original_logp is not None else True\n",
    "#\n",
    "#     if output_close and logp_close:\n",
    "#         print(\"The traced model is deterministic and matches the original model.\")\n",
    "#     else:\n",
    "#         print(\"There is a discrepancy between the original and traced models.\")\n",
    "#         if not output_close:\n",
    "#             print(\"Outputs do not match.\")\n",
    "#         if not logp_close:\n",
    "#             print(\"Log probabilities do not match.\")\n"
   ],
   "id": "2a04479beb023f1f",
   "outputs": [],
   "execution_count": 19
  }
 ],
 "metadata": {
  "kernelspec": {
   "display_name": "Python 3",
   "language": "python",
   "name": "python3"
  },
  "language_info": {
   "codemirror_mode": {
    "name": "ipython",
    "version": 2
   },
   "file_extension": ".py",
   "mimetype": "text/x-python",
   "name": "python",
   "nbconvert_exporter": "python",
   "pygments_lexer": "ipython2",
   "version": "2.7.6"
  }
 },
 "nbformat": 4,
 "nbformat_minor": 5
}
