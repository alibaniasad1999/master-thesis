{
 "cells": [
  {
   "metadata": {},
   "cell_type": "code",
   "outputs": [],
   "execution_count": null,
   "source": [
    "!pip install \"gymnasium[mujoco]\"\n",
    "!pip install mpi4py"
   ],
   "id": "1e1fc454bdd4abf1"
  },
  {
   "metadata": {},
   "cell_type": "code",
   "outputs": [],
   "execution_count": null,
   "source": [
    "import os\n",
    "import subprocess"
   ],
   "id": "initial_id"
  },
  {
   "metadata": {},
   "cell_type": "code",
   "source": [
    "env_file = 'model_downloader.py'\n",
    "env_url = \"https://raw.githubusercontent.com/alibaniasad1999/master-thesis/main/Code/Python/utils/model_downloader.py\"\n",
    "\n",
    "if not os.path.isfile(env_file):\n",
    "    print(f\"Downloading {env_file} ...\")\n",
    "    subprocess.run(\n",
    "        ['wget', '-q', '-O', env_file, env_url],\n",
    "        stdout=subprocess.DEVNULL,\n",
    "        stderr=subprocess.DEVNULL\n",
    "    )\n",
    "    print(f\"{env_file} downloaded.\")\n",
    "else:\n",
    "    print(f\"{env_file} already exists.\")\n",
    "\n",
    "from model_downloader import download_everything\n",
    "\n",
    "trajectory = download_everything('sac, TBP')"
   ],
   "id": "3a003c134bf4b2b1",
   "outputs": [],
   "execution_count": null
  },
  {
   "metadata": {},
   "cell_type": "code",
   "source": [
    "import torch\n",
    "import SAC\n",
    "from SAC import SAC\n",
    "from TBP import ThreeBodyEnv\n",
    "from utils.run_utils import setup_logger_kwargs\n",
    "from SAC import colorize"
   ],
   "id": "d651e532734cc6ee",
   "outputs": [],
   "execution_count": null
  },
  {
   "metadata": {},
   "cell_type": "code",
   "source": [
    "device = torch.device(\"cuda\" if torch.cuda.is_available() else \"cpu\")\n",
    "# print(colorize(f\"Device is {device}! 🥰😎\", 'green', bold=True))\n",
    "# Define variables directly\n",
    "env = ThreeBodyEnv(trajectory)\n",
    "hid = 64\n",
    "l = 2\n",
    "gamma = 0.99\n",
    "seed = 0\n",
    "epochs = 50\n",
    "exp_name = 'ddpg'\n",
    "steps_per_epoch_=30000\n",
    "device = torch.device(\"cuda\" if torch.cuda.is_available() else \"cpu\")\n",
    "\n",
    "ac_kwargs = dict(hidden_sizes=[hid]*l)\n",
    "states_array = []\n",
    "# logger_kwargs = setup_logger_kwargs(exp_name, seed)\n",
    "reward_array=[]\n",
    "# ddpg = DDPG(lambda : ThreeBodyEnv(trajectory, error_range=0.01, final_range=0.001), MLPActorCritic, ac_kwargs,seed_=seed, steps_per_epoch=steps_per_epoch_, epochs_=epochs, logger_kwargs_=logger_kwargs, device=device, batch_size=1024, start_steps=5000, update_after=1000, update_every=2000)\n",
    "\n",
    "\n",
    "sac_rl = SAC(lambda : ThreeBodyEnv(trajectory, error_range=0.01, final_range=0.001), epochs=100, device_class=device, ac_kwargs_class=ac_kwargs, steps_per_epoch=steps_per_epoch_, batch_size=1024, start_steps=5000, update_after=1000, update_every=2000)"
   ],
   "id": "b15d60406807e30d",
   "outputs": [],
   "execution_count": null
  },
  {
   "metadata": {},
   "cell_type": "code",
   "source": "sac_rl.train(epochs=10)",
   "id": "fcda92340306d42a",
   "outputs": [],
   "execution_count": null
  },
  {
   "metadata": {},
   "cell_type": "code",
   "source": "sac_rl.test(fun_mode=True, deterministic=True, save_data=False)",
   "id": "f4d171a8a5f06b5d",
   "outputs": [],
   "execution_count": null
  },
  {
   "metadata": {},
   "cell_type": "code",
   "source": "sac_rl.save()",
   "id": "c4c017f62f2fe28c",
   "outputs": [],
   "execution_count": null
  },
  {
   "metadata": {},
   "cell_type": "code",
   "source": "sac_rl.load()",
   "id": "b9752c276810f121",
   "outputs": [],
   "execution_count": null
  },
  {
   "metadata": {},
   "cell_type": "code",
   "source": [
    "try:\n",
    "    # noinspection PyUnresolvedReferences\n",
    "    import google.colab\n",
    "    # download created models\n",
    "    if os.path.isfile(\"sac_TBP_results.tar.gz\"):\n",
    "        os.remove(\"sac_TBP_results.tar.gz\")\n",
    "    !tar cvfz sac_TBP_results.tar.gz model/\n",
    "    # noinspection PyUnresolvedReferences\n",
    "    from google.colab import files\n",
    "    files.download('sac_TBP_results.tar.gz')\n",
    "    print(colorize(\"Done! 🥰😎\", 'blue', bold=True))\n",
    "except Exception as e:\n",
    "    print(e, end=' ----> ')\n",
    "    print(colorize(\"Something Wrong 🧐😩, or maybe you used your Mac 😱🥲\", 'red', bold=True))"
   ],
   "id": "d385e59c0124d65",
   "outputs": [],
   "execution_count": null
  }
 ],
 "metadata": {
  "kernelspec": {
   "display_name": "Python 3",
   "language": "python",
   "name": "python3"
  },
  "language_info": {
   "codemirror_mode": {
    "name": "ipython",
    "version": 2
   },
   "file_extension": ".py",
   "mimetype": "text/x-python",
   "name": "python",
   "nbconvert_exporter": "python",
   "pygments_lexer": "ipython2",
   "version": "2.7.6"
  }
 },
 "nbformat": 4,
 "nbformat_minor": 5
}
