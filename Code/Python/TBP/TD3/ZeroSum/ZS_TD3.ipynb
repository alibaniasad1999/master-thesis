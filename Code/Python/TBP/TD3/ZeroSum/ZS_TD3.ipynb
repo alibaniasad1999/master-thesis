{
 "cells": [
  {
   "cell_type": "code",
   "id": "initial_id",
   "metadata": {
    "collapsed": true
   },
   "source": [
    "import os\n",
    "import subprocess"
   ],
   "outputs": [],
   "execution_count": null
  },
  {
   "metadata": {},
   "cell_type": "code",
   "source": [
    "env_file = 'model_downloader.py'\n",
    "env_url = \"https://raw.githubusercontent.com/alibaniasad1999/master-thesis/main/Code/Python/utils/model_downloader.py\"\n",
    "\n",
    "if not os.path.isfile(env_file):\n",
    "    print(f\"Downloading {env_file} ...\")\n",
    "    subprocess.run(\n",
    "        ['wget', '-q', '-O', env_file, env_url],\n",
    "        stdout=subprocess.DEVNULL,\n",
    "        stderr=subprocess.DEVNULL\n",
    "    )\n",
    "    print(f\"{env_file} downloaded.\")\n",
    "else:\n",
    "    print(f\"{env_file} already exists.\")\n",
    "\n",
    "from model_downloader import download_everything\n",
    "\n",
    "trajectory = download_everything('td3, TBP, td3_models, ')"
   ],
   "id": "33970bd6ffa1759c",
   "outputs": [],
   "execution_count": null
  },
  {
   "metadata": {},
   "cell_type": "code",
   "source": [
    "import logging\n",
    "logging.getLogger('matplotlib.font_manager').setLevel(level=logging.CRITICAL)"
   ],
   "id": "5fb13673492d479e",
   "outputs": [],
   "execution_count": null
  },
  {
   "metadata": {},
   "cell_type": "code",
   "source": [
    "from Zero_Sum_TD3 import ZS_TD3\n",
    "from TD3 import MLPActorCritic\n",
    "from utils.logx import EpochLogger\n",
    "from utils.logx import colorize\n",
    "from utils.run_utils import setup_logger_kwargs\n",
    "from TBP import ThreeBodyEnv\n",
    "import torch"
   ],
   "id": "7582c219a58e2070",
   "outputs": [],
   "execution_count": null
  },
  {
   "metadata": {},
   "cell_type": "code",
   "source": [
    "# Define variables directly\n",
    "env = ThreeBodyEnv(trajectory)\n",
    "hid = 32\n",
    "l = 2\n",
    "gamma = 0.99\n",
    "seed = 0\n",
    "epochs = 50\n",
    "exp_name = 'TD3'\n",
    "steps_per_epoch_=30000\n",
    "device = torch.device(\"cuda\" if torch.cuda.is_available() else \"cpu\")\n",
    "\n",
    "ac_kwargs = dict(hidden_sizes=[hid]*l)\n",
    "states_array = []\n",
    "logger_kwargs = setup_logger_kwargs(exp_name, seed)\n"
   ],
   "id": "e1a3d9f27e4b515b",
   "outputs": [],
   "execution_count": null
  },
  {
   "metadata": {},
   "cell_type": "code",
   "source": [
    "zs_td3 = ZS_TD3(lambda : ThreeBodyEnv(trajectory, error_range=0.01, final_range=0.001), MLPActorCritic, ac_kwargs,seed=seed, steps_per_epoch=steps_per_epoch_, epochs=epochs, logger_kwargs=logger_kwargs, batch_size=1024, start_steps=5000, update_after=1000, update_every=2000)\n",
    "\n",
    "\n",
    "# ddpg = DDPG(lambda : ThreeBodyEnv(trajectory, error_range=0.01, final_range=0.001), MLPActorCritic, ac_kwargs,seed_=seed, steps_per_epoch=steps_per_epoch_, epochs_=epochs, logger_kwargs_=logger_kwargs, device=device, batch_size=1024, start_steps=5000, update_after=1000, update_every=2000)"
   ],
   "id": "499cc713d0c6a4f3",
   "outputs": [],
   "execution_count": null
  },
  {
   "metadata": {},
   "cell_type": "code",
   "source": [
    "# td3.save()\n",
    "zs_td3.load()\n",
    "# td3.epochs = 10"
   ],
   "id": "f39e42a6e23ca91a",
   "outputs": [],
   "execution_count": null
  },
  {
   "metadata": {},
   "cell_type": "code",
   "source": "zs_td3.test(fun_mode=True)",
   "id": "a2427c9b6d4d3380",
   "outputs": [],
   "execution_count": null
  },
  {
   "metadata": {},
   "cell_type": "code",
   "source": [
    "zs_td3.save_1()\n",
    "zs_td3.load_1()"
   ],
   "id": "2f95332fd81f027b",
   "outputs": [],
   "execution_count": null
  },
  {
   "metadata": {},
   "cell_type": "code",
   "source": [
    "zs_td3.epochs = 40\n",
    "zs_td3.train()"
   ],
   "id": "18c0b5e78d91d83f",
   "outputs": [],
   "execution_count": null
  },
  {
   "metadata": {},
   "cell_type": "code",
   "source": [
    "zs_td3.save()\n",
    "zs_td3.save_1()"
   ],
   "id": "7ec8c027702e1202",
   "outputs": [],
   "execution_count": null
  },
  {
   "metadata": {},
   "cell_type": "code",
   "source": [
    "try:\n",
    "    # noinspection PyUnresolvedReferences\n",
    "    import google.colab\n",
    "    # download created models\n",
    "    if os.path.isfile(\"td3_TBP_results.tar.gz\"):\n",
    "        os.remove(\"td3_TBP_results.tar.gz\")\n",
    "    !tar cvfz td3_TBP_results.tar.gz model/\n",
    "    # noinspection PyUnresolvedReferences\n",
    "    from google.colab import files\n",
    "    files.download('td3_TBP_results.tar.gz')\n",
    "    print(colorize(\"Done! 🥰😎\", 'blue', bold=True))\n",
    "except Exception as e:\n",
    "    print(e, end=' ----> ')\n",
    "    print(colorize(\"Something Wrong 🧐😩, or maybe you used your Mac 😱🥲\", 'red', bold=True))"
   ],
   "id": "6fe4f35db4494f50",
   "outputs": [],
   "execution_count": null
  }
 ],
 "metadata": {
  "kernelspec": {
   "display_name": "Python 3",
   "language": "python",
   "name": "python3"
  },
  "language_info": {
   "codemirror_mode": {
    "name": "ipython",
    "version": 2
   },
   "file_extension": ".py",
   "mimetype": "text/x-python",
   "name": "python",
   "nbconvert_exporter": "python",
   "pygments_lexer": "ipython2",
   "version": "2.7.6"
  }
 },
 "nbformat": 4,
 "nbformat_minor": 5
}
