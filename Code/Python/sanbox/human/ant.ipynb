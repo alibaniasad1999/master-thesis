{
 "cells": [
  {
   "cell_type": "code",
   "id": "initial_id",
   "metadata": {
    "collapsed": true,
    "ExecuteTime": {
     "end_time": "2025-08-03T20:31:31.930427Z",
     "start_time": "2025-08-03T20:31:28.827122Z"
    }
   },
   "source": [
    "import importlib\n",
    "import torch\n",
    "import os\n",
    "import subprocess\n",
    "import gymnasium as gym"
   ],
   "outputs": [],
   "execution_count": 2
  },
  {
   "metadata": {
    "ExecuteTime": {
     "end_time": "2025-08-03T20:31:32.513144Z",
     "start_time": "2025-08-03T20:31:31.959544Z"
    }
   },
   "cell_type": "code",
   "source": [
    "# Environment downloader\n",
    "env_file = 'model_downloader.py'\n",
    "env_url = \"https://raw.githubusercontent.com/alibaniasad1999/master-thesis/main/Code/Python/utils/model_downloader.py\"\n",
    "\n",
    "if not os.path.isfile(env_file):\n",
    "    print(f\"Downloading {env_file} ...\")\n",
    "    subprocess.run(\n",
    "        ['wget', '-q', '-O', env_file, env_url],\n",
    "        stdout=subprocess.DEVNULL,\n",
    "        stderr=subprocess.DEVNULL\n",
    "    )\n",
    "    print(f\"{env_file} downloaded.\")\n",
    "else:\n",
    "    print(f\"{env_file} already exists.\")\n",
    "\n",
    "from model_downloader import download_everything"
   ],
   "id": "1ef4e28d5bdceb8e",
   "outputs": [
    {
     "name": "stdout",
     "output_type": "stream",
     "text": [
      "model_downloader.py already exists.\n"
     ]
    }
   ],
   "execution_count": 3
  },
  {
   "metadata": {
    "ExecuteTime": {
     "end_time": "2025-08-03T20:31:32.552116Z",
     "start_time": "2025-08-03T20:31:32.544497Z"
    }
   },
   "cell_type": "code",
   "source": "download_everything('ddpg')",
   "id": "814a9ad8a91fcf70",
   "outputs": [
    {
     "name": "stdout",
     "output_type": "stream",
     "text": [
      "DDPG.py already exists.\n"
     ]
    }
   ],
   "execution_count": 4
  },
  {
   "metadata": {
    "ExecuteTime": {
     "end_time": "2025-08-03T20:31:46.904162Z",
     "start_time": "2025-08-03T20:31:32.596534Z"
    }
   },
   "cell_type": "code",
   "source": [
    "# Properly import and reload DDPG module\n",
    "import sys\n",
    "import importlib\n",
    "import DDPG\n",
    "\n",
    "# Force reload the module to ensure we have the latest version\n",
    "if 'DDPG' in sys.modules:\n",
    "    importlib.reload(DDPG)\n",
    "\n",
    "# Now import the specific components after reload\n",
    "from DDPG import DDPG\n",
    "from DDPG import setup_logger_kwargs\n",
    "from DDPG import MLPActorCritic"
   ],
   "id": "205c534f0a20a6cd",
   "outputs": [
    {
     "name": "stdout",
     "output_type": "stream",
     "text": [
      "trajectory.csv already exists.\n",
      "Directory 'utils' already exists.\n",
      "trajectory.csv already exists.\n",
      "Directory 'utils' already exists.\n"
     ]
    }
   ],
   "execution_count": 5
  },
  {
   "metadata": {
    "ExecuteTime": {
     "end_time": "2025-08-03T20:31:59.892603Z",
     "start_time": "2025-08-03T20:31:57.688784Z"
    }
   },
   "cell_type": "code",
   "source": [
    "env = gym.make('Humanoid-v5')\n",
    "hid = 1024\n",
    "l = 3\n",
    "gamma = 0.99\n",
    "seed = 0\n",
    "epochs = 50\n",
    "exp_name = 'ddpg'\n",
    "steps_per_epoch_ = 5000\n",
    "device = torch.device(\"cuda\" if torch.cuda.is_available() else \"cpu\")\n",
    "\n",
    "ac_kwargs = dict(hidden_sizes=[hid] * l)\n",
    "states_array = []\n",
    "logger_kwargs = setup_logger_kwargs(exp_name, seed)\n",
    "reward_array = []\n",
    "ddpg = DDPG(lambda: gym.make('Humanoid-v5'), MLPActorCritic, ac_kwargs,\n",
    "               seed_=seed, steps_per_epoch=steps_per_epoch_, epochs_=epochs, logger_kwargs_=logger_kwargs,\n",
    "               device_=device, batch_size=1024, start_steps=5000, update_after=1000, update_every=2000)"
   ],
   "id": "35efa67a2f1f777d",
   "outputs": [
    {
     "name": "stdout",
     "output_type": "stream",
     "text": [
      "Warning: Log dir /Users/Ali/Documents/BAI/Master/master-thesis/Code/Python/sanbox/human/data/ddpg/ddpg_s0 already exists! Storing info there anyway.\n",
      "\u001B[32;1mLogging data to /Users/Ali/Documents/BAI/Master/master-thesis/Code/Python/sanbox/human/data/ddpg/ddpg_s0/progress.txt\u001B[0m\n",
      "\u001B[31;1mError saving config: Object of type generator is not JSON serializable\u001B[0m\n",
      "\u001B[31;1mError saving config, some parameters might not be saved.\u001B[0m\n",
      "\u001B[32;1mError saving config, some parameters might not be saved.\u001B[0m\n",
      "\u001B[32;1mUsing device: cpu\u001B[0m\n",
      "\u001B[32;1mActor-Critic architecture: MLPActorCritic\u001B[0m\n",
      "\u001B[32;1mActor-Critic parameters: {'hidden_sizes': [1024, 1024, 1024]}\u001B[0m\n",
      "\u001B[32;1mEnvironment: <lambda>\u001B[0m\n",
      "\u001B[32;1m\n",
      "Number of parameters: \t pi: 2474001, \t q: 2475009\n",
      "\u001B[0m\n"
     ]
    }
   ],
   "execution_count": 6
  },
  {
   "metadata": {
    "ExecuteTime": {
     "end_time": "2025-08-03T20:31:59.964714Z",
     "start_time": "2025-08-03T20:31:59.955847Z"
    }
   },
   "cell_type": "code",
   "source": "a = lambda: gym.make('Humanoid-v5')",
   "id": "e137a9ca75e535b5",
   "outputs": [],
   "execution_count": 7
  },
  {
   "metadata": {
    "ExecuteTime": {
     "end_time": "2025-08-03T20:32:00.905450Z",
     "start_time": "2025-08-03T20:32:00.069103Z"
    }
   },
   "cell_type": "code",
   "source": "ddpg.load(from_device_to_load='cuda')",
   "id": "5e1fd1e073137ef3",
   "outputs": [
    {
     "ename": "RuntimeError",
     "evalue": "Error(s) in loading state_dict for MLPActor:\n\tsize mismatch for pi.0.weight: copying a param with shape torch.Size([1024, 376]) from checkpoint, the shape in current model is torch.Size([1024, 348]).",
     "output_type": "error",
     "traceback": [
      "\u001B[0;31m---------------------------------------------------------------------------\u001B[0m",
      "\u001B[0;31mRuntimeError\u001B[0m                              Traceback (most recent call last)",
      "Cell \u001B[0;32mIn[8], line 1\u001B[0m\n\u001B[0;32m----> 1\u001B[0m \u001B[43mddpg\u001B[49m\u001B[38;5;241;43m.\u001B[39;49m\u001B[43mload\u001B[49m\u001B[43m(\u001B[49m\u001B[43mfrom_device_to_load\u001B[49m\u001B[38;5;241;43m=\u001B[39;49m\u001B[38;5;124;43m'\u001B[39;49m\u001B[38;5;124;43mcuda\u001B[39;49m\u001B[38;5;124;43m'\u001B[39;49m\u001B[43m)\u001B[49m\n",
      "File \u001B[0;32m~/Documents/BAI/Master/master-thesis/Code/Python/sanbox/human/DDPG.py:412\u001B[0m, in \u001B[0;36mDDPG.load\u001B[0;34m(self, filepath, load_device, from_device_to_load)\u001B[0m\n\u001B[1;32m    410\u001B[0m     \u001B[38;5;28mself\u001B[39m\u001B[38;5;241m.\u001B[39mac\u001B[38;5;241m.\u001B[39mq\u001B[38;5;241m.\u001B[39mload_state_dict(torch\u001B[38;5;241m.\u001B[39mload(filepath \u001B[38;5;241m+\u001B[39m q_file, map_location\u001B[38;5;241m=\u001B[39mtorch\u001B[38;5;241m.\u001B[39mdevice(\u001B[38;5;124m'\u001B[39m\u001B[38;5;124mcuda\u001B[39m\u001B[38;5;124m'\u001B[39m)))\n\u001B[1;32m    411\u001B[0m \u001B[38;5;28;01melif\u001B[39;00m from_device_to_load \u001B[38;5;241m==\u001B[39m \u001B[38;5;124m'\u001B[39m\u001B[38;5;124mcuda\u001B[39m\u001B[38;5;124m'\u001B[39m \u001B[38;5;129;01mand\u001B[39;00m load_device\u001B[38;5;241m.\u001B[39mtype \u001B[38;5;241m==\u001B[39m \u001B[38;5;124m'\u001B[39m\u001B[38;5;124mcpu\u001B[39m\u001B[38;5;124m'\u001B[39m:\n\u001B[0;32m--> 412\u001B[0m     \u001B[38;5;28;43mself\u001B[39;49m\u001B[38;5;241;43m.\u001B[39;49m\u001B[43mac\u001B[49m\u001B[38;5;241;43m.\u001B[39;49m\u001B[43mpi\u001B[49m\u001B[38;5;241;43m.\u001B[39;49m\u001B[43mload_state_dict\u001B[49m\u001B[43m(\u001B[49m\u001B[43mtorch\u001B[49m\u001B[38;5;241;43m.\u001B[39;49m\u001B[43mload\u001B[49m\u001B[43m(\u001B[49m\u001B[43mfilepath\u001B[49m\u001B[43m \u001B[49m\u001B[38;5;241;43m+\u001B[39;49m\u001B[43m \u001B[49m\u001B[43mactor_file\u001B[49m\u001B[43m,\u001B[49m\u001B[43m \u001B[49m\u001B[43mmap_location\u001B[49m\u001B[38;5;241;43m=\u001B[39;49m\u001B[43mtorch\u001B[49m\u001B[38;5;241;43m.\u001B[39;49m\u001B[43mdevice\u001B[49m\u001B[43m(\u001B[49m\u001B[38;5;124;43m'\u001B[39;49m\u001B[38;5;124;43mcpu\u001B[39;49m\u001B[38;5;124;43m'\u001B[39;49m\u001B[43m)\u001B[49m\u001B[43m)\u001B[49m\u001B[43m)\u001B[49m\n\u001B[1;32m    413\u001B[0m     \u001B[38;5;28mself\u001B[39m\u001B[38;5;241m.\u001B[39mac\u001B[38;5;241m.\u001B[39mq\u001B[38;5;241m.\u001B[39mload_state_dict(torch\u001B[38;5;241m.\u001B[39mload(filepath \u001B[38;5;241m+\u001B[39m q_file, map_location\u001B[38;5;241m=\u001B[39mtorch\u001B[38;5;241m.\u001B[39mdevice(\u001B[38;5;124m'\u001B[39m\u001B[38;5;124mcpu\u001B[39m\u001B[38;5;124m'\u001B[39m)))\n\u001B[1;32m    414\u001B[0m \u001B[38;5;28;01melse\u001B[39;00m:\n",
      "File \u001B[0;32m~/Documents/BAI/Master/master-thesis/.env/lib/python3.11/site-packages/torch/nn/modules/module.py:2153\u001B[0m, in \u001B[0;36mModule.load_state_dict\u001B[0;34m(self, state_dict, strict, assign)\u001B[0m\n\u001B[1;32m   2148\u001B[0m         error_msgs\u001B[38;5;241m.\u001B[39minsert(\n\u001B[1;32m   2149\u001B[0m             \u001B[38;5;241m0\u001B[39m, \u001B[38;5;124m'\u001B[39m\u001B[38;5;124mMissing key(s) in state_dict: \u001B[39m\u001B[38;5;132;01m{}\u001B[39;00m\u001B[38;5;124m. \u001B[39m\u001B[38;5;124m'\u001B[39m\u001B[38;5;241m.\u001B[39mformat(\n\u001B[1;32m   2150\u001B[0m                 \u001B[38;5;124m'\u001B[39m\u001B[38;5;124m, \u001B[39m\u001B[38;5;124m'\u001B[39m\u001B[38;5;241m.\u001B[39mjoin(\u001B[38;5;124mf\u001B[39m\u001B[38;5;124m'\u001B[39m\u001B[38;5;124m\"\u001B[39m\u001B[38;5;132;01m{\u001B[39;00mk\u001B[38;5;132;01m}\u001B[39;00m\u001B[38;5;124m\"\u001B[39m\u001B[38;5;124m'\u001B[39m \u001B[38;5;28;01mfor\u001B[39;00m k \u001B[38;5;129;01min\u001B[39;00m missing_keys)))\n\u001B[1;32m   2152\u001B[0m \u001B[38;5;28;01mif\u001B[39;00m \u001B[38;5;28mlen\u001B[39m(error_msgs) \u001B[38;5;241m>\u001B[39m \u001B[38;5;241m0\u001B[39m:\n\u001B[0;32m-> 2153\u001B[0m     \u001B[38;5;28;01mraise\u001B[39;00m \u001B[38;5;167;01mRuntimeError\u001B[39;00m(\u001B[38;5;124m'\u001B[39m\u001B[38;5;124mError(s) in loading state_dict for \u001B[39m\u001B[38;5;132;01m{}\u001B[39;00m\u001B[38;5;124m:\u001B[39m\u001B[38;5;130;01m\\n\u001B[39;00m\u001B[38;5;130;01m\\t\u001B[39;00m\u001B[38;5;132;01m{}\u001B[39;00m\u001B[38;5;124m'\u001B[39m\u001B[38;5;241m.\u001B[39mformat(\n\u001B[1;32m   2154\u001B[0m                        \u001B[38;5;28mself\u001B[39m\u001B[38;5;241m.\u001B[39m\u001B[38;5;18m__class__\u001B[39m\u001B[38;5;241m.\u001B[39m\u001B[38;5;18m__name__\u001B[39m, \u001B[38;5;124m\"\u001B[39m\u001B[38;5;130;01m\\n\u001B[39;00m\u001B[38;5;130;01m\\t\u001B[39;00m\u001B[38;5;124m\"\u001B[39m\u001B[38;5;241m.\u001B[39mjoin(error_msgs)))\n\u001B[1;32m   2155\u001B[0m \u001B[38;5;28;01mreturn\u001B[39;00m _IncompatibleKeys(missing_keys, unexpected_keys)\n",
      "\u001B[0;31mRuntimeError\u001B[0m: Error(s) in loading state_dict for MLPActor:\n\tsize mismatch for pi.0.weight: copying a param with shape torch.Size([1024, 376]) from checkpoint, the shape in current model is torch.Size([1024, 348])."
     ]
    }
   ],
   "execution_count": 8
  },
  {
   "metadata": {},
   "cell_type": "code",
   "outputs": [],
   "execution_count": null,
   "source": "# ddpg.load(from_device_to_load='cuda')",
   "id": "af4100e89a8d92f8"
  },
  {
   "metadata": {},
   "cell_type": "code",
   "outputs": [],
   "execution_count": null,
   "source": [
    "# if False:\n",
    "#     try:\n",
    "#         # noinspection PyUnresolvedReferences\n",
    "#         import google.colab\n",
    "#\n",
    "#         # download created models\n",
    "#         if os.path.isfile(\"DDPG_TBP_results.tar.gz\"):\n",
    "#             os.remove(\"DDPG_TBP_results.tar.gz\")\n",
    "#         !tar cvfz DDPG_TBP_results.tar.gz model/\n",
    "#         # noinspection PyUnresolvedReferences\n",
    "#         from google.colab import files\n",
    "#\n",
    "#         files.download('DDPG_TBP_results.tar.gz')\n",
    "#         print(colorize(\"Done! 🥰😎\", 'blue', bold=True))\n",
    "#     except Exception as e:\n",
    "#         print(e, end=' ----> ')\n",
    "#         print(colorize(\"Something Wrong 🧐😩, or maybe you used your Mac 😱🥲\", 'red', bold=True))\n",
    "# else:\n",
    "#     print(colorize(\"You are in test mode! 🥰😎\", 'blue', bold=True))"
   ],
   "id": "8648550e86c5d3f8"
  },
  {
   "metadata": {
    "ExecuteTime": {
     "end_time": "2025-08-03T20:33:32.393892Z",
     "start_time": "2025-08-03T20:33:20.045581Z"
    }
   },
   "cell_type": "code",
   "source": [
    "import time\n",
    "# Create the Ant environment with a human render mode\n",
    "env = gym.make('Humanoid-v5', render_mode=\"human\")\n",
    "\n",
    "# Reset the environment and get the initial observation and info\n",
    "obs, info = env.reset()\n",
    "step = 0\n",
    "\n",
    "try:\n",
    "    while step < 1000:\n",
    "        # Render the environment (animation window)\n",
    "        env.render()\n",
    "\n",
    "        # Sample a random action from the action space\n",
    "        action = ddpg.get_action(obs, 0)\n",
    "\n",
    "        # Take a step in the environment\n",
    "        obs, reward, terminated, truncated, info = env.step(action)\n",
    "\n",
    "        # Print the current observation (state)\n",
    "        # print(f\"Step {step}: Observation: {obs}\")\n",
    "\n",
    "        # Check if the episode is over\n",
    "        print(step)\n",
    "        if terminated or truncated:\n",
    "            print(\"Episode finished!\")\n",
    "            # break\n",
    "            obs, info = env.reset()\n",
    "\n",
    "        # Small delay to control simulation speed\n",
    "        time.sleep(0.05)\n",
    "        step += 1\n",
    "except KeyboardInterrupt:\n",
    "    print(\"Simulation interrupted.\")\n",
    "finally:\n",
    "    # Close the environment to free resources and close the render window\n",
    "    env.close()\n"
   ],
   "id": "4d42418995c7c25b",
   "outputs": [
    {
     "name": "stdout",
     "output_type": "stream",
     "text": [
      "0\n",
      "1\n",
      "2\n",
      "3\n",
      "4\n",
      "5\n",
      "6\n",
      "7\n",
      "8\n",
      "9\n",
      "10\n",
      "11\n",
      "12\n",
      "13\n",
      "14\n",
      "15\n",
      "Episode finished!\n",
      "16\n",
      "17\n",
      "18\n",
      "19\n",
      "20\n",
      "21\n",
      "22\n",
      "23\n",
      "24\n",
      "25\n",
      "26\n",
      "27\n",
      "28\n",
      "29\n",
      "30\n",
      "31\n",
      "32\n",
      "33\n",
      "34\n",
      "35\n",
      "36\n",
      "37\n",
      "38\n",
      "39\n",
      "40\n",
      "41\n",
      "42\n",
      "43\n",
      "44\n",
      "45\n",
      "46\n",
      "47\n",
      "48\n",
      "49\n",
      "50\n",
      "51\n",
      "Episode finished!\n",
      "52\n",
      "53\n",
      "54\n",
      "55\n",
      "56\n",
      "57\n",
      "58\n",
      "59\n",
      "60\n",
      "61\n",
      "62\n",
      "63\n",
      "64\n",
      "65\n",
      "66\n",
      "67\n",
      "68\n",
      "69\n",
      "70\n",
      "71\n",
      "72\n",
      "73\n",
      "74\n",
      "75\n",
      "76\n",
      "Episode finished!\n",
      "77\n",
      "78\n",
      "79\n",
      "80\n",
      "81\n",
      "82\n",
      "83\n",
      "84\n",
      "85\n",
      "86\n",
      "Simulation interrupted.\n"
     ]
    }
   ],
   "execution_count": 10
  }
 ],
 "metadata": {
  "kernelspec": {
   "display_name": "Python 3",
   "language": "python",
   "name": "python3"
  },
  "language_info": {
   "codemirror_mode": {
    "name": "ipython",
    "version": 2
   },
   "file_extension": ".py",
   "mimetype": "text/x-python",
   "name": "python",
   "nbconvert_exporter": "python",
   "pygments_lexer": "ipython2",
   "version": "2.7.6"
  }
 },
 "nbformat": 4,
 "nbformat_minor": 5
}
