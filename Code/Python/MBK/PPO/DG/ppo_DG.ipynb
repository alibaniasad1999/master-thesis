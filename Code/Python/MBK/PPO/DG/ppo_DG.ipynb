{
 "cells": [
  {
   "metadata": {
    "ExecuteTime": {
     "end_time": "2024-07-01T16:36:04.353518Z",
     "start_time": "2024-07-01T16:36:04.338992Z"
    }
   },
   "cell_type": "code",
   "source": [
    "import importlib.util\n",
    "import os"
   ],
   "id": "8955e14b193dcdd3",
   "outputs": [],
   "execution_count": 1
  },
  {
   "metadata": {
    "ExecuteTime": {
     "end_time": "2024-07-01T16:36:04.364574Z",
     "start_time": "2024-07-01T16:36:04.356257Z"
    }
   },
   "cell_type": "code",
   "source": [
    "package_name = 'gymnasium'\n",
    "if importlib.util.find_spec(package_name) is not None:\n",
    "    print(package_name +\" is installed\")\n",
    "else:\n",
    "    print(package_name +\" is installing\")\n",
    "    !pip install package_name\n",
    "\n",
    "package_name = 'mpi4py'\n",
    "if importlib.util.find_spec(package_name) is not None:\n",
    "    print(package_name +\" is installed\")\n",
    "else:\n",
    "    print(package_name +\" is installing\")\n",
    "    !pip install package_name"
   ],
   "id": "initial_id",
   "outputs": [
    {
     "name": "stdout",
     "output_type": "stream",
     "text": [
      "gymnasium is installed\n",
      "mpi4py is installed\n"
     ]
    }
   ],
   "execution_count": 2
  },
  {
   "metadata": {
    "ExecuteTime": {
     "end_time": "2024-07-01T17:32:32.826169Z",
     "start_time": "2024-07-01T17:32:32.633244Z"
    }
   },
   "cell_type": "code",
   "source": [
    "if not os.path.isfile(\"Env_DG.py\"):\n",
    "    !wget https://raw.githubusercontent.com/alibaniasad1999/master-thesis/main/Code/Python/MBK/PPO/DG/Env_DG.py\n",
    "from Env_DG import MassSpringDamperEnv\n",
    "\n",
    "if not os.path.isfile(\"PPO_utilz_DG.py\"):\n",
    "    !wget https://raw.githubusercontent.com/alibaniasad1999/master-thesis/main/Code/Python/MBK/PPO/DG/PPO_utilz_DG.py\n",
    "from PPO_utilz_DG import *\n",
    "\n",
    "if not os.path.isfile(\"PPO_DG.py\"):\n",
    "    !wget https://raw.githubusercontent.com/alibaniasad1999/master-thesis/main/Code/Python/MBK/PPO/DG/PPO_DG.py\n",
    "from PPO_DG import PPO"
   ],
   "id": "d03820730d540594",
   "outputs": [],
   "execution_count": 7
  },
  {
   "metadata": {},
   "cell_type": "code",
   "outputs": [],
   "execution_count": null,
   "source": [
    "# Define constants\n",
    "HID = 64\n",
    "L = 2\n",
    "GAMMA = 0.99\n",
    "SEED = 0\n",
    "STEPS = 4000\n",
    "EPOCHS = 216\n",
    "EXP_NAME = 'PPO_MBK_DG'\n",
    "logger_kwargs = setup_logger_kwargs(EXP_NAME, SEED)"
   ],
   "id": "d33e765eb7882f10"
  },
  {
   "metadata": {},
   "cell_type": "code",
   "outputs": [],
   "execution_count": null,
   "source": [
    "# Proximal Policy Optimization\n",
    "ppo = PPO(MassSpringDamperEnv(), ac_kwargs=dict(hidden_sizes=[HID] * L), gamma=GAMMA,\n",
    "            seed=SEED, steps_per_epoch=STEPS, epochs=EPOCHS,\n",
    "            logger_kwargs=logger_kwargs)"
   ],
   "id": "6583c00e9d2ba63d"
  },
  {
   "metadata": {},
   "cell_type": "code",
   "outputs": [],
   "execution_count": null,
   "source": [
    "# test PPO agent (not trained)\n",
    "ppo.test(deterministic=False)"
   ],
   "id": "a2154ea01e4a2f80"
  },
  {
   "metadata": {},
   "cell_type": "code",
   "source": [
    "ppo.second_player = False\n",
    "ppo.train()"
   ],
   "id": "237c7b0e9527eeb1",
   "outputs": [],
   "execution_count": null
  }
 ],
 "metadata": {
  "kernelspec": {
   "display_name": "Python 3",
   "language": "python",
   "name": "python3"
  },
  "language_info": {
   "codemirror_mode": {
    "name": "ipython",
    "version": 2
   },
   "file_extension": ".py",
   "mimetype": "text/x-python",
   "name": "python",
   "nbconvert_exporter": "python",
   "pygments_lexer": "ipython2",
   "version": "2.7.6"
  }
 },
 "nbformat": 4,
 "nbformat_minor": 5
}
