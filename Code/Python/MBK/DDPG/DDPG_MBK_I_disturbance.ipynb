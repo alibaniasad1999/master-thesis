{
 "cells": [
  {
   "cell_type": "markdown",
   "metadata": {
    "id": "uk-Ldpr6Vegv"
   },
   "source": [
    "# Deep Deterministic Policy Gradient (DDPG)\n",
    "\n",
    "**Author:** [amifunny](https://github.com/amifunny)<br>\n",
    "**Date created:** 2020/06/04<br>\n",
    "**Last modified:** 2024/03/23<br>\n",
    "**Description:** Implementing DDPG algorithm on the MBK Problem."
   ]
  },
  {
   "cell_type": "markdown",
   "metadata": {
    "id": "S6-DzLgvVeg1"
   },
   "source": [
    "## Introduction\n",
    "\n",
    "**Deep Deterministic Policy Gradient (DDPG)** is a model-free off-policy algorithm for\n",
    "learning continuous actions.\n",
    "\n",
    "It combines ideas from DPG (Deterministic Policy Gradient) and DQN (Deep Q-Network).\n",
    "It uses Experience Replay and slow-learning target networks from DQN, and it is based on\n",
    "DPG, which can operate over continuous action spaces.\n",
    "\n",
    "This tutorial closely follow this paper -\n",
    "[Continuous control with deep reinforcement learning](https://arxiv.org/abs/1509.02971)\n",
    "\n",
    "## Problem\n",
    "\n",
    "We are trying to solve the classic **Inverted Pendulum** control problem.\n",
    "In this setting, we can take only two actions: swing left or swing right.\n",
    "\n",
    "What make this problem challenging for Q-Learning Algorithms is that actions\n",
    "are **continuous** instead of being **discrete**. That is, instead of using two\n",
    "discrete actions like `-1` or `+1`, we have to select from infinite actions\n",
    "ranging from `-2` to `+2`.\n",
    "\n",
    "## Quick theory\n",
    "\n",
    "Just like the Actor-Critic method, we have two networks:\n",
    "\n",
    "1. Actor - It proposes an action given a state.\n",
    "2. Critic - It predicts if the action is good (positive value) or bad (negative value)\n",
    "given a state and an action.\n",
    "\n",
    "DDPG uses two more techniques not present in the original DQN:\n",
    "\n",
    "**First, it uses two Target networks.**\n",
    "\n",
    "**Why?** Because it add stability to training. In short, we are learning from estimated\n",
    "targets and Target networks are updated slowly, hence keeping our estimated targets\n",
    "stable.\n",
    "\n",
    "Conceptually, this is like saying, \"I have an idea of how to play this well,\n",
    "I'm going to try it out for a bit until I find something better\",\n",
    "as opposed to saying \"I'm going to re-learn how to play this entire game after every\n",
    "move\".\n",
    "See this [StackOverflow answer](https://stackoverflow.com/a/54238556/13475679).\n",
    "\n",
    "**Second, it uses Experience Replay.**\n",
    "\n",
    "We store list of tuples `(state, action, reward, next_state)`, and instead of\n",
    "learning only from recent experience, we learn from sampling all of our experience\n",
    "accumulated so far.\n",
    "\n",
    "Now, let's see how is it implemented."
   ]
  },
  {
   "cell_type": "code",
   "metadata": {
    "colab": {
     "base_uri": "https://localhost:8080/"
    },
    "id": "wAUt-eKqVg1Z",
    "outputId": "2608fab6-9c02-4cb1-c80d-3f33f190d407",
    "ExecuteTime": {
     "end_time": "2024-05-23T11:28:40.771690Z",
     "start_time": "2024-05-23T11:28:40.759791Z"
    }
   },
   "source": [
    "# !pip install gymnasium\n",
    "# !pip install --upgrade tensorflow\n",
    "# !pip install --upgrade tf-keras\n",
    "# !pip install --upgrade keras"
   ],
   "outputs": [],
   "execution_count": 8
  },
  {
   "cell_type": "code",
   "metadata": {
    "colab": {
     "base_uri": "https://localhost:8080/"
    },
    "id": "xGRWGFGjVosL",
    "outputId": "5f49bcce-473f-4cc1-9475-a805162df3cd",
    "ExecuteTime": {
     "end_time": "2024-05-23T11:28:40.974711Z",
     "start_time": "2024-05-23T11:28:40.960739Z"
    }
   },
   "source": [
    "import keras\n",
    "print(keras.__version__)"
   ],
   "outputs": [
    {
     "name": "stdout",
     "output_type": "stream",
     "text": [
      "3.3.3\n"
     ]
    }
   ],
   "execution_count": 9
  },
  {
   "cell_type": "code",
   "metadata": {
    "id": "o77vweObVeg2",
    "ExecuteTime": {
     "end_time": "2024-05-23T11:28:41.020189Z",
     "start_time": "2024-05-23T11:28:41.009493Z"
    }
   },
   "source": [
    "import os\n",
    "\n",
    "# os.environ[\"KERAS_BACKEND\"] = \"tensorflow\"\n",
    "\n",
    "import keras\n",
    "from keras import layers\n",
    "\n",
    "import tensorflow as tf\n",
    "import gymnasium as gym\n",
    "import numpy as np\n",
    "import matplotlib.pyplot as plt"
   ],
   "outputs": [],
   "execution_count": 10
  },
  {
   "cell_type": "code",
   "metadata": {
    "id": "5A0723lsYkQz",
    "ExecuteTime": {
     "end_time": "2024-05-23T11:28:41.177746Z",
     "start_time": "2024-05-23T11:28:41.152892Z"
    }
   },
   "source": [
    "from os import path\n",
    "from typing import Optional\n",
    "\n",
    "import numpy as np\n",
    "\n",
    "# import gym\n",
    "# from gym import spaces\n",
    "# from gym.envs.classic_control import utils\n",
    "# from gym.error import DependencyNotInstalled\n",
    "\n",
    "\n",
    "class MassSpringDamperEnv(gym.Env):\n",
    "\n",
    "    def __init__(self):\n",
    "        super(MassSpringDamperEnv, self).__init__()\n",
    "\n",
    "        # System parameters\n",
    "        self.m = 1.0  # Mass (kg)\n",
    "        self.k = 1.0  # Spring constant (N/m)\n",
    "        self.c = 0.1  # Damping coefficient (N*s/m)\n",
    "\n",
    "        # Simulation parameters\n",
    "        self.dt = 0.01  # Time step (s)\n",
    "        self.max_steps = 1500  # Maximum simulation steps\n",
    "        self.current_step = 0\n",
    "        self.disturbance = False\n",
    "        self.disturbance_time = None\n",
    "        self.disturbance_u = None\n",
    "\n",
    "        # Integrator\n",
    "        self.integral_error = 0\n",
    "\n",
    "        # State and action spaces\n",
    "        self.action_space = gym.spaces.Box(low=-20.0, high=20.0, shape=(1,))\n",
    "        self.observation_space = gym.spaces.Box(low=-100, high=100, shape=(3,))\n",
    "\n",
    "    def step(self, action):\n",
    "        # Apply control action and simulate one time step using Euler integration\n",
    "        force = action[0].copy()\n",
    "        # add disturbance\n",
    "        if self.disturbance and self.step_num >= 700:\n",
    "            force += self.disturbance_u\n",
    "\n",
    "        position, velocity = self.state\n",
    "\n",
    "        acceleration = (force - self.c * velocity - self.k * position) / self.m\n",
    "        velocity += acceleration * self.dt\n",
    "        position += velocity * self.dt\n",
    "\n",
    "        self.state = np.array([position, velocity])\n",
    "        self.integral_error += position * self.dt\n",
    "\n",
    "\n",
    "        costs = position ** 2 + 0.1 * velocity**2 \\\n",
    "        + 0.1 * self.integral_error**2 + 0.001 * (action[0]**2)\n",
    "\n",
    "        self.step_num += 1\n",
    "        if self.step_num > self.max_steps:\n",
    "            self.done = True\n",
    "\n",
    "\n",
    "        return self._get_obs(), -costs, self.done, False, {}\n",
    "\n",
    "    def reset(self, *, seed: Optional[int] = None, options: Optional[dict] = None):\n",
    "        super().reset(seed=seed)\n",
    "        self.state = np.random.uniform(low=-10, high=10, size=(2,))\n",
    "        self.current_step = 0\n",
    "        self.last_u = None\n",
    "        self.done = False\n",
    "        self.step_num = 0\n",
    "        self.integral_error = 0\n",
    "        self.disturbance_u = np.random.uniform(low=-5, high=5, size=(1,)).item()\n",
    "\n",
    "\n",
    "        return self._get_obs(), {}\n",
    "\n",
    "    def _get_obs(self):\n",
    "        position, velovity = self.state\n",
    "        return np.array([position, velovity, self.integral_error], dtype=np.float32)"
   ],
   "outputs": [],
   "execution_count": 11
  },
  {
   "cell_type": "markdown",
   "metadata": {
    "id": "Rmhlmz0FVeg4"
   },
   "source": [
    "We use [Gymnasium](https://gymnasium.farama.org/) to create the environment.\n",
    "We will use the `upper_bound` parameter to scale our actions later."
   ]
  },
  {
   "cell_type": "code",
   "metadata": {
    "colab": {
     "base_uri": "https://localhost:8080/"
    },
    "id": "2UVbXU19Veg4",
    "outputId": "89589347-90c8-4337-a0b5-ca804a0dd8c2",
    "ExecuteTime": {
     "end_time": "2024-05-23T11:28:41.212214Z",
     "start_time": "2024-05-23T11:28:41.197470Z"
    }
   },
   "source": [
    "# Specify the `render_mode` parameter to show the attempts of the agent in a pop up window.\n",
    "# env = gym.make(\"Pendulum-v1\", render_mode=\"human\")\n",
    "env = MassSpringDamperEnv()\n",
    "\n",
    "num_states = env.observation_space.shape[0]\n",
    "print(\"Size of State Space ->  {}\".format(num_states))\n",
    "num_actions = env.action_space.shape[0]\n",
    "print(\"Size of Action Space ->  {}\".format(num_actions))\n",
    "\n",
    "upper_bound = env.action_space.high[0]\n",
    "lower_bound = env.action_space.low[0]\n",
    "\n",
    "print(\"Max Value of Action ->  {}\".format(upper_bound))\n",
    "print(\"Min Value of Action ->  {}\".format(lower_bound))"
   ],
   "outputs": [
    {
     "name": "stdout",
     "output_type": "stream",
     "text": [
      "Size of State Space ->  3\n",
      "Size of Action Space ->  1\n",
      "Max Value of Action ->  20.0\n",
      "Min Value of Action ->  -20.0\n"
     ]
    }
   ],
   "execution_count": 12
  },
  {
   "cell_type": "markdown",
   "metadata": {
    "id": "Mh6BvVH3Veg5"
   },
   "source": [
    "To implement better exploration by the Actor network, we use noisy perturbations,\n",
    "specifically\n",
    "an **Ornstein-Uhlenbeck process** for generating noise, as described in the paper.\n",
    "It samples noise from a correlated normal distribution."
   ]
  },
  {
   "cell_type": "code",
   "metadata": {
    "id": "CkZvKPwdVeg5",
    "ExecuteTime": {
     "end_time": "2024-05-23T11:28:41.493493Z",
     "start_time": "2024-05-23T11:28:41.460031Z"
    }
   },
   "source": [
    "\n",
    "class OUActionNoise:\n",
    "    def __init__(self, mean, std_deviation, theta=0.15, dt=1e-2, x_initial=None):\n",
    "        self.theta = theta\n",
    "        self.mean = mean\n",
    "        self.std_dev = std_deviation\n",
    "        self.dt = dt\n",
    "        self.x_initial = x_initial\n",
    "        self.reset()\n",
    "\n",
    "    def __call__(self):\n",
    "        # Formula taken from https://www.wikipedia.org/wiki/Ornstein-Uhlenbeck_process\n",
    "        x = (\n",
    "            self.x_prev\n",
    "            + self.theta * (self.mean - self.x_prev) * self.dt\n",
    "            + self.std_dev * np.sqrt(self.dt) * np.random.normal(size=self.mean.shape)\n",
    "        )\n",
    "        # Store x into x_prev\n",
    "        # Makes next noise dependent on current one\n",
    "        self.x_prev = x\n",
    "        return x\n",
    "\n",
    "    def reset(self):\n",
    "        if self.x_initial is not None:\n",
    "            self.x_prev = self.x_initial\n",
    "        else:\n",
    "            self.x_prev = np.zeros_like(self.mean)\n"
   ],
   "outputs": [],
   "execution_count": 13
  },
  {
   "cell_type": "markdown",
   "metadata": {
    "id": "UHtK9c9xVeg5"
   },
   "source": [
    "The `Buffer` class implements Experience Replay.\n",
    "\n",
    "---\n",
    "![Algorithm](https://i.imgur.com/mS6iGyJ.jpg)\n",
    "---\n",
    "\n",
    "\n",
    "**Critic loss** - Mean Squared Error of `y - Q(s, a)`\n",
    "where `y` is the expected return as seen by the Target network,\n",
    "and `Q(s, a)` is action value predicted by the Critic network. `y` is a moving target\n",
    "that the critic model tries to achieve; we make this target\n",
    "stable by updating the Target model slowly.\n",
    "\n",
    "**Actor loss** - This is computed using the mean of the value given by the Critic network\n",
    "for the actions taken by the Actor network. We seek to maximize this quantity.\n",
    "\n",
    "Hence we update the Actor network so that it produces actions that get\n",
    "the maximum predicted value as seen by the Critic, for a given state."
   ]
  },
  {
   "cell_type": "code",
   "metadata": {
    "id": "BikiTjZ7Veg6",
    "ExecuteTime": {
     "end_time": "2024-05-23T11:28:41.646494Z",
     "start_time": "2024-05-23T11:28:41.611001Z"
    }
   },
   "source": [
    "\n",
    "class Buffer:\n",
    "    def __init__(self, buffer_capacity=100000, batch_size=64):\n",
    "        # Number of \"experiences\" to store at max\n",
    "        self.buffer_capacity = buffer_capacity\n",
    "        # Num of tuples to train on.\n",
    "        self.batch_size = batch_size\n",
    "\n",
    "        # Its tells us num of times record() was called.\n",
    "        self.buffer_counter = 0\n",
    "\n",
    "        # Instead of list of tuples as the exp.replay concept go\n",
    "        # We use different np.arrays for each tuple element\n",
    "        self.state_buffer = np.zeros((self.buffer_capacity, num_states))\n",
    "        self.action_buffer = np.zeros((self.buffer_capacity, num_actions))\n",
    "        self.reward_buffer = np.zeros((self.buffer_capacity, 1))\n",
    "        self.next_state_buffer = np.zeros((self.buffer_capacity, num_states))\n",
    "\n",
    "    # Takes (s,a,r,s') observation tuple as input\n",
    "    def record(self, obs_tuple):\n",
    "        # Set index to zero if buffer_capacity is exceeded,\n",
    "        # replacing old records\n",
    "        index = self.buffer_counter % self.buffer_capacity\n",
    "\n",
    "        self.state_buffer[index] = obs_tuple[0]\n",
    "        self.action_buffer[index] = obs_tuple[1]\n",
    "        self.reward_buffer[index] = obs_tuple[2]\n",
    "        self.next_state_buffer[index] = obs_tuple[3]\n",
    "\n",
    "        self.buffer_counter += 1\n",
    "\n",
    "    # Eager execution is turned on by default in TensorFlow 2. Decorating with tf.function allows\n",
    "    # TensorFlow to build a static graph out of the logic and computations in our function.\n",
    "    # This provides a large speed up for blocks of code that contain many small TensorFlow operations such as this one.\n",
    "    @tf.function\n",
    "    def update(\n",
    "        self,\n",
    "        state_batch,\n",
    "        action_batch,\n",
    "        reward_batch,\n",
    "        next_state_batch,\n",
    "    ):\n",
    "        # Training and updating Actor & Critic networks.\n",
    "        # See Pseudo Code.\n",
    "        with tf.GradientTape() as tape:\n",
    "            target_actions = target_actor(next_state_batch, training=True)\n",
    "            y = reward_batch + gamma * target_critic(\n",
    "                [next_state_batch, target_actions], training=True\n",
    "            )\n",
    "            critic_value = critic_model([state_batch, action_batch], training=True)\n",
    "            critic_loss = keras.ops.mean(keras.ops.square(y - critic_value))\n",
    "\n",
    "        critic_grad = tape.gradient(critic_loss, critic_model.trainable_variables)\n",
    "        critic_optimizer.apply_gradients(\n",
    "            zip(critic_grad, critic_model.trainable_variables)\n",
    "        )\n",
    "\n",
    "        with tf.GradientTape() as tape:\n",
    "            actions = actor_model(state_batch, training=True)\n",
    "            critic_value = critic_model([state_batch, actions], training=True)\n",
    "            # Used `-value` as we want to maximize the value given\n",
    "            # by the critic for our actions\n",
    "            actor_loss = -keras.ops.mean(critic_value)\n",
    "\n",
    "        actor_grad = tape.gradient(actor_loss, actor_model.trainable_variables)\n",
    "        actor_optimizer.apply_gradients(\n",
    "            zip(actor_grad, actor_model.trainable_variables)\n",
    "        )\n",
    "\n",
    "    # We compute the loss and update parameters\n",
    "    def learn(self):\n",
    "        # Get sampling range\n",
    "        record_range = min(self.buffer_counter, self.buffer_capacity)\n",
    "        # Randomly sample indices\n",
    "        batch_indices = np.random.choice(record_range, self.batch_size)\n",
    "\n",
    "        # Convert to tensors\n",
    "        state_batch = keras.ops.convert_to_tensor(self.state_buffer[batch_indices])\n",
    "        action_batch = keras.ops.convert_to_tensor(self.action_buffer[batch_indices])\n",
    "        reward_batch = keras.ops.convert_to_tensor(self.reward_buffer[batch_indices])\n",
    "        reward_batch = keras.ops.cast(reward_batch, dtype=\"float32\")\n",
    "        next_state_batch = keras.ops.convert_to_tensor(\n",
    "            self.next_state_buffer[batch_indices]\n",
    "        )\n",
    "\n",
    "        self.update(state_batch, action_batch, reward_batch, next_state_batch)\n",
    "\n",
    "\n",
    "# This update target parameters slowly\n",
    "# Based on rate `tau`, which is much less than one.\n",
    "def update_target(target, original, tau):\n",
    "    target_weights = target.get_weights()\n",
    "    original_weights = original.get_weights()\n",
    "\n",
    "    for i in range(len(target_weights)):\n",
    "        target_weights[i] = original_weights[i] * tau + target_weights[i] * (1 - tau)\n",
    "\n",
    "    target.set_weights(target_weights)\n"
   ],
   "outputs": [],
   "execution_count": 14
  },
  {
   "cell_type": "markdown",
   "metadata": {
    "id": "TMsQNSawVeg6"
   },
   "source": [
    "Here we define the Actor and Critic networks. These are basic Dense models\n",
    "with `ReLU` activation.\n",
    "\n",
    "Note: We need the initialization for last layer of the Actor to be between\n",
    "`-0.003` and `0.003` as this prevents us from getting `1` or `-1` output values in\n",
    "the initial stages, which would squash our gradients to zero,\n",
    "as we use the `tanh` activation."
   ]
  },
  {
   "cell_type": "code",
   "metadata": {
    "id": "5qJ2y3HwVeg7",
    "ExecuteTime": {
     "end_time": "2024-05-23T11:28:41.667671Z",
     "start_time": "2024-05-23T11:28:41.653526Z"
    }
   },
   "source": [
    "\n",
    "def get_actor():\n",
    "    # Initialize weights between -3e-3 and 3-e3\n",
    "    last_init = keras.initializers.RandomUniform(minval=-0.003, maxval=0.003)\n",
    "\n",
    "    inputs = layers.Input(shape=(num_states,))\n",
    "    out = layers.Dense(256, activation=\"relu\")(inputs)\n",
    "    out = layers.Dense(256, activation=\"relu\")(out)\n",
    "    outputs = layers.Dense(1, activation=\"tanh\", kernel_initializer=last_init)(out)\n",
    "\n",
    "    # Our upper bound is 20.0 for Pendulum.\n",
    "    outputs = outputs * upper_bound\n",
    "    model = keras.Model(inputs, outputs)\n",
    "    return model\n",
    "\n",
    "\n",
    "def get_critic():\n",
    "    # State as input\n",
    "    state_input = layers.Input(shape=(num_states,))\n",
    "    state_out = layers.Dense(16, activation=\"relu\")(state_input)\n",
    "    state_out = layers.Dense(32, activation=\"relu\")(state_out)\n",
    "\n",
    "    # Action as input\n",
    "    action_input = layers.Input(shape=(num_actions,))\n",
    "    action_out = layers.Dense(32, activation=\"relu\")(action_input)\n",
    "\n",
    "    # Both are passed through separate layer before concatenating\n",
    "    concat = layers.Concatenate()([state_out, action_out])\n",
    "\n",
    "    out = layers.Dense(256, activation=\"relu\")(concat)\n",
    "    out = layers.Dense(256, activation=\"relu\")(out)\n",
    "    outputs = layers.Dense(1)(out)\n",
    "\n",
    "    # Outputs single value for give state-action\n",
    "    model = keras.Model([state_input, action_input], outputs)\n",
    "\n",
    "    return model\n"
   ],
   "outputs": [],
   "execution_count": 15
  },
  {
   "cell_type": "markdown",
   "metadata": {
    "id": "eOvnD49fVeg7"
   },
   "source": [
    "`policy()` returns an action sampled from our Actor network plus some noise for\n",
    "exploration."
   ]
  },
  {
   "cell_type": "code",
   "metadata": {
    "id": "uLXvIWzwVeg7",
    "ExecuteTime": {
     "end_time": "2024-05-23T11:28:41.728300Z",
     "start_time": "2024-05-23T11:28:41.714494Z"
    }
   },
   "source": [
    "\n",
    "def policy(state, noise_object):\n",
    "    sampled_actions = keras.ops.squeeze(actor_model(state))\n",
    "    noise = noise_object()\n",
    "    # Adding noise to action\n",
    "    sampled_actions = sampled_actions.numpy() + noise\n",
    "\n",
    "    # We make sure action is within bounds\n",
    "    legal_action = np.clip(sampled_actions, lower_bound, upper_bound)\n",
    "\n",
    "    return [np.squeeze(legal_action)]\n"
   ],
   "outputs": [],
   "execution_count": 16
  },
  {
   "cell_type": "markdown",
   "metadata": {
    "id": "xU-tEOZMVeg8"
   },
   "source": [
    "## Training hyperparameters"
   ]
  },
  {
   "cell_type": "code",
   "metadata": {
    "id": "INpcS7coVeg8",
    "ExecuteTime": {
     "end_time": "2024-05-23T11:28:42.183851Z",
     "start_time": "2024-05-23T11:28:41.752339Z"
    }
   },
   "source": [
    "std_dev = 0.2\n",
    "ou_noise = OUActionNoise(mean=np.zeros(1), std_deviation=float(std_dev) * np.ones(1))\n",
    "\n",
    "actor_model = get_actor()\n",
    "critic_model = get_critic()\n",
    "\n",
    "target_actor = get_actor()\n",
    "target_critic = get_critic()\n",
    "\n",
    "# Making the weights equal initially\n",
    "target_actor.set_weights(actor_model.get_weights())\n",
    "target_critic.set_weights(critic_model.get_weights())\n",
    "\n",
    "# Learning rate for actor-critic models\n",
    "critic_lr = 0.0002\n",
    "actor_lr = 0.0001\n",
    "\n",
    "critic_optimizer = keras.optimizers.Adam(critic_lr)\n",
    "actor_optimizer = keras.optimizers.Adam(actor_lr)\n",
    "\n",
    "total_episodes = 250\n",
    "# Discount factor for future rewards\n",
    "gamma = 0.99\n",
    "# Used to update target networks\n",
    "tau = 0.005\n",
    "\n",
    "buffer = Buffer(50000, 256)"
   ],
   "outputs": [],
   "execution_count": 17
  },
  {
   "cell_type": "code",
   "source": [
    "# load and test pretrained model\n",
    "actor_model.load_weights(\"Model/MBK_I_actor.weights.h5\")\n",
    "critic_model.load_weights(\"Model/MBK_I_critic.weights.h5\")\n",
    "\n",
    "target_actor.load_weights(\"Model/MBK_I_target_actor.weights.h5\")\n",
    "target_critic.load_weights(\"Model/MBK_I_target_critic.weights.h5\")"
   ],
   "metadata": {
    "id": "WawzXPWrVq6h",
    "ExecuteTime": {
     "end_time": "2024-05-23T11:28:42.361893Z",
     "start_time": "2024-05-23T11:28:42.198394Z"
    }
   },
   "outputs": [],
   "execution_count": 18
  },
  {
   "cell_type": "code",
   "source": [
    "import logging\n",
    "logging.getLogger('matplotlib.font_manager').setLevel(level=logging.CRITICAL)"
   ],
   "metadata": {
    "id": "5rSDTdNfZi08",
    "ExecuteTime": {
     "end_time": "2024-05-23T11:28:42.368385Z",
     "start_time": "2024-05-23T11:28:42.363482Z"
    }
   },
   "outputs": [],
   "execution_count": 19
  },
  {
   "cell_type": "code",
   "source": [
    "# test pretrained model\n",
    "## run simulation\n",
    "ou_noise = OUActionNoise(mean=np.zeros(1)*0, std_deviation=float(std_dev*0) * np.ones(1))\n",
    "prev_state, _ = env.reset()\n",
    "# train for disturbance\n",
    "env.disturbance = True\n",
    "episodic_reward = 0\n",
    "state_array = []\n",
    "action_array = []\n",
    "while True:\n",
    "    # env.render()\n",
    "    tf_prev_state = keras.ops.expand_dims(\n",
    "            keras.ops.convert_to_tensor(prev_state), 0\n",
    "        )\n",
    "    action = policy(tf_prev_state, ou_noise)\n",
    "    state, reward, done, _, _ = env.step(action)\n",
    "    state_array.append(state)\n",
    "    action_array.append(action)\n",
    "    if done:\n",
    "        break\n",
    "    prev_state = state\n",
    "# Use XKCD style for hand-drawn look\n",
    "with plt.xkcd():\n",
    "    plt.plot(np.linspace(0, 15, num=len(state_array)),state_array)\n",
    "    plt.xlabel(\"Time (sec)\")\n",
    "    plt.ylabel(\"State\")\n",
    "    plt.legend([\"position\", \"velocity\", \"integral error\"])\n",
    "    plt.show()\n",
    "\n",
    "# Use XKCD style for hand-drawn look\n",
    "with plt.xkcd():\n",
    "    plt.plot(np.linspace(0, 15, num=len(state_array)), action_array)\n",
    "    plt.xlabel(\"Time (sec)\")\n",
    "    plt.ylabel(\"action (N)\")\n",
    "    plt.show()"
   ],
   "metadata": {
    "colab": {
     "base_uri": "https://localhost:8080/",
     "height": 897
    },
    "id": "ZQvtaKv_XZpe",
    "outputId": "a1b3f650-a91b-4fbe-e24f-919c785f3306",
    "ExecuteTime": {
     "end_time": "2024-05-23T11:28:54.866379Z",
     "start_time": "2024-05-23T11:28:42.371877Z"
    }
   },
   "outputs": [
    {
     "data": {
      "text/plain": [
       "<Figure size 640x480 with 1 Axes>"
      ],
      "image/png": "[encoded data removed]"
     },
     "metadata": {},
     "output_type": "display_data"
    },
    {
     "data": {
      "text/plain": [
       "<Figure size 640x480 with 1 Axes>"
      ],
      "image/png": "[encoded data removed]"
     },
     "metadata": {},
     "output_type": "display_data"
    }
   ],
   "execution_count": 20
  },
  {
   "cell_type": "markdown",
   "metadata": {
    "id": "Xtv0PDaWVeg8"
   },
   "source": [
    "Now we implement our main training loop, and iterate over episodes.\n",
    "We sample actions using `policy()` and train with `learn()` at each time step,\n",
    "along with updating the Target networks at a rate `tau`."
   ]
  },
  {
   "cell_type": "markdown",
   "metadata": {
    "id": "B8BG89V4Veg9"
   },
   "source": [
    "If training proceeds correctly, the average episodic reward will increase with time.\n",
    "\n",
    "Feel free to try different learning rates, `tau` values, and architectures for the\n",
    "Actor and Critic networks.\n",
    "\n",
    "The Inverted Pendulum problem has low complexity, but DDPG work great on many other\n",
    "problems.\n",
    "\n",
    "Another great environment to try this on is `LunarLander-v2` continuous, but it will take\n",
    "more episodes to obtain good results."
   ]
  },
  {
   "cell_type": "code",
   "metadata": {
    "id": "eiIhNxPJVeg9",
    "colab": {
     "base_uri": "https://localhost:8080/"
    },
    "outputId": "11e4c21f-1279-432e-9c44-adeca87a845b",
    "ExecuteTime": {
     "end_time": "2024-05-23T11:28:54.876670Z",
     "start_time": "2024-05-23T11:28:54.871037Z"
    }
   },
   "source": [
    "# Save the weights\n",
    "# actor_model.save_weights(\"Model/MBK_I_disturbance_actor.weights.h5\")\n",
    "# critic_model.save_weights(\"Model/MBK_I_disturbance_critic.weights.h5\")\n",
    "\n",
    "# target_actor.save_weights(\"Model/MBK_I_disturbance_target_actor.weights.h5\")\n",
    "# target_critic.save_weights(\"Model/MBK_I_disturbance_target_critic.weights.h5\")"
   ],
   "outputs": [],
   "execution_count": 21
  },
  {
   "cell_type": "code",
   "metadata": {
    "id": "NrgmKO_F4qK4",
    "ExecuteTime": {
     "end_time": "2024-05-23T11:28:54.901735Z",
     "start_time": "2024-05-23T11:28:54.890593Z"
    }
   },
   "source": [
    "# added disturbance"
   ],
   "outputs": [],
   "execution_count": 22
  }
 ],
 "metadata": {
  "colab": {
   "provenance": []
  },
  "kernelspec": {
   "display_name": "Python 3 (ipykernel)",
   "name": "python3",
   "language": "python"
  },
  "language_info": {
   "codemirror_mode": {
    "name": "ipython",
    "version": 3
   },
   "file_extension": ".py",
   "mimetype": "text/x-python",
   "name": "python",
   "nbconvert_exporter": "python",
   "pygments_lexer": "ipython3",
   "version": "3.7.0"
  }
 },
 "nbformat": 4,
 "nbformat_minor": 0
}
