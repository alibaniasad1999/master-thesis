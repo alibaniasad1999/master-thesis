{
 "cells": [
  {
   "cell_type": "markdown",
   "metadata": {
    "id": "uk-Ldpr6Vegv"
   },
   "source": [
    "# Deep Deterministic Policy Gradient (DDPG)\n",
    "\n",
    "**Author:** [amifunny](https://github.com/amifunny)<br>\n",
    "**Date created:** 2020/06/04<br>\n",
    "**Last modified:** 2024/03/23<br>\n",
    "**Description:** Implementing DDPG algorithm on the Inverted Pendulum Problem."
   ]
  },
  {
   "cell_type": "markdown",
   "metadata": {
    "id": "S6-DzLgvVeg1"
   },
   "source": [
    "## Introduction\n",
    "\n",
    "**Deep Deterministic Policy Gradient (DDPG)** is a model-free off-policy algorithm for\n",
    "learning continuous actions.\n",
    "\n",
    "It combines ideas from DPG (Deterministic Policy Gradient) and DQN (Deep Q-Network).\n",
    "It uses Experience Replay and slow-learning target networks from DQN, and it is based on\n",
    "DPG, which can operate over continuous action spaces.\n",
    "\n",
    "This tutorial closely follow this paper -\n",
    "[Continuous control with deep reinforcement learning](https://arxiv.org/abs/1509.02971)\n",
    "\n",
    "## Problem\n",
    "\n",
    "We are trying to solve the classic **Inverted Pendulum** control problem.\n",
    "In this setting, we can take only two actions: swing left or swing right.\n",
    "\n",
    "What make this problem challenging for Q-Learning Algorithms is that actions\n",
    "are **continuous** instead of being **discrete**. That is, instead of using two\n",
    "discrete actions like `-1` or `+1`, we have to select from infinite actions\n",
    "ranging from `-2` to `+2`.\n",
    "\n",
    "## Quick theory\n",
    "\n",
    "Just like the Actor-Critic method, we have two networks:\n",
    "\n",
    "1. Actor - It proposes an action given a state.\n",
    "2. Critic - It predicts if the action is good (positive value) or bad (negative value)\n",
    "given a state and an action.\n",
    "\n",
    "DDPG uses two more techniques not present in the original DQN:\n",
    "\n",
    "**First, it uses two Target networks.**\n",
    "\n",
    "**Why?** Because it add stability to training. In short, we are learning from estimated\n",
    "targets and Target networks are updated slowly, hence keeping our estimated targets\n",
    "stable.\n",
    "\n",
    "Conceptually, this is like saying, \"I have an idea of how to play this well,\n",
    "I'm going to try it out for a bit until I find something better\",\n",
    "as opposed to saying \"I'm going to re-learn how to play this entire game after every\n",
    "move\".\n",
    "See this [StackOverflow answer](https://stackoverflow.com/a/54238556/13475679).\n",
    "\n",
    "**Second, it uses Experience Replay.**\n",
    "\n",
    "We store list of tuples `(state, action, reward, next_state)`, and instead of\n",
    "learning only from recent experience, we learn from sampling all of our experience\n",
    "accumulated so far.\n",
    "\n",
    "Now, let's see how is it implemented."
   ]
  },
  {
   "cell_type": "code",
   "execution_count": 14,
   "metadata": {
    "colab": {
     "base_uri": "https://localhost:8080/"
    },
    "id": "wAUt-eKqVg1Z",
    "outputId": "5ba1543a-5848-4750-ff09-96293abbc624"
   },
   "outputs": [
    {
     "output_type": "stream",
     "name": "stdout",
     "text": [
      "Requirement already satisfied: gymnasium in /usr/local/lib/python3.10/dist-packages (0.29.1)\n",
      "Requirement already satisfied: numpy>=1.21.0 in /usr/local/lib/python3.10/dist-packages (from gymnasium) (1.25.2)\n",
      "Requirement already satisfied: cloudpickle>=1.2.0 in /usr/local/lib/python3.10/dist-packages (from gymnasium) (2.2.1)\n",
      "Requirement already satisfied: typing-extensions>=4.3.0 in /usr/local/lib/python3.10/dist-packages (from gymnasium) (4.11.0)\n",
      "Requirement already satisfied: farama-notifications>=0.0.1 in /usr/local/lib/python3.10/dist-packages (from gymnasium) (0.0.4)\n",
      "Requirement already satisfied: keras in /usr/local/lib/python3.10/dist-packages (3.3.3)\n",
      "Requirement already satisfied: absl-py in /usr/local/lib/python3.10/dist-packages (from keras) (1.4.0)\n",
      "Requirement already satisfied: numpy in /usr/local/lib/python3.10/dist-packages (from keras) (1.25.2)\n",
      "Requirement already satisfied: rich in /usr/local/lib/python3.10/dist-packages (from keras) (13.7.1)\n",
      "Requirement already satisfied: namex in /usr/local/lib/python3.10/dist-packages (from keras) (0.0.8)\n",
      "Requirement already satisfied: h5py in /usr/local/lib/python3.10/dist-packages (from keras) (3.9.0)\n",
      "Requirement already satisfied: optree in /usr/local/lib/python3.10/dist-packages (from keras) (0.11.0)\n",
      "Requirement already satisfied: ml-dtypes in /usr/local/lib/python3.10/dist-packages (from keras) (0.2.0)\n",
      "Requirement already satisfied: typing-extensions>=4.0.0 in /usr/local/lib/python3.10/dist-packages (from optree->keras) (4.11.0)\n",
      "Requirement already satisfied: markdown-it-py>=2.2.0 in /usr/local/lib/python3.10/dist-packages (from rich->keras) (3.0.0)\n",
      "Requirement already satisfied: pygments<3.0.0,>=2.13.0 in /usr/local/lib/python3.10/dist-packages (from rich->keras) (2.16.1)\n",
      "Requirement already satisfied: mdurl~=0.1 in /usr/local/lib/python3.10/dist-packages (from markdown-it-py>=2.2.0->rich->keras) (0.1.2)\n"
     ]
    }
   ],
   "source": [
    "!pip install gymnasium\n",
    "!pip install --upgrade keras"
   ]
  },
  {
   "cell_type": "code",
   "execution_count": 15,
   "metadata": {
    "colab": {
     "base_uri": "https://localhost:8080/"
    },
    "id": "xGRWGFGjVosL",
    "outputId": "97363b43-1a4b-4516-be78-113e333b5130"
   },
   "outputs": [
    {
     "output_type": "stream",
     "name": "stdout",
     "text": [
      "3.3.3\n"
     ]
    }
   ],
   "source": [
    "import keras\n",
    "print(keras.__version__)"
   ]
  },
  {
   "cell_type": "code",
   "execution_count": 16,
   "metadata": {
    "id": "o77vweObVeg2"
   },
   "outputs": [],
   "source": [
    "import os\n",
    "\n",
    "os.environ[\"KERAS_BACKEND\"] = \"tensorflow\"\n",
    "\n",
    "import keras\n",
    "from keras import layers\n",
    "\n",
    "import tensorflow as tf\n",
    "import gymnasium as gym\n",
    "import numpy as np\n",
    "import matplotlib.pyplot as plt"
   ]
  },
  {
   "cell_type": "code",
   "execution_count": 17,
   "metadata": {
    "id": "5A0723lsYkQz"
   },
   "outputs": [],
   "source": [
    "from os import path\n",
    "from typing import Optional\n",
    "\n",
    "import numpy as np\n",
    "\n",
    "import gym\n",
    "from gym import spaces\n",
    "from gym.envs.classic_control import utils\n",
    "from gym.error import DependencyNotInstalled\n",
    "\n",
    "DEFAULT_X = np.pi\n",
    "DEFAULT_Y = 1.0\n",
    "\n",
    "\n",
    "class MassSpringDamperEnv(gym.Env):\n",
    "\n",
    "    def __init__(self):\n",
    "        super(MassSpringDamperEnv, self).__init__()\n",
    "\n",
    "        # System parameters\n",
    "        self.m = 1.0  # Mass (kg)\n",
    "        self.k = 1.0  # Spring constant (N/m)\n",
    "        self.c = 0.1  # Damping coefficient (N*s/m)\n",
    "\n",
    "        # Simulation parameters\n",
    "        self.dt = 0.01  # Time step (s)\n",
    "        self.max_steps = 1000  # Maximum simulation steps\n",
    "        self.current_step = 0\n",
    "\n",
    "        # State and action spaces\n",
    "        self.action_space = gym.spaces.Box(low=-20.0, high=20.0, shape=(1,))\n",
    "        self.observation_space = gym.spaces.Box(low=-10, high=10, shape=(2,))\n",
    "\n",
    "    def step(self, u):\n",
    "        # Apply control action and simulate one time step using Euler integration\n",
    "        force = action[0]\n",
    "        position, velocity = self.state\n",
    "\n",
    "        acceleration = (force - self.c * velocity - self.k * position) / self.m\n",
    "        velocity += acceleration * self.dt\n",
    "        position += velocity * self.dt\n",
    "\n",
    "        self.state = np.array([position, velocity])\n",
    "\n",
    "\n",
    "        costs = position ** 2 + 0.1 * velocity**2 + 0.001 * (force**2)\n",
    "\n",
    "        self.step_num += 1\n",
    "        if self.step_num > 1000:\n",
    "            self.done = True\n",
    "\n",
    "\n",
    "        return self._get_obs(), -costs, self.done, False, {}\n",
    "\n",
    "    def reset(self, *, seed: Optional[int] = None, options: Optional[dict] = None):\n",
    "        super().reset(seed=seed)\n",
    "        self.state = np.random.uniform(low=-10, high=10, size=(2,))\n",
    "        self.current_step = 0\n",
    "        self.last_u = None\n",
    "        self.done = False\n",
    "        self.step_num = 0\n",
    "\n",
    "\n",
    "        return self._get_obs(), {}\n",
    "\n",
    "    def _get_obs(self):\n",
    "        position, velocity = self.state\n",
    "        return np.array([position, velocity], dtype=np.float32)"
   ]
  },
  {
   "cell_type": "markdown",
   "metadata": {
    "id": "Rmhlmz0FVeg4"
   },
   "source": [
    "We use [Gymnasium](https://gymnasium.farama.org/) to create the environment.\n",
    "We will use the `upper_bound` parameter to scale our actions later."
   ]
  },
  {
   "cell_type": "code",
   "execution_count": 18,
   "metadata": {
    "colab": {
     "base_uri": "https://localhost:8080/"
    },
    "id": "2UVbXU19Veg4",
    "outputId": "2ee48832-2e6a-45cb-c930-ec4ebcc97ad5"
   },
   "outputs": [
    {
     "output_type": "stream",
     "name": "stdout",
     "text": [
      "Size of State Space ->  2\n",
      "Size of Action Space ->  1\n",
      "Max Value of Action ->  20.0\n",
      "Min Value of Action ->  -20.0\n"
     ]
    }
   ],
   "source": [
    "# Specify the `render_mode` parameter to show the attempts of the agent in a pop up window.\n",
    "# env = gym.make(\"Pendulum-v1\", render_mode=\"human\")\n",
    "env = MassSpringDamperEnv()\n",
    "\n",
    "num_states = env.observation_space.shape[0]\n",
    "print(\"Size of State Space ->  {}\".format(num_states))\n",
    "num_actions = env.action_space.shape[0]\n",
    "print(\"Size of Action Space ->  {}\".format(num_actions))\n",
    "\n",
    "upper_bound = env.action_space.high[0]\n",
    "lower_bound = env.action_space.low[0]\n",
    "\n",
    "print(\"Max Value of Action ->  {}\".format(upper_bound))\n",
    "print(\"Min Value of Action ->  {}\".format(lower_bound))"
   ]
  },
  {
   "cell_type": "markdown",
   "metadata": {
    "id": "Mh6BvVH3Veg5"
   },
   "source": [
    "To implement better exploration by the Actor network, we use noisy perturbations,\n",
    "specifically\n",
    "an **Ornstein-Uhlenbeck process** for generating noise, as described in the paper.\n",
    "It samples noise from a correlated normal distribution."
   ]
  },
  {
   "cell_type": "code",
   "execution_count": 19,
   "metadata": {
    "id": "CkZvKPwdVeg5"
   },
   "outputs": [],
   "source": [
    "\n",
    "class OUActionNoise:\n",
    "    def __init__(self, mean, std_deviation, theta=0.15, dt=1e-2, x_initial=None):\n",
    "        self.theta = theta\n",
    "        self.mean = mean\n",
    "        self.std_dev = std_deviation\n",
    "        self.dt = dt\n",
    "        self.x_initial = x_initial\n",
    "        self.reset()\n",
    "\n",
    "    def __call__(self):\n",
    "        # Formula taken from https://www.wikipedia.org/wiki/Ornstein-Uhlenbeck_process\n",
    "        x = (\n",
    "            self.x_prev\n",
    "            + self.theta * (self.mean - self.x_prev) * self.dt\n",
    "            + self.std_dev * np.sqrt(self.dt) * np.random.normal(size=self.mean.shape)\n",
    "        )\n",
    "        # Store x into x_prev\n",
    "        # Makes next noise dependent on current one\n",
    "        self.x_prev = x\n",
    "        return x\n",
    "\n",
    "    def reset(self):\n",
    "        if self.x_initial is not None:\n",
    "            self.x_prev = self.x_initial\n",
    "        else:\n",
    "            self.x_prev = np.zeros_like(self.mean)\n"
   ]
  },
  {
   "cell_type": "markdown",
   "metadata": {
    "id": "UHtK9c9xVeg5"
   },
   "source": [
    "The `Buffer` class implements Experience Replay.\n",
    "\n",
    "---\n",
    "![Algorithm](https://i.imgur.com/mS6iGyJ.jpg)\n",
    "---\n",
    "\n",
    "\n",
    "**Critic loss** - Mean Squared Error of `y - Q(s, a)`\n",
    "where `y` is the expected return as seen by the Target network,\n",
    "and `Q(s, a)` is action value predicted by the Critic network. `y` is a moving target\n",
    "that the critic model tries to achieve; we make this target\n",
    "stable by updating the Target model slowly.\n",
    "\n",
    "**Actor loss** - This is computed using the mean of the value given by the Critic network\n",
    "for the actions taken by the Actor network. We seek to maximize this quantity.\n",
    "\n",
    "Hence we update the Actor network so that it produces actions that get\n",
    "the maximum predicted value as seen by the Critic, for a given state."
   ]
  },
  {
   "cell_type": "code",
   "execution_count": 20,
   "metadata": {
    "id": "BikiTjZ7Veg6"
   },
   "outputs": [],
   "source": [
    "\n",
    "class Buffer:\n",
    "    def __init__(self, buffer_capacity=100000, batch_size=64):\n",
    "        # Number of \"experiences\" to store at max\n",
    "        self.buffer_capacity = buffer_capacity\n",
    "        # Num of tuples to train on.\n",
    "        self.batch_size = batch_size\n",
    "\n",
    "        # Its tells us num of times record() was called.\n",
    "        self.buffer_counter = 0\n",
    "\n",
    "        # Instead of list of tuples as the exp.replay concept go\n",
    "        # We use different np.arrays for each tuple element\n",
    "        self.state_buffer = np.zeros((self.buffer_capacity, num_states))\n",
    "        self.action_buffer = np.zeros((self.buffer_capacity, num_actions))\n",
    "        self.reward_buffer = np.zeros((self.buffer_capacity, 1))\n",
    "        self.next_state_buffer = np.zeros((self.buffer_capacity, num_states))\n",
    "\n",
    "    # Takes (s,a,r,s') observation tuple as input\n",
    "    def record(self, obs_tuple):\n",
    "        # Set index to zero if buffer_capacity is exceeded,\n",
    "        # replacing old records\n",
    "        index = self.buffer_counter % self.buffer_capacity\n",
    "\n",
    "        self.state_buffer[index] = obs_tuple[0]\n",
    "        self.action_buffer[index] = obs_tuple[1]\n",
    "        self.reward_buffer[index] = obs_tuple[2]\n",
    "        self.next_state_buffer[index] = obs_tuple[3]\n",
    "\n",
    "        self.buffer_counter += 1\n",
    "\n",
    "    # Eager execution is turned on by default in TensorFlow 2. Decorating with tf.function allows\n",
    "    # TensorFlow to build a static graph out of the logic and computations in our function.\n",
    "    # This provides a large speed up for blocks of code that contain many small TensorFlow operations such as this one.\n",
    "    @tf.function\n",
    "    def update(\n",
    "        self,\n",
    "        state_batch,\n",
    "        action_batch,\n",
    "        reward_batch,\n",
    "        next_state_batch,\n",
    "    ):\n",
    "        # Training and updating Actor & Critic networks.\n",
    "        # See Pseudo Code.\n",
    "        with tf.GradientTape() as tape:\n",
    "            target_actions = target_actor(next_state_batch, training=True)\n",
    "            y = reward_batch + gamma * target_critic(\n",
    "                [next_state_batch, target_actions], training=True\n",
    "            )\n",
    "            critic_value = critic_model([state_batch, action_batch], training=True)\n",
    "            critic_loss = keras.ops.mean(keras.ops.square(y - critic_value))\n",
    "\n",
    "        critic_grad = tape.gradient(critic_loss, critic_model.trainable_variables)\n",
    "        critic_optimizer.apply_gradients(\n",
    "            zip(critic_grad, critic_model.trainable_variables)\n",
    "        )\n",
    "\n",
    "        with tf.GradientTape() as tape:\n",
    "            actions = actor_model(state_batch, training=True)\n",
    "            critic_value = critic_model([state_batch, actions], training=True)\n",
    "            # Used `-value` as we want to maximize the value given\n",
    "            # by the critic for our actions\n",
    "            actor_loss = -keras.ops.mean(critic_value)\n",
    "\n",
    "        actor_grad = tape.gradient(actor_loss, actor_model.trainable_variables)\n",
    "        actor_optimizer.apply_gradients(\n",
    "            zip(actor_grad, actor_model.trainable_variables)\n",
    "        )\n",
    "\n",
    "    # We compute the loss and update parameters\n",
    "    def learn(self):\n",
    "        # Get sampling range\n",
    "        record_range = min(self.buffer_counter, self.buffer_capacity)\n",
    "        # Randomly sample indices\n",
    "        batch_indices = np.random.choice(record_range, self.batch_size)\n",
    "\n",
    "        # Convert to tensors\n",
    "        state_batch = keras.ops.convert_to_tensor(self.state_buffer[batch_indices])\n",
    "        action_batch = keras.ops.convert_to_tensor(self.action_buffer[batch_indices])\n",
    "        reward_batch = keras.ops.convert_to_tensor(self.reward_buffer[batch_indices])\n",
    "        reward_batch = keras.ops.cast(reward_batch, dtype=\"float32\")\n",
    "        next_state_batch = keras.ops.convert_to_tensor(\n",
    "            self.next_state_buffer[batch_indices]\n",
    "        )\n",
    "\n",
    "        self.update(state_batch, action_batch, reward_batch, next_state_batch)\n",
    "\n",
    "\n",
    "# This update target parameters slowly\n",
    "# Based on rate `tau`, which is much less than one.\n",
    "def update_target(target, original, tau):\n",
    "    target_weights = target.get_weights()\n",
    "    original_weights = original.get_weights()\n",
    "\n",
    "    for i in range(len(target_weights)):\n",
    "        target_weights[i] = original_weights[i] * tau + target_weights[i] * (1 - tau)\n",
    "\n",
    "    target.set_weights(target_weights)\n"
   ]
  },
  {
   "cell_type": "markdown",
   "metadata": {
    "id": "TMsQNSawVeg6"
   },
   "source": [
    "Here we define the Actor and Critic networks. These are basic Dense models\n",
    "with `ReLU` activation.\n",
    "\n",
    "Note: We need the initialization for last layer of the Actor to be between\n",
    "`-0.003` and `0.003` as this prevents us from getting `1` or `-1` output values in\n",
    "the initial stages, which would squash our gradients to zero,\n",
    "as we use the `tanh` activation."
   ]
  },
  {
   "cell_type": "code",
   "execution_count": 21,
   "metadata": {
    "id": "5qJ2y3HwVeg7"
   },
   "outputs": [],
   "source": [
    "\n",
    "def get_actor():\n",
    "    # Initialize weights between -3e-3 and 3-e3\n",
    "    last_init = keras.initializers.RandomUniform(minval=-0.003, maxval=0.003)\n",
    "\n",
    "    inputs = layers.Input(shape=(num_states,))\n",
    "    out = layers.Dense(256, activation=\"relu\")(inputs)\n",
    "    out = layers.Dense(256, activation=\"relu\")(out)\n",
    "    outputs = layers.Dense(1, activation=\"tanh\", kernel_initializer=last_init)(out)\n",
    "\n",
    "    # Our upper bound is 2.0 for Pendulum.\n",
    "    outputs = outputs * upper_bound\n",
    "    model = keras.Model(inputs, outputs)\n",
    "    return model\n",
    "\n",
    "\n",
    "def get_critic():\n",
    "    # State as input\n",
    "    state_input = layers.Input(shape=(num_states,))\n",
    "    state_out = layers.Dense(16, activation=\"relu\")(state_input)\n",
    "    state_out = layers.Dense(32, activation=\"relu\")(state_out)\n",
    "\n",
    "    # Action as input\n",
    "    action_input = layers.Input(shape=(num_actions,))\n",
    "    action_out = layers.Dense(32, activation=\"relu\")(action_input)\n",
    "\n",
    "    # Both are passed through separate layer before concatenating\n",
    "    concat = layers.Concatenate()([state_out, action_out])\n",
    "\n",
    "    out = layers.Dense(256, activation=\"relu\")(concat)\n",
    "    out = layers.Dense(256, activation=\"relu\")(out)\n",
    "    outputs = layers.Dense(1)(out)\n",
    "\n",
    "    # Outputs single value for give state-action\n",
    "    model = keras.Model([state_input, action_input], outputs)\n",
    "\n",
    "    return model\n"
   ]
  },
  {
   "cell_type": "markdown",
   "metadata": {
    "id": "eOvnD49fVeg7"
   },
   "source": [
    "`policy()` returns an action sampled from our Actor network plus some noise for\n",
    "exploration."
   ]
  },
  {
   "cell_type": "code",
   "execution_count": 22,
   "metadata": {
    "id": "uLXvIWzwVeg7"
   },
   "outputs": [],
   "source": [
    "\n",
    "def policy(state, noise_object):\n",
    "    sampled_actions = keras.ops.squeeze(actor_model(state))\n",
    "    noise = noise_object()\n",
    "    # Adding noise to action\n",
    "    sampled_actions = sampled_actions.numpy() + noise\n",
    "\n",
    "    # We make sure action is within bounds\n",
    "    legal_action = np.clip(sampled_actions, lower_bound, upper_bound)\n",
    "\n",
    "    return [np.squeeze(legal_action)]\n"
   ]
  },
  {
   "cell_type": "markdown",
   "metadata": {
    "id": "xU-tEOZMVeg8"
   },
   "source": [
    "## Training hyperparameters"
   ]
  },
  {
   "cell_type": "code",
   "execution_count": 23,
   "metadata": {
    "id": "INpcS7coVeg8"
   },
   "outputs": [],
   "source": [
    "std_dev = 0.2\n",
    "ou_noise = OUActionNoise(mean=np.zeros(1), std_deviation=float(std_dev) * np.ones(1))\n",
    "\n",
    "actor_model = get_actor()\n",
    "critic_model = get_critic()\n",
    "\n",
    "target_actor = get_actor()\n",
    "target_critic = get_critic()\n",
    "\n",
    "# Making the weights equal initially\n",
    "target_actor.set_weights(actor_model.get_weights())\n",
    "target_critic.set_weights(critic_model.get_weights())\n",
    "\n",
    "# Learning rate for actor-critic models\n",
    "critic_lr = 0.0002\n",
    "actor_lr = 0.0001\n",
    "\n",
    "critic_optimizer = keras.optimizers.Adam(critic_lr)\n",
    "actor_optimizer = keras.optimizers.Adam(actor_lr)\n",
    "\n",
    "total_episodes = 200\n",
    "# Discount factor for future rewards\n",
    "gamma = 0.99\n",
    "# Used to update target networks\n",
    "tau = 0.005\n",
    "\n",
    "buffer = Buffer(50000, 512)"
   ]
  },
  {
   "cell_type": "markdown",
   "metadata": {
    "id": "Xtv0PDaWVeg8"
   },
   "source": [
    "Now we implement our main training loop, and iterate over episodes.\n",
    "We sample actions using `policy()` and train with `learn()` at each time step,\n",
    "along with updating the Target networks at a rate `tau`."
   ]
  },
  {
   "cell_type": "code",
   "execution_count": 24,
   "metadata": {
    "colab": {
     "base_uri": "https://localhost:8080/",
     "height": 1000
    },
    "id": "djjffqvjVeg9",
    "outputId": "91e923a1-6f16-42c7-b7d4-42592f5673ba"
   },
   "outputs": [
    {
     "output_type": "stream",
     "name": "stdout",
     "text": [
      "Episode * 0 * Avg Reward is ==> -183954.4783524028\n",
      "Episode * 1 * Avg Reward is ==> -172853.48644669566\n",
      "Episode * 2 * Avg Reward is ==> -152911.1265909944\n",
      "Episode * 3 * Avg Reward is ==> -147028.91791439167\n",
      "Episode * 4 * Avg Reward is ==> -133133.302200302\n",
      "Episode * 5 * Avg Reward is ==> -118808.89904664528\n",
      "Episode * 6 * Avg Reward is ==> -108084.04975571574\n",
      "Episode * 7 * Avg Reward is ==> -103247.57082029239\n",
      "Episode * 8 * Avg Reward is ==> -93103.21233268555\n",
      "Episode * 9 * Avg Reward is ==> -85735.67566791567\n",
      "Episode * 10 * Avg Reward is ==> -80741.72153659521\n",
      "Episode * 11 * Avg Reward is ==> -74900.09156051176\n",
      "Episode * 12 * Avg Reward is ==> -70053.57982537389\n",
      "Episode * 13 * Avg Reward is ==> -68933.75044532794\n",
      "Episode * 14 * Avg Reward is ==> -65544.8002288748\n",
      "Episode * 15 * Avg Reward is ==> -62042.78895486017\n",
      "Episode * 16 * Avg Reward is ==> -59765.59927116343\n",
      "Episode * 17 * Avg Reward is ==> -58102.25878224885\n",
      "Episode * 18 * Avg Reward is ==> -55631.481836617924\n",
      "Episode * 19 * Avg Reward is ==> -55485.608522721996\n",
      "Episode * 20 * Avg Reward is ==> -53347.45937021379\n",
      "Episode * 21 * Avg Reward is ==> -51338.7371831718\n",
      "Episode * 22 * Avg Reward is ==> -50040.56373605598\n",
      "Episode * 23 * Avg Reward is ==> -49330.126834323026\n",
      "Episode * 24 * Avg Reward is ==> -47740.23961324362\n",
      "Episode * 25 * Avg Reward is ==> -46597.69071688444\n",
      "Episode * 26 * Avg Reward is ==> -46066.14164694833\n",
      "Episode * 27 * Avg Reward is ==> -44895.05589848332\n",
      "Episode * 28 * Avg Reward is ==> -44055.54322038459\n",
      "Episode * 29 * Avg Reward is ==> -43223.27804971568\n",
      "Episode * 30 * Avg Reward is ==> -42779.75948575065\n",
      "Episode * 31 * Avg Reward is ==> -42038.395635667235\n",
      "Episode * 32 * Avg Reward is ==> -40968.512500909186\n",
      "Episode * 33 * Avg Reward is ==> -40039.2674311548\n",
      "Episode * 34 * Avg Reward is ==> -39562.678452368134\n",
      "Episode * 35 * Avg Reward is ==> -38672.676120695745\n",
      "Episode * 36 * Avg Reward is ==> -37939.46402201142\n",
      "Episode * 37 * Avg Reward is ==> -37178.11673699961\n",
      "Episode * 38 * Avg Reward is ==> -36368.98753541951\n",
      "Episode * 39 * Avg Reward is ==> -35621.003869641696\n",
      "Episode * 40 * Avg Reward is ==> -31611.52262135852\n",
      "Episode * 41 * Avg Reward is ==> -27766.721928203002\n",
      "Episode * 42 * Avg Reward is ==> -25038.555184267276\n",
      "Episode * 43 * Avg Reward is ==> -21892.061494449506\n",
      "Episode * 44 * Avg Reward is ==> -20051.042299990753\n",
      "Episode * 45 * Avg Reward is ==> -19119.917841369177\n",
      "Episode * 46 * Avg Reward is ==> -18080.472201436125\n",
      "Episode * 47 * Avg Reward is ==> -16640.172846013676\n",
      "Episode * 48 * Avg Reward is ==> -16428.091397129057\n",
      "Episode * 49 * Avg Reward is ==> -16587.461846543392\n",
      "Episode * 50 * Avg Reward is ==> -16055.36148394539\n",
      "Episode * 51 * Avg Reward is ==> -16619.59604189898\n",
      "Episode * 52 * Avg Reward is ==> -16527.65965822047\n",
      "Episode * 53 * Avg Reward is ==> -15662.025385666315\n",
      "Episode * 54 * Avg Reward is ==> -15969.051413788746\n",
      "Episode * 55 * Avg Reward is ==> -16070.32593643121\n",
      "Episode * 56 * Avg Reward is ==> -15665.17837813753\n",
      "Episode * 57 * Avg Reward is ==> -15001.139124423647\n",
      "Episode * 58 * Avg Reward is ==> -14887.311763232472\n",
      "Episode * 59 * Avg Reward is ==> -13679.9994316414\n",
      "Episode * 60 * Avg Reward is ==> -13913.138938358761\n",
      "Episode * 61 * Avg Reward is ==> -13723.87681272396\n",
      "Episode * 62 * Avg Reward is ==> -13481.088813582212\n",
      "Episode * 63 * Avg Reward is ==> -12699.172270117615\n",
      "Episode * 64 * Avg Reward is ==> -12505.04544820554\n",
      "Episode * 65 * Avg Reward is ==> -12582.569972685707\n",
      "Episode * 66 * Avg Reward is ==> -11825.357705544917\n",
      "Episode * 67 * Avg Reward is ==> -11541.148172015177\n",
      "Episode * 68 * Avg Reward is ==> -11269.108052905072\n",
      "Episode * 69 * Avg Reward is ==> -10864.42146746573\n",
      "Episode * 70 * Avg Reward is ==> -10397.780541861972\n",
      "Episode * 71 * Avg Reward is ==> -10554.00655244292\n",
      "Episode * 72 * Avg Reward is ==> -10756.94394481875\n",
      "Episode * 73 * Avg Reward is ==> -10931.527042127253\n",
      "Episode * 74 * Avg Reward is ==> -10803.428318722334\n",
      "Episode * 75 * Avg Reward is ==> -10828.246824677957\n",
      "Episode * 76 * Avg Reward is ==> -10843.593977247909\n",
      "Episode * 77 * Avg Reward is ==> -10887.03354673785\n",
      "Episode * 78 * Avg Reward is ==> -10912.562744037825\n",
      "Episode * 79 * Avg Reward is ==> -11024.072086460741\n",
      "Episode * 80 * Avg Reward is ==> -10558.658842072478\n",
      "Episode * 81 * Avg Reward is ==> -10541.907933065146\n",
      "Episode * 82 * Avg Reward is ==> -10740.065106648331\n",
      "Episode * 83 * Avg Reward is ==> -10863.025668159378\n",
      "Episode * 84 * Avg Reward is ==> -11159.857856267394\n",
      "Episode * 85 * Avg Reward is ==> -11321.859757755268\n",
      "Episode * 86 * Avg Reward is ==> -11570.051432556142\n",
      "Episode * 87 * Avg Reward is ==> -11484.007615315893\n",
      "Episode * 88 * Avg Reward is ==> -11646.405183808924\n",
      "Episode * 89 * Avg Reward is ==> -11239.947940183285\n",
      "Episode * 90 * Avg Reward is ==> -11274.12086364027\n",
      "Episode * 91 * Avg Reward is ==> -10691.900622136804\n",
      "Episode * 92 * Avg Reward is ==> -10742.012360333098\n",
      "Episode * 93 * Avg Reward is ==> -10449.66476071744\n",
      "Episode * 94 * Avg Reward is ==> -9907.611217140115\n",
      "Episode * 95 * Avg Reward is ==> -9798.742703984843\n",
      "Episode * 96 * Avg Reward is ==> -9854.42285311711\n",
      "Episode * 97 * Avg Reward is ==> -10101.905916904561\n",
      "Episode * 98 * Avg Reward is ==> -10199.091217586527\n",
      "Episode * 99 * Avg Reward is ==> -10251.341264579392\n",
      "Episode * 100 * Avg Reward is ==> -9851.690772702932\n",
      "Episode * 101 * Avg Reward is ==> -9947.29369526623\n",
      "Episode * 102 * Avg Reward is ==> -9711.036667586372\n",
      "Episode * 103 * Avg Reward is ==> -9790.302402584299\n",
      "Episode * 104 * Avg Reward is ==> -9861.958860239694\n",
      "Episode * 105 * Avg Reward is ==> -9531.278972307136\n",
      "Episode * 106 * Avg Reward is ==> -9517.80810943847\n",
      "Episode * 107 * Avg Reward is ==> -9606.039066804029\n",
      "Episode * 108 * Avg Reward is ==> -9488.233240867608\n",
      "Episode * 109 * Avg Reward is ==> -9596.336135882146\n",
      "Episode * 110 * Avg Reward is ==> -9502.109136612398\n",
      "Episode * 111 * Avg Reward is ==> -9090.784849046962\n",
      "Episode * 112 * Avg Reward is ==> -8809.880711183785\n",
      "Episode * 113 * Avg Reward is ==> -8606.200169328298\n",
      "Episode * 114 * Avg Reward is ==> -8345.004834361971\n",
      "Episode * 115 * Avg Reward is ==> -8241.982274108628\n",
      "Episode * 116 * Avg Reward is ==> -8113.18623752156\n",
      "Episode * 117 * Avg Reward is ==> -7984.633765142312\n",
      "Episode * 118 * Avg Reward is ==> -15003.505435396195\n",
      "Episode * 119 * Avg Reward is ==> -14958.103372843627\n",
      "Episode * 120 * Avg Reward is ==> -15071.400733387127\n",
      "Episode * 121 * Avg Reward is ==> -15037.14493717862\n",
      "Episode * 122 * Avg Reward is ==> -14785.101044662693\n",
      "Episode * 123 * Avg Reward is ==> -14603.14536908802\n",
      "Episode * 124 * Avg Reward is ==> -14314.872190147998\n",
      "Episode * 125 * Avg Reward is ==> -13945.902826687608\n",
      "Episode * 126 * Avg Reward is ==> -13707.40107374767\n",
      "Episode * 127 * Avg Reward is ==> -13891.23752574866\n",
      "Episode * 128 * Avg Reward is ==> -13751.569010661731\n",
      "Episode * 129 * Avg Reward is ==> -13591.480175249739\n",
      "Episode * 130 * Avg Reward is ==> -13650.015359380952\n",
      "Episode * 131 * Avg Reward is ==> -13689.172033647807\n",
      "Episode * 132 * Avg Reward is ==> -13532.78320313966\n",
      "Episode * 133 * Avg Reward is ==> -13597.40780574016\n",
      "Episode * 134 * Avg Reward is ==> -13491.86278573571\n",
      "Episode * 135 * Avg Reward is ==> -13363.298658520536\n",
      "Episode * 136 * Avg Reward is ==> -13172.61073402422\n",
      "Episode * 137 * Avg Reward is ==> -12891.585266740218\n",
      "Episode * 138 * Avg Reward is ==> -12671.680673006082\n",
      "Episode * 139 * Avg Reward is ==> -12711.427497296474\n",
      "Episode * 140 * Avg Reward is ==> -12756.003809317934\n",
      "Episode * 141 * Avg Reward is ==> -13051.434733237753\n",
      "Episode * 142 * Avg Reward is ==> -13026.38862203847\n",
      "Episode * 143 * Avg Reward is ==> -13124.116159215428\n",
      "Episode * 144 * Avg Reward is ==> -13062.169677982276\n",
      "Episode * 145 * Avg Reward is ==> -13017.506364311934\n",
      "Episode * 146 * Avg Reward is ==> -13136.9356957574\n",
      "Episode * 147 * Avg Reward is ==> -13134.192511706313\n",
      "Episode * 148 * Avg Reward is ==> -13233.713161360345\n",
      "Episode * 149 * Avg Reward is ==> -13175.710935658997\n",
      "Episode * 150 * Avg Reward is ==> -13133.751607592701\n",
      "Episode * 151 * Avg Reward is ==> -13079.697746628653\n",
      "Episode * 152 * Avg Reward is ==> -13146.87592568757\n",
      "Episode * 153 * Avg Reward is ==> -13036.11392280997\n",
      "Episode * 154 * Avg Reward is ==> -13104.865947794571\n",
      "Episode * 155 * Avg Reward is ==> -13346.349749212237\n",
      "Episode * 156 * Avg Reward is ==> -13356.119654897926\n",
      "Episode * 157 * Avg Reward is ==> -13232.23101405873\n",
      "Episode * 158 * Avg Reward is ==> -6133.364541923378\n",
      "Episode * 159 * Avg Reward is ==> -6041.338781596516\n",
      "Episode * 160 * Avg Reward is ==> -5927.251384929177\n",
      "Episode * 161 * Avg Reward is ==> -5840.073170623402\n",
      "Episode * 162 * Avg Reward is ==> -6144.203271338071\n",
      "Episode * 163 * Avg Reward is ==> -6136.496932655915\n",
      "Episode * 164 * Avg Reward is ==> -6098.162305280232\n",
      "Episode * 165 * Avg Reward is ==> -6132.142394547156\n",
      "Episode * 166 * Avg Reward is ==> -6092.611877240053\n",
      "Episode * 167 * Avg Reward is ==> -5870.6219505076315\n",
      "Episode * 168 * Avg Reward is ==> -5905.8401813947185\n",
      "Episode * 169 * Avg Reward is ==> -5969.019560805141\n",
      "Episode * 170 * Avg Reward is ==> -5812.9700638406075\n",
      "Episode * 171 * Avg Reward is ==> -5628.470265822713\n",
      "Episode * 172 * Avg Reward is ==> -5715.174968901415\n",
      "Episode * 173 * Avg Reward is ==> -5532.625711911348\n",
      "Episode * 174 * Avg Reward is ==> -5445.448564704731\n",
      "Episode * 175 * Avg Reward is ==> -5506.039290259968\n",
      "Episode * 176 * Avg Reward is ==> -5466.507329316888\n",
      "Episode * 177 * Avg Reward is ==> -5448.638781338226\n",
      "Episode * 178 * Avg Reward is ==> -5483.193731148773\n",
      "Episode * 179 * Avg Reward is ==> -5327.066353056556\n",
      "Episode * 180 * Avg Reward is ==> -5192.469753337619\n",
      "Episode * 181 * Avg Reward is ==> -4773.6803053067415\n",
      "Episode * 182 * Avg Reward is ==> -4743.059680902956\n",
      "Episode * 183 * Avg Reward is ==> -4651.540017869747\n",
      "Episode * 184 * Avg Reward is ==> -4678.356896060793\n",
      "Episode * 185 * Avg Reward is ==> -4585.182877645876\n",
      "Episode * 186 * Avg Reward is ==> -4448.92982697745\n",
      "Episode * 187 * Avg Reward is ==> -4405.568110542916\n",
      "Episode * 188 * Avg Reward is ==> -4283.320900660848\n",
      "Episode * 189 * Avg Reward is ==> -4248.955866466307\n",
      "Episode * 190 * Avg Reward is ==> -4291.778033801788\n",
      "Episode * 191 * Avg Reward is ==> -4292.448856232107\n",
      "Episode * 192 * Avg Reward is ==> -4317.127197229669\n",
      "Episode * 193 * Avg Reward is ==> -4353.787650601005\n",
      "Episode * 194 * Avg Reward is ==> -4241.845905405558\n",
      "Episode * 195 * Avg Reward is ==> -4436.493606059625\n",
      "Episode * 196 * Avg Reward is ==> -4316.6820527142645\n",
      "Episode * 197 * Avg Reward is ==> -4405.2588636657\n",
      "Episode * 198 * Avg Reward is ==> -4406.037519561217\n",
      "Episode * 199 * Avg Reward is ==> -4472.941477091604\n"
     ]
    },
    {
     "output_type": "display_data",
     "data": {
      "text/plain": [
       "<Figure size 640x480 with 1 Axes>"
      ],
      "image/png": "[encoded data removed]"
     },
     "metadata": {}
    }
   ],
   "source": [
    "# To store reward history of each episode\n",
    "ep_reward_list = []\n",
    "# To store average reward history of last few episodes\n",
    "avg_reward_list = []\n",
    "\n",
    "# Takes about 4 min to train\n",
    "for ep in range(total_episodes):\n",
    "    prev_state, _ = env.reset()\n",
    "    episodic_reward = 0\n",
    "\n",
    "    while True:\n",
    "        tf_prev_state = keras.ops.expand_dims(\n",
    "            keras.ops.convert_to_tensor(prev_state), 0\n",
    "        )\n",
    "\n",
    "        action = policy(tf_prev_state, ou_noise)\n",
    "        # Receive state and reward from environment.\n",
    "        state, reward, done, truncated, _ = env.step(action)\n",
    "\n",
    "        buffer.record((prev_state, action, reward, state))\n",
    "        episodic_reward += reward\n",
    "\n",
    "        buffer.learn()\n",
    "\n",
    "        update_target(target_actor, actor_model, tau)\n",
    "        update_target(target_critic, critic_model, tau)\n",
    "\n",
    "        # End this episode when `done` or `truncated` is True\n",
    "        if done or truncated:\n",
    "            break\n",
    "\n",
    "        prev_state = state\n",
    "\n",
    "    ep_reward_list.append(episodic_reward)\n",
    "\n",
    "    # Mean of last 40 episodes\n",
    "    avg_reward = np.mean(ep_reward_list[-40:])\n",
    "    print(\"Episode * {} * Avg Reward is ==> {}\".format(ep, avg_reward))\n",
    "    avg_reward_list.append(avg_reward)\n",
    "\n",
    "# Plotting graph\n",
    "# Episodes versus Avg. Rewards\n",
    "plt.plot(avg_reward_list)\n",
    "plt.xlabel(\"Episode\")\n",
    "plt.ylabel(\"Avg. Episodic Reward\")\n",
    "plt.show()"
   ]
  },
  {
   "cell_type": "markdown",
   "metadata": {
    "id": "B8BG89V4Veg9"
   },
   "source": [
    "If training proceeds correctly, the average episodic reward will increase with time.\n",
    "\n",
    "Feel free to try different learning rates, `tau` values, and architectures for the\n",
    "Actor and Critic networks.\n",
    "\n",
    "The Inverted Pendulum problem has low complexity, but DDPG work great on many other\n",
    "problems.\n",
    "\n",
    "Another great environment to try this on is `LunarLander-v2` continuous, but it will take\n",
    "more episodes to obtain good results."
   ]
  },
  {
   "cell_type": "code",
   "execution_count": 25,
   "metadata": {
    "id": "eiIhNxPJVeg9"
   },
   "outputs": [],
   "source": [
    "# Save the weights\n",
    "actor_model.save_weights(\"MBK_actor.weights.h5\")\n",
    "critic_model.save_weights(\"MBK_critic.weights.h5\")\n",
    "\n",
    "target_actor.save_weights(\"MBK_target_actor.weights.h5\")\n",
    "target_critic.save_weights(\"MBK_target_critic.weights.h5\")"
   ]
  },
  {
   "cell_type": "code",
   "execution_count": 32,
   "metadata": {
    "colab": {
     "base_uri": "https://localhost:8080/",
     "height": 935
    },
    "id": "w8kahqSFanZG",
    "outputId": "127dc230-b1ec-459c-971e-dd814c1ff621"
   },
   "outputs": [
    {
     "output_type": "stream",
     "name": "stderr",
     "text": [
      "/usr/local/lib/python3.10/dist-packages/ipykernel/ipkernel.py:283: DeprecationWarning: `should_run_async` will not call `transform_cell` automatically in the future. Please pass the result to `transformed_cell` argument and any exception that happen during thetransform in `preprocessing_exc_tuple` in IPython 7.17 and above.\n",
      "  and should_run_async(code)\n"
     ]
    },
    {
     "output_type": "display_data",
     "data": {
      "text/plain": [
       "<Figure size 640x480 with 1 Axes>"
      ],
      "image/png": "[encoded data removed]"
     },
     "metadata": {}
    },
    {
     "output_type": "display_data",
     "data": {
      "text/plain": [
       "<Figure size 640x480 with 1 Axes>"
      ],
      "image/png": "[encoded data removed]"
     },
     "metadata": {}
    }
   ],
   "source": [
    "## run simulation\n",
    "ou_noise = OUActionNoise(mean=np.zeros(1)*0, std_deviation=float(std_dev*0) * np.ones(1))\n",
    "prev_state, _ = env.reset()\n",
    "# prev_state *= np.array([1, 0])\n",
    "# env.state *= np.array([1, 0])\n",
    "episodic_reward = 0\n",
    "state_array = []\n",
    "action_array = []\n",
    "while True:\n",
    "    # env.render()\n",
    "    tf_prev_state = keras.ops.expand_dims(\n",
    "            keras.ops.convert_to_tensor(prev_state), 0\n",
    "        )\n",
    "    action = policy(tf_prev_state, ou_noise)\n",
    "    state, reward, done, _, _ = env.step(action)\n",
    "    state_array.append(state)\n",
    "    action_array.append(action)\n",
    "    if done:\n",
    "        break\n",
    "    prev_state = state\n",
    "\n",
    "plt.plot(np.linspace(0, 10, num=len(state_array)),state_array)\n",
    "plt.xlabel(\"Time (sec)\")\n",
    "plt.ylabel(\"State\")\n",
    "plt.legend([\"cos theta\", \"sin theta\", \"theta dot\"])\n",
    "plt.show()\n",
    "\n",
    "plt.plot(np.linspace(0, 10, num=len(state_array)), action_array)\n",
    "plt.xlabel(\"Time (sec)\")\n",
    "plt.ylabel(\"action (N)\")\n",
    "plt.show()"
   ]
  },
  {
   "cell_type": "code",
   "source": [
    "# change bach size to 512 -----> Done!\n",
    "# reduce learning constans one order of magnetitude -----> Done!"
   ],
   "metadata": {
    "id": "NrgmKO_F4qK4"
   },
   "execution_count": 27,
   "outputs": []
  }
 ],
 "metadata": {
  "colab": {
   "provenance": []
  },
  "kernelspec": {
   "display_name": "Python 3",
   "name": "python3"
  },
  "language_info": {
   "codemirror_mode": {
    "name": "ipython",
    "version": 3
   },
   "file_extension": ".py",
   "mimetype": "text/x-python",
   "name": "python",
   "nbconvert_exporter": "python",
   "pygments_lexer": "ipython3",
   "version": "3.7.0"
  }
 },
 "nbformat": 4,
 "nbformat_minor": 0
}
